{
 "cells": [
  {
   "cell_type": "markdown",
   "id": "fb79ec03-40be-4251-8adf-f991bb33a954",
   "metadata": {},
   "source": [
    "# workflow of pytorch"
   ]
  },
  {
   "cell_type": "markdown",
   "id": "e50401c9-2e5e-4e0f-8be7-4c90e906f0ec",
   "metadata": {},
   "source": [
    "## Pytorch worlflow\n",
    "let's explore an example pytorch end to end workflow \n",
    "\n",
    "resoureces :\n",
    "* ground truth notebook -\n",
    "* book version of notebook\n",
    "* ask question     websiset"
   ]
  },
  {
   "cell_type": "code",
   "execution_count": 1,
   "id": "320a9436-a9f6-4947-8cdf-717a2aa093c9",
   "metadata": {},
   "outputs": [
    {
     "data": {
      "text/plain": [
       "{1: 'data (prepare and load)',\n",
       " 2: 'buildmodel',\n",
       " 3: 'fitting the model to data(training)',\n",
       " 4: 'making prediction and evaluating a model (interface)',\n",
       " 5: 'saving and loading model',\n",
       " 6: 'put it all together  '}"
      ]
     },
     "execution_count": 1,
     "metadata": {},
     "output_type": "execute_result"
    }
   ],
   "source": [
    "what_were_covering ={1:\"data (prepare and load)\",\n",
    "                     2:\"buildmodel\",\n",
    "                     3: \"fitting the model to data(training)\",\n",
    "                     4:\"making prediction and evaluating a model (interface)\",\n",
    "                      5:\"saving and loading model\",\n",
    "                      6:\"put it all together  \"}\n",
    "what_were_covering"
   ]
  },
  {
   "cell_type": "code",
   "execution_count": 2,
   "id": "c85c2247-1a74-4813-8faa-7a36bbefcf33",
   "metadata": {},
   "outputs": [
    {
     "data": {
      "text/plain": [
       "'2.1.1+cu121'"
      ]
     },
     "execution_count": 2,
     "metadata": {},
     "output_type": "execute_result"
    }
   ],
   "source": [
    "import torch\n",
    "from torch import nn # nn contain all of pytorch building blocks \n",
    "import matplotlib.pyplot as plt\n",
    "\n",
    "# chaeck pytorch version\n",
    "torch.__version__"
   ]
  },
  {
   "cell_type": "markdown",
   "id": "26d7aad3-72c9-4ea7-8820-505f66b53f27",
   "metadata": {},
   "source": [
    "## Data (prepraing aand loading )\n",
    "\n",
    "data can be almos anything ... in machine learning\n",
    "* excel\n",
    "* image of any kind\n",
    "* videos (youtube  has lots ..)\n",
    "* Audio like songs or podcast\n",
    "* DNA\n",
    "* Text\n",
    "\n",
    "Machine learning is a game of two parts\n",
    "1. aGet data into a numerical representation \n",
    "2. build a amodelto learn patters in that numerical data\n",
    "\n",
    "To showcase this , lets create some *known* data using the linear regression formula.\n",
    "\n",
    "we'll use a linear regression formua to make  strainght line with know parameters."
   ]
  },
  {
   "cell_type": "code",
   "execution_count": 3,
   "id": "251edde9-24f3-49d4-8785-c3d60bff13da",
   "metadata": {},
   "outputs": [
    {
     "data": {
      "text/plain": [
       "(tensor([[0.0000],\n",
       "         [0.0200],\n",
       "         [0.0400],\n",
       "         [0.0600],\n",
       "         [0.0800],\n",
       "         [0.1000],\n",
       "         [0.1200],\n",
       "         [0.1400],\n",
       "         [0.1600],\n",
       "         [0.1800]]),\n",
       " tensor([[0.3000],\n",
       "         [0.3140],\n",
       "         [0.3280],\n",
       "         [0.3420],\n",
       "         [0.3560],\n",
       "         [0.3700],\n",
       "         [0.3840],\n",
       "         [0.3980],\n",
       "         [0.4120],\n",
       "         [0.4260]]),\n",
       " 50,\n",
       " 50)"
      ]
     },
     "execution_count": 3,
     "metadata": {},
     "output_type": "execute_result"
    }
   ],
   "source": [
    "## create known parameter \n",
    "weight =0.7\n",
    "bias = 0.3\n",
    "# y =a+ bi\n",
    "# create\n",
    "start =0\n",
    "end = 1\n",
    "\n",
    "step =0.02\n",
    "X = torch.arange(start,end,step).unsqueeze(dim =1)\n",
    "y = weight *X + bias\n",
    "\n",
    "X[:10],y[:10] ,len(X) ,len(y)"
   ]
  },
  {
   "cell_type": "code",
   "execution_count": 4,
   "id": "bdfbed91-6ad6-4dc4-9981-81bc89176b42",
   "metadata": {},
   "outputs": [
    {
     "data": {
      "text/plain": [
       "(50, 50)"
      ]
     },
     "execution_count": 4,
     "metadata": {},
     "output_type": "execute_result"
    }
   ],
   "source": [
    "len(X) ,len(y)"
   ]
  },
  {
   "cell_type": "markdown",
   "id": "f508ec45-9bc5-466d-8551-73843447fae5",
   "metadata": {},
   "source": [
    "### spliting data into test sets \n"
   ]
  },
  {
   "cell_type": "code",
   "execution_count": 5,
   "id": "a5857b01-583b-4f2d-870c-5fad9b215637",
   "metadata": {},
   "outputs": [],
   "source": [
    "# create a train./test split\n",
    "train_split =int(0.8 *len(X))\n",
    "x_train,y_train = X[:train_split],y[:train_split]\n",
    "x_test ,y_test =X[train_split:],y[train_split:]"
   ]
  },
  {
   "cell_type": "code",
   "execution_count": 6,
   "id": "07141d83-25a3-4f69-b57d-e0d2b1a3d51d",
   "metadata": {},
   "outputs": [
    {
     "data": {
      "text/plain": [
       "tensor([[0.0000],\n",
       "        [0.0200],\n",
       "        [0.0400],\n",
       "        [0.0600],\n",
       "        [0.0800],\n",
       "        [0.1000],\n",
       "        [0.1200],\n",
       "        [0.1400],\n",
       "        [0.1600],\n",
       "        [0.1800],\n",
       "        [0.2000],\n",
       "        [0.2200],\n",
       "        [0.2400],\n",
       "        [0.2600],\n",
       "        [0.2800],\n",
       "        [0.3000],\n",
       "        [0.3200],\n",
       "        [0.3400],\n",
       "        [0.3600],\n",
       "        [0.3800],\n",
       "        [0.4000],\n",
       "        [0.4200],\n",
       "        [0.4400],\n",
       "        [0.4600],\n",
       "        [0.4800],\n",
       "        [0.5000],\n",
       "        [0.5200],\n",
       "        [0.5400],\n",
       "        [0.5600],\n",
       "        [0.5800],\n",
       "        [0.6000],\n",
       "        [0.6200],\n",
       "        [0.6400],\n",
       "        [0.6600],\n",
       "        [0.6800],\n",
       "        [0.7000],\n",
       "        [0.7200],\n",
       "        [0.7400],\n",
       "        [0.7600],\n",
       "        [0.7800]])"
      ]
     },
     "execution_count": 6,
     "metadata": {},
     "output_type": "execute_result"
    }
   ],
   "source": [
    "x_train"
   ]
  },
  {
   "cell_type": "code",
   "execution_count": 7,
   "id": "800d0e0f-9077-45d4-9494-2944f8ceda21",
   "metadata": {},
   "outputs": [
    {
     "data": {
      "text/plain": [
       "(40, 10, 40, 10)"
      ]
     },
     "execution_count": 7,
     "metadata": {},
     "output_type": "execute_result"
    }
   ],
   "source": [
    "len(x_train) ,len(x_test),len(y_train),len(y_test)"
   ]
  },
  {
   "cell_type": "code",
   "execution_count": 8,
   "id": "7da19191-2757-46d3-9190-aa162a10711f",
   "metadata": {},
   "outputs": [
    {
     "data": {
      "text/plain": [
       "(tensor([[0.0000],\n",
       "         [0.0200],\n",
       "         [0.0400],\n",
       "         [0.0600],\n",
       "         [0.0800],\n",
       "         [0.1000],\n",
       "         [0.1200],\n",
       "         [0.1400],\n",
       "         [0.1600],\n",
       "         [0.1800],\n",
       "         [0.2000],\n",
       "         [0.2200],\n",
       "         [0.2400],\n",
       "         [0.2600],\n",
       "         [0.2800],\n",
       "         [0.3000],\n",
       "         [0.3200],\n",
       "         [0.3400],\n",
       "         [0.3600],\n",
       "         [0.3800],\n",
       "         [0.4000],\n",
       "         [0.4200],\n",
       "         [0.4400],\n",
       "         [0.4600],\n",
       "         [0.4800],\n",
       "         [0.5000],\n",
       "         [0.5200],\n",
       "         [0.5400],\n",
       "         [0.5600],\n",
       "         [0.5800],\n",
       "         [0.6000],\n",
       "         [0.6200],\n",
       "         [0.6400],\n",
       "         [0.6600],\n",
       "         [0.6800],\n",
       "         [0.7000],\n",
       "         [0.7200],\n",
       "         [0.7400],\n",
       "         [0.7600],\n",
       "         [0.7800]]),\n",
       " tensor([[0.3000],\n",
       "         [0.3140],\n",
       "         [0.3280],\n",
       "         [0.3420],\n",
       "         [0.3560],\n",
       "         [0.3700],\n",
       "         [0.3840],\n",
       "         [0.3980],\n",
       "         [0.4120],\n",
       "         [0.4260],\n",
       "         [0.4400],\n",
       "         [0.4540],\n",
       "         [0.4680],\n",
       "         [0.4820],\n",
       "         [0.4960],\n",
       "         [0.5100],\n",
       "         [0.5240],\n",
       "         [0.5380],\n",
       "         [0.5520],\n",
       "         [0.5660],\n",
       "         [0.5800],\n",
       "         [0.5940],\n",
       "         [0.6080],\n",
       "         [0.6220],\n",
       "         [0.6360],\n",
       "         [0.6500],\n",
       "         [0.6640],\n",
       "         [0.6780],\n",
       "         [0.6920],\n",
       "         [0.7060],\n",
       "         [0.7200],\n",
       "         [0.7340],\n",
       "         [0.7480],\n",
       "         [0.7620],\n",
       "         [0.7760],\n",
       "         [0.7900],\n",
       "         [0.8040],\n",
       "         [0.8180],\n",
       "         [0.8320],\n",
       "         [0.8460]]))"
      ]
     },
     "execution_count": 8,
     "metadata": {},
     "output_type": "execute_result"
    }
   ],
   "source": [
    "x_train,y_train"
   ]
  },
  {
   "cell_type": "markdown",
   "id": "ae0e6f07-2c50-4dc4-b5b4-8a7364fdd24d",
   "metadata": {},
   "source": [
    "### visulaization of the data "
   ]
  },
  {
   "cell_type": "code",
   "execution_count": 9,
   "id": "9cf2c760-89a7-4dea-ad10-63ea2705ac8f",
   "metadata": {},
   "outputs": [],
   "source": [
    "def plot_prediction(train_data = x_train,\n",
    "                   train_label =y_train,\n",
    "                   test_data = x_test,\n",
    "                   test_label = y_test,\n",
    "                   predictions = None):\n",
    "    '''\n",
    "    plot the data ,test data  and compress prediction '''\n",
    "\n",
    "    plt.figure(figsize =(10,7))\n",
    "    \n",
    "    # plot training data in blue \n",
    "    plt.scatter(train_data,train_label,c='b',s=4,label = 'training data')\n",
    "\n",
    "    # plot test data in green \n",
    "    plt.scatter(test_data,test_label,c='g',s=4,label = 'testing data')\n",
    "\n",
    "    # are there prediction ?\n",
    "    if predictions is not None:\n",
    "        #plot the preediction  if they exist\n",
    "        plt.scatter(test_data,predictions,c='r',s=4,label = 'predictions')\n",
    "    plt.legend(prop={\"size\":14});\n",
    "        \n",
    "    \n"
   ]
  },
  {
   "cell_type": "code",
   "execution_count": 10,
   "id": "beb97586-c81a-4e24-a6c8-56f253a26d60",
   "metadata": {},
   "outputs": [
    {
     "data": {
      "image/png": "[encoded data removed]",
      "text/plain": [
       "<Figure size 1000x700 with 1 Axes>"
      ]
     },
     "metadata": {},
     "output_type": "display_data"
    }
   ],
   "source": [
    "plot_prediction();"
   ]
  },
  {
   "cell_type": "markdown",
   "id": "db51a5c8-3a7a-4723-9d42-d51ec73f16a1",
   "metadata": {},
   "source": [
    "### 2. Building model\n",
    "\n",
    "our first pytorch model\n",
    "\n",
    "because we are going to be biulding classes throughtout the course ,\n",
    "I'd recommend from real python \n",
    "what our model does:\n",
    "* starts with random values (weights &  bias)\n",
    "* look at training data and adjust the random values to better\n",
    "represent (or get closer to) the ideal values (the weights & bias values)\n",
    "\n",
    "How does it do so ?\n",
    "1. Gradient descent\n",
    "2. backpropogation"
   ]
  },
  {
   "cell_type": "code",
   "execution_count": null,
   "id": "a76b7f9f-ebe9-4409-9c44-d3e30ff55203",
   "metadata": {},
   "outputs": [],
   "source": []
  },
  {
   "cell_type": "code",
   "execution_count": null,
   "id": "69d21f5e-a4bc-4a28-9d38-5b3d3690e550",
   "metadata": {},
   "outputs": [],
   "source": []
  },
  {
   "cell_type": "code",
   "execution_count": 11,
   "id": "66affa1a-d31f-41b1-b313-851cfd84d871",
   "metadata": {},
   "outputs": [],
   "source": [
    "# create linear regression model class\n",
    "class LinearRegressionModel(nn.Module): # almost eveythinfg pytorch inherits from nn.Module\n",
    "    def __init__(self):\n",
    "        super().__init__()\n",
    "        self.weight = nn.Parameter(torch.randn(1, \n",
    "                                                requires_grad =True, ## \n",
    "                                                dtype = torch.float))\n",
    "        self.bias =nn.Parameter(torch.rand(1,requires_grad =True,\n",
    "                                          dtype= torch.float))\n",
    "        # forward method to define the computation in the model \n",
    "    def forward(self,x:torch.Tensor) -> torch.Tensor:\n",
    "        return self.weight*x + self.bias # this is the linear regression formula \n",
    "        \n",
    "    "
   ]
  },
  {
   "cell_type": "markdown",
   "id": "0df24be7-f36b-4917-862a-242250237767",
   "metadata": {},
   "source": [
    "### pytorch model building essentials \n",
    "* torch.nn -contains all of the buildings for computational graphs (a nueral network can be considered a computatuional graph)\n",
    "* torch.nn.parameter - what parameter should our model try and learn often a pytorch layer from torch.nn will set these for us \n",
    "* torch.nn.Modules -the base class for all neural network modules , if you subclass it, you should overwrite forward ()\n",
    "* torh.optmum  -this where the optimizer in pytorch live they will help with gradient decent\n",
    "* def forward() all nn.module subclasse require you to overwrite forward() , this method defines what happens in the forward computation\n",
    "* "
   ]
  },
  {
   "cell_type": "markdown",
   "id": "71b36984-fc5f-46e8-95aa-82b4f89471f3",
   "metadata": {},
   "source": [
    "### checking the content of our pytorch \n",
    "\n",
    "now we've  created  a model , let's seee what's inside....\n",
    "\n",
    "so we can chcek our model parameter or  what's inside our model  torch.parameter()"
   ]
  },
  {
   "cell_type": "code",
   "execution_count": 12,
   "id": "f89dc5ce-963b-4c2e-a5d0-83137b60434b",
   "metadata": {},
   "outputs": [
    {
     "data": {
      "text/plain": [
       "[Parameter containing:\n",
       " tensor([0.3367], requires_grad=True),\n",
       " Parameter containing:\n",
       " tensor([0.3904], requires_grad=True)]"
      ]
     },
     "execution_count": 12,
     "metadata": {},
     "output_type": "execute_result"
    }
   ],
   "source": [
    "# create a random seed\n",
    "random_seed = 42\n",
    "torch.manual_seed(random_seed)\n",
    "\n",
    "# created an isntance of the model (this is a subclass of nn.Module )\n",
    "model_0= LinearRegressionModel()\n",
    "list(model_0.parameters())"
   ]
  },
  {
   "cell_type": "code",
   "execution_count": 13,
   "id": "c36037c5-7972-46cb-a8db-0ad3dce02560",
   "metadata": {},
   "outputs": [
    {
     "data": {
      "text/plain": [
       "OrderedDict([('weight', tensor([0.3367])), ('bias', tensor([0.3904]))])"
      ]
     },
     "execution_count": 13,
     "metadata": {},
     "output_type": "execute_result"
    }
   ],
   "source": [
    "model_0.state_dict()"
   ]
  },
  {
   "cell_type": "code",
   "execution_count": null,
   "id": "4f3a4842-828e-4456-aa0a-c4b10c2321d6",
   "metadata": {},
   "outputs": [],
   "source": []
  },
  {
   "cell_type": "code",
   "execution_count": 14,
   "id": "54b3dbc0-37f8-4356-a55f-023b7665c054",
   "metadata": {},
   "outputs": [
    {
     "data": {
      "text/plain": [
       "(tensor([[0.8000],\n",
       "         [0.8200],\n",
       "         [0.8400],\n",
       "         [0.8600],\n",
       "         [0.8800],\n",
       "         [0.9000],\n",
       "         [0.9200],\n",
       "         [0.9400],\n",
       "         [0.9600],\n",
       "         [0.9800]]),\n",
       " tensor([[0.8600],\n",
       "         [0.8740],\n",
       "         [0.8880],\n",
       "         [0.9020],\n",
       "         [0.9160],\n",
       "         [0.9300],\n",
       "         [0.9440],\n",
       "         [0.9580],\n",
       "         [0.9720],\n",
       "         [0.9860]]))"
      ]
     },
     "execution_count": 14,
     "metadata": {},
     "output_type": "execute_result"
    }
   ],
   "source": [
    "x_test,y_test"
   ]
  },
  {
   "cell_type": "markdown",
   "id": "292dc964-8d59-4201-93d1-081be9dfad86",
   "metadata": {},
   "source": [
    "### making prediction using torch.inference_mode)\n",
    "\n",
    "to check our model's predictive paper let's see how well it predicts y_test based on x_test\n",
    "\n",
    "whsen we pass through our model  it' going to run it trough the forward() method\n"
   ]
  },
  {
   "cell_type": "code",
   "execution_count": 15,
   "id": "ed6fad11-b9b1-4dd1-9b05-cbf9660c7353",
   "metadata": {},
   "outputs": [
    {
     "data": {
      "text/plain": [
       "tensor([[0.6598],\n",
       "        [0.6665],\n",
       "        [0.6733],\n",
       "        [0.6800],\n",
       "        [0.6867],\n",
       "        [0.6935],\n",
       "        [0.7002],\n",
       "        [0.7069],\n",
       "        [0.7137],\n",
       "        [0.7204]])"
      ]
     },
     "execution_count": 15,
     "metadata": {},
     "output_type": "execute_result"
    }
   ],
   "source": [
    "## make prediction  with model\n",
    "with torch.inference_mode():\n",
    "    y_pred = model_0(x_test)\n",
    "with torch.no_grad():\n",
    "    y_pred =model_0(x_test)\n",
    "y_pred"
   ]
  },
  {
   "cell_type": "code",
   "execution_count": 16,
   "id": "1d9e9b7d-6838-462a-bce9-d0613ad4616c",
   "metadata": {},
   "outputs": [
    {
     "data": {
      "image/png": "[encoded data removed]",
      "text/plain": [
       "<Figure size 1000x700 with 1 Axes>"
      ]
     },
     "metadata": {},
     "output_type": "display_data"
    }
   ],
   "source": [
    "plot_prediction(predictions = y_pred)"
   ]
  },
  {
   "cell_type": "code",
   "execution_count": null,
   "id": "4b5ed54d-b283-4527-ae5a-d83f94887df1",
   "metadata": {},
   "outputs": [],
   "source": []
  },
  {
   "cell_type": "markdown",
   "id": "44becce0-eeca-42dc-9881-f86b70ee0c28",
   "metadata": {},
   "source": [
    "### train model \n",
    "the whole idea of the training is for a model to move from some unkonwn parameter (these may be random ) to some known parameters \\\n",
    "\n",
    "or in other from a poor representation of the dat a better representation of the data\n",
    "\n",
    "one way to measure how wrong your models predictions are is to use a loss function \n",
    "\n",
    "* Note : Loss function may also be called cost function in differernt ares .For our csse we are going to refer to it A  loss function\n",
    "\n",
    "* **Loss FUnction**  A function to measure how wrong your model predection are to he ideal outputs . lower is better\n",
    "* **optimizer** Take into account the loss of a model and adjusts the models's parameters (e.g. weights & bias) in this case to improve the loss function\n",
    "  parameters of optipmizer\n",
    "  * params = the model paramters you'll liked to opmize for example params = model_o.parameters()\n",
    "  * lr(learning rate ) - the learning rate is a hyperparameter that defines how big/small the optimizer changes the parameters\n",
    "A nd specify for pytorch we need:\n",
    "* a training loop\n",
    "* a testing loop"
   ]
  },
  {
   "cell_type": "code",
   "execution_count": 17,
   "id": "142dc457-e851-40d8-93eb-294ea5ff6c4b",
   "metadata": {},
   "outputs": [
    {
     "data": {
      "text/plain": [
       "[Parameter containing:\n",
       " tensor([0.3367], requires_grad=True),\n",
       " Parameter containing:\n",
       " tensor([0.3904], requires_grad=True)]"
      ]
     },
     "execution_count": 17,
     "metadata": {},
     "output_type": "execute_result"
    }
   ],
   "source": [
    "list(model_0.parameters())"
   ]
  },
  {
   "cell_type": "code",
   "execution_count": null,
   "id": "09b38a39-2f60-4193-a9a5-6015da8bfacd",
   "metadata": {},
   "outputs": [],
   "source": []
  },
  {
   "cell_type": "code",
   "execution_count": 18,
   "id": "2916f927-2588-4eec-9d5e-542c6a49154a",
   "metadata": {},
   "outputs": [],
   "source": [
    "# setup a loss function  many function are avilabel\n",
    "loss_fn = nn.L1Loss()\n",
    "\n",
    "#setup an optmizer \n",
    "optimizer = torch.optim.SGD(params = model_0.parameters(),\n",
    "                          lr = 0.01 ) # learning rate = possibly the most important hyperparameter  we can set  "
   ]
  },
  {
   "cell_type": "code",
   "execution_count": 19,
   "id": "4e187dd4-1de8-4bd6-b4e7-1a35b91dcb6f",
   "metadata": {},
   "outputs": [
    {
     "data": {
      "text/plain": [
       "L1Loss()"
      ]
     },
     "execution_count": 19,
     "metadata": {},
     "output_type": "execute_result"
    }
   ],
   "source": [
    "loss_fn"
   ]
  },
  {
   "cell_type": "markdown",
   "id": "ed4dbe3b-cc77-4ba6-9a4d-036c0441bb0a",
   "metadata": {},
   "source": [
    "### building a traning and testing loop in pytorch \n",
    "\n",
    "A couple of things we need in a traning loop:\n",
    "\n",
    "0. Loop through the data\n",
    "1. forward pass(this involves dat moving through our moedel's forwars() function -also called forward propogation\n",
    "2. calculate the loss compare forward pass predictions to ground truth labels\n",
    "3. optmizer zero grad\n",
    "4. loss backward - move backward throug the network to calculate the gradient of each of the parameter of our odles with respect to the loss (**backpropogation**)\n",
    "5. optimizer step - use the optmixer to adjust our model's parameters to try and improve the loss (**gradient decnet**)\n",
    "6. "
   ]
  },
  {
   "cell_type": "code",
   "execution_count": 20,
   "id": "6e57d5aa-0688-4ec4-a9c6-66860ff6b21e",
   "metadata": {},
   "outputs": [
    {
     "data": {
      "text/plain": [
       "[Parameter containing:\n",
       " tensor([0.3367], requires_grad=True),\n",
       " Parameter containing:\n",
       " tensor([0.3904], requires_grad=True)]"
      ]
     },
     "execution_count": 20,
     "metadata": {},
     "output_type": "execute_result"
    }
   ],
   "source": [
    "list(model_0.eval().parameters())\n"
   ]
  },
  {
   "cell_type": "code",
   "execution_count": 21,
   "id": "5224aafe-3fc1-4914-877e-f86faebacc40",
   "metadata": {},
   "outputs": [],
   "source": [
    "list(model_0.eval().parameters())\n",
    "with torch.no_grad():\n",
    " list(model_0.parameters())"
   ]
  },
  {
   "cell_type": "code",
   "execution_count": 22,
   "id": "07e20e93-2d3e-4abf-a3d2-7dbabf6c19ab",
   "metadata": {},
   "outputs": [
    {
     "name": "stdout",
     "output_type": "stream",
     "text": [
      "loss :  tensor(0.0817, grad_fn=<MeanBackward0>)\n",
      "\n",
      "epoch :0 | test : 0.08169572055339813 | test loss : 0.22662055492401123\n",
      "OrderedDict([('weight', tensor([0.3398])), ('bias', tensor([0.3939]))])\n",
      "loss :  tensor(0.0795, grad_fn=<MeanBackward0>)\n",
      "\n",
      "loss :  tensor(0.0777, grad_fn=<MeanBackward0>)\n",
      "\n",
      "loss :  tensor(0.0760, grad_fn=<MeanBackward0>)\n",
      "\n",
      "loss :  tensor(0.0745, grad_fn=<MeanBackward0>)\n",
      "\n",
      "loss :  tensor(0.0731, grad_fn=<MeanBackward0>)\n",
      "\n",
      "loss :  tensor(0.0720, grad_fn=<MeanBackward0>)\n",
      "\n",
      "loss :  tensor(0.0708, grad_fn=<MeanBackward0>)\n",
      "\n",
      "loss :  tensor(0.0698, grad_fn=<MeanBackward0>)\n",
      "\n",
      "loss :  tensor(0.0690, grad_fn=<MeanBackward0>)\n",
      "\n",
      "loss :  tensor(0.0681, grad_fn=<MeanBackward0>)\n",
      "\n",
      "epoch :10 | test : 0.06808149069547653 | test loss : 0.1807345449924469\n",
      "OrderedDict([('weight', tensor([0.3672])), ('bias', tensor([0.4154]))])\n",
      "loss :  tensor(0.0673, grad_fn=<MeanBackward0>)\n",
      "\n",
      "loss :  tensor(0.0667, grad_fn=<MeanBackward0>)\n",
      "\n",
      "loss :  tensor(0.0660, grad_fn=<MeanBackward0>)\n",
      "\n",
      "loss :  tensor(0.0654, grad_fn=<MeanBackward0>)\n",
      "\n",
      "loss :  tensor(0.0649, grad_fn=<MeanBackward0>)\n",
      "\n",
      "loss :  tensor(0.0644, grad_fn=<MeanBackward0>)\n",
      "\n",
      "loss :  tensor(0.0639, grad_fn=<MeanBackward0>)\n",
      "\n",
      "loss :  tensor(0.0634, grad_fn=<MeanBackward0>)\n",
      "\n",
      "loss :  tensor(0.0630, grad_fn=<MeanBackward0>)\n",
      "\n",
      "loss :  tensor(0.0626, grad_fn=<MeanBackward0>)\n",
      "\n",
      "epoch :20 | test : 0.06258393079042435 | test loss : 0.15627031028270721\n",
      "OrderedDict([('weight', tensor([0.3891])), ('bias', tensor([0.4204]))])\n",
      "loss :  tensor(0.0622, grad_fn=<MeanBackward0>)\n",
      "\n",
      "loss :  tensor(0.0618, grad_fn=<MeanBackward0>)\n",
      "\n",
      "loss :  tensor(0.0614, grad_fn=<MeanBackward0>)\n",
      "\n",
      "loss :  tensor(0.0610, grad_fn=<MeanBackward0>)\n",
      "\n",
      "loss :  tensor(0.0606, grad_fn=<MeanBackward0>)\n",
      "\n",
      "loss :  tensor(0.0602, grad_fn=<MeanBackward0>)\n",
      "\n",
      "loss :  tensor(0.0598, grad_fn=<MeanBackward0>)\n",
      "\n",
      "loss :  tensor(0.0595, grad_fn=<MeanBackward0>)\n",
      "\n",
      "loss :  tensor(0.0591, grad_fn=<MeanBackward0>)\n",
      "\n",
      "loss :  tensor(0.0588, grad_fn=<MeanBackward0>)\n",
      "\n",
      "epoch :30 | test : 0.05879194289445877 | test loss : 0.1418602615594864\n",
      "OrderedDict([('weight', tensor([0.4081])), ('bias', tensor([0.4179]))])\n",
      "loss :  tensor(0.0584, grad_fn=<MeanBackward0>)\n",
      "\n",
      "loss :  tensor(0.0581, grad_fn=<MeanBackward0>)\n",
      "\n",
      "loss :  tensor(0.0577, grad_fn=<MeanBackward0>)\n",
      "\n",
      "loss :  tensor(0.0574, grad_fn=<MeanBackward0>)\n",
      "\n",
      "loss :  tensor(0.0570, grad_fn=<MeanBackward0>)\n",
      "\n",
      "loss :  tensor(0.0567, grad_fn=<MeanBackward0>)\n",
      "\n",
      "loss :  tensor(0.0563, grad_fn=<MeanBackward0>)\n",
      "\n",
      "loss :  tensor(0.0560, grad_fn=<MeanBackward0>)\n",
      "\n",
      "loss :  tensor(0.0557, grad_fn=<MeanBackward0>)\n",
      "\n",
      "loss :  tensor(0.0553, grad_fn=<MeanBackward0>)\n",
      "\n",
      "epoch :40 | test : 0.05530194193124771 | test loss : 0.13084018230438232\n",
      "OrderedDict([('weight', tensor([0.4261])), ('bias', tensor([0.4129]))])\n",
      "loss :  tensor(0.0550, grad_fn=<MeanBackward0>)\n",
      "\n",
      "loss :  tensor(0.0546, grad_fn=<MeanBackward0>)\n",
      "\n",
      "loss :  tensor(0.0543, grad_fn=<MeanBackward0>)\n",
      "\n",
      "loss :  tensor(0.0539, grad_fn=<MeanBackward0>)\n",
      "\n",
      "loss :  tensor(0.0536, grad_fn=<MeanBackward0>)\n",
      "\n",
      "loss :  tensor(0.0532, grad_fn=<MeanBackward0>)\n",
      "\n",
      "loss :  tensor(0.0529, grad_fn=<MeanBackward0>)\n",
      "\n",
      "loss :  tensor(0.0525, grad_fn=<MeanBackward0>)\n",
      "\n",
      "loss :  tensor(0.0522, grad_fn=<MeanBackward0>)\n",
      "\n",
      "loss :  tensor(0.0518, grad_fn=<MeanBackward0>)\n",
      "\n",
      "epoch :50 | test : 0.051822252571582794 | test loss : 0.12050700187683105\n",
      "OrderedDict([('weight', tensor([0.4439])), ('bias', tensor([0.4074]))])\n",
      "loss :  tensor(0.0515, grad_fn=<MeanBackward0>)\n",
      "\n",
      "loss :  tensor(0.0511, grad_fn=<MeanBackward0>)\n",
      "\n",
      "loss :  tensor(0.0508, grad_fn=<MeanBackward0>)\n",
      "\n",
      "loss :  tensor(0.0504, grad_fn=<MeanBackward0>)\n",
      "\n",
      "loss :  tensor(0.0501, grad_fn=<MeanBackward0>)\n",
      "\n",
      "loss :  tensor(0.0498, grad_fn=<MeanBackward0>)\n",
      "\n",
      "loss :  tensor(0.0494, grad_fn=<MeanBackward0>)\n",
      "\n",
      "loss :  tensor(0.0491, grad_fn=<MeanBackward0>)\n",
      "\n",
      "loss :  tensor(0.0487, grad_fn=<MeanBackward0>)\n",
      "\n",
      "loss :  tensor(0.0484, grad_fn=<MeanBackward0>)\n",
      "\n",
      "epoch :60 | test : 0.04838593676686287 | test loss : 0.11223447322845459\n",
      "OrderedDict([('weight', tensor([0.4610])), ('bias', tensor([0.4004]))])\n",
      "loss :  tensor(0.0480, grad_fn=<MeanBackward0>)\n",
      "\n",
      "loss :  tensor(0.0477, grad_fn=<MeanBackward0>)\n",
      "\n",
      "loss :  tensor(0.0474, grad_fn=<MeanBackward0>)\n",
      "\n",
      "loss :  tensor(0.0470, grad_fn=<MeanBackward0>)\n",
      "\n",
      "loss :  tensor(0.0467, grad_fn=<MeanBackward0>)\n",
      "\n",
      "loss :  tensor(0.0463, grad_fn=<MeanBackward0>)\n",
      "\n",
      "loss :  tensor(0.0460, grad_fn=<MeanBackward0>)\n",
      "\n",
      "loss :  tensor(0.0456, grad_fn=<MeanBackward0>)\n",
      "\n",
      "loss :  tensor(0.0453, grad_fn=<MeanBackward0>)\n",
      "\n",
      "loss :  tensor(0.0449, grad_fn=<MeanBackward0>)\n",
      "\n",
      "epoch :70 | test : 0.044948760420084 | test loss : 0.10464880615472794\n",
      "OrderedDict([('weight', tensor([0.4780])), ('bias', tensor([0.3929]))])\n",
      "loss :  tensor(0.0446, grad_fn=<MeanBackward0>)\n",
      "\n",
      "loss :  tensor(0.0443, grad_fn=<MeanBackward0>)\n",
      "\n",
      "loss :  tensor(0.0439, grad_fn=<MeanBackward0>)\n",
      "\n",
      "loss :  tensor(0.0436, grad_fn=<MeanBackward0>)\n",
      "\n",
      "loss :  tensor(0.0432, grad_fn=<MeanBackward0>)\n",
      "\n",
      "loss :  tensor(0.0429, grad_fn=<MeanBackward0>)\n",
      "\n",
      "loss :  tensor(0.0425, grad_fn=<MeanBackward0>)\n",
      "\n",
      "loss :  tensor(0.0422, grad_fn=<MeanBackward0>)\n",
      "\n",
      "loss :  tensor(0.0419, grad_fn=<MeanBackward0>)\n",
      "\n",
      "loss :  tensor(0.0415, grad_fn=<MeanBackward0>)\n",
      "\n",
      "epoch :80 | test : 0.04152031987905502 | test loss : 0.09637625515460968\n",
      "OrderedDict([('weight', tensor([0.4951])), ('bias', tensor([0.3859]))])\n",
      "loss :  tensor(0.0412, grad_fn=<MeanBackward0>)\n",
      "\n",
      "loss :  tensor(0.0408, grad_fn=<MeanBackward0>)\n",
      "\n",
      "loss :  tensor(0.0405, grad_fn=<MeanBackward0>)\n",
      "\n",
      "loss :  tensor(0.0401, grad_fn=<MeanBackward0>)\n",
      "\n",
      "loss :  tensor(0.0398, grad_fn=<MeanBackward0>)\n",
      "\n",
      "loss :  tensor(0.0395, grad_fn=<MeanBackward0>)\n",
      "\n",
      "loss :  tensor(0.0391, grad_fn=<MeanBackward0>)\n",
      "\n",
      "loss :  tensor(0.0388, grad_fn=<MeanBackward0>)\n",
      "\n",
      "loss :  tensor(0.0384, grad_fn=<MeanBackward0>)\n",
      "\n",
      "loss :  tensor(0.0381, grad_fn=<MeanBackward0>)\n",
      "\n",
      "epoch :90 | test : 0.03808232396841049 | test loss : 0.08810374140739441\n",
      "OrderedDict([('weight', tensor([0.5123])), ('bias', tensor([0.3789]))])\n",
      "loss :  tensor(0.0377, grad_fn=<MeanBackward0>)\n",
      "\n",
      "loss :  tensor(0.0374, grad_fn=<MeanBackward0>)\n",
      "\n",
      "loss :  tensor(0.0371, grad_fn=<MeanBackward0>)\n",
      "\n",
      "loss :  tensor(0.0367, grad_fn=<MeanBackward0>)\n",
      "\n",
      "loss :  tensor(0.0364, grad_fn=<MeanBackward0>)\n",
      "\n",
      "loss :  tensor(0.0360, grad_fn=<MeanBackward0>)\n",
      "\n",
      "loss :  tensor(0.0357, grad_fn=<MeanBackward0>)\n",
      "\n",
      "loss :  tensor(0.0353, grad_fn=<MeanBackward0>)\n",
      "\n",
      "loss :  tensor(0.0350, grad_fn=<MeanBackward0>)\n",
      "\n",
      "loss :  tensor(0.0346, grad_fn=<MeanBackward0>)\n",
      "\n",
      "epoch :100 | test : 0.034646838903427124 | test loss : 0.08051808178424835\n",
      "OrderedDict([('weight', tensor([0.5293])), ('bias', tensor([0.3714]))])\n",
      "loss :  tensor(0.0343, grad_fn=<MeanBackward0>)\n",
      "\n",
      "loss :  tensor(0.0340, grad_fn=<MeanBackward0>)\n",
      "\n",
      "loss :  tensor(0.0336, grad_fn=<MeanBackward0>)\n",
      "\n",
      "loss :  tensor(0.0333, grad_fn=<MeanBackward0>)\n",
      "\n",
      "loss :  tensor(0.0329, grad_fn=<MeanBackward0>)\n",
      "\n",
      "loss :  tensor(0.0326, grad_fn=<MeanBackward0>)\n",
      "\n",
      "loss :  tensor(0.0322, grad_fn=<MeanBackward0>)\n",
      "\n",
      "loss :  tensor(0.0319, grad_fn=<MeanBackward0>)\n",
      "\n",
      "loss :  tensor(0.0316, grad_fn=<MeanBackward0>)\n",
      "\n",
      "loss :  tensor(0.0312, grad_fn=<MeanBackward0>)\n",
      "\n",
      "epoch :110 | test : 0.031217509880661964 | test loss : 0.0722455382347107\n",
      "OrderedDict([('weight', tensor([0.5464])), ('bias', tensor([0.3644]))])\n",
      "loss :  tensor(0.0309, grad_fn=<MeanBackward0>)\n",
      "\n",
      "loss :  tensor(0.0305, grad_fn=<MeanBackward0>)\n",
      "\n",
      "loss :  tensor(0.0302, grad_fn=<MeanBackward0>)\n",
      "\n",
      "loss :  tensor(0.0298, grad_fn=<MeanBackward0>)\n",
      "\n",
      "loss :  tensor(0.0295, grad_fn=<MeanBackward0>)\n",
      "\n",
      "loss :  tensor(0.0292, grad_fn=<MeanBackward0>)\n",
      "\n",
      "loss :  tensor(0.0288, grad_fn=<MeanBackward0>)\n",
      "\n",
      "loss :  tensor(0.0285, grad_fn=<MeanBackward0>)\n",
      "\n",
      "loss :  tensor(0.0281, grad_fn=<MeanBackward0>)\n",
      "\n",
      "loss :  tensor(0.0278, grad_fn=<MeanBackward0>)\n",
      "\n",
      "epoch :120 | test : 0.027778705582022667 | test loss : 0.06397300213575363\n",
      "OrderedDict([('weight', tensor([0.5636])), ('bias', tensor([0.3574]))])\n",
      "loss :  tensor(0.0274, grad_fn=<MeanBackward0>)\n",
      "\n",
      "loss :  tensor(0.0271, grad_fn=<MeanBackward0>)\n",
      "\n",
      "loss :  tensor(0.0267, grad_fn=<MeanBackward0>)\n",
      "\n",
      "loss :  tensor(0.0264, grad_fn=<MeanBackward0>)\n",
      "\n",
      "loss :  tensor(0.0261, grad_fn=<MeanBackward0>)\n",
      "\n",
      "loss :  tensor(0.0257, grad_fn=<MeanBackward0>)\n",
      "\n",
      "loss :  tensor(0.0254, grad_fn=<MeanBackward0>)\n",
      "\n",
      "loss :  tensor(0.0250, grad_fn=<MeanBackward0>)\n",
      "\n",
      "loss :  tensor(0.0247, grad_fn=<MeanBackward0>)\n",
      "\n",
      "loss :  tensor(0.0243, grad_fn=<MeanBackward0>)\n",
      "\n",
      "epoch :130 | test : 0.024344902485609055 | test loss : 0.05638733506202698\n",
      "OrderedDict([('weight', tensor([0.5805])), ('bias', tensor([0.3499]))])\n",
      "loss :  tensor(0.0240, grad_fn=<MeanBackward0>)\n",
      "\n",
      "loss :  tensor(0.0237, grad_fn=<MeanBackward0>)\n",
      "\n",
      "loss :  tensor(0.0233, grad_fn=<MeanBackward0>)\n",
      "\n",
      "loss :  tensor(0.0230, grad_fn=<MeanBackward0>)\n",
      "\n",
      "loss :  tensor(0.0226, grad_fn=<MeanBackward0>)\n",
      "\n",
      "loss :  tensor(0.0223, grad_fn=<MeanBackward0>)\n",
      "\n",
      "loss :  tensor(0.0219, grad_fn=<MeanBackward0>)\n",
      "\n",
      "loss :  tensor(0.0216, grad_fn=<MeanBackward0>)\n",
      "\n",
      "loss :  tensor(0.0213, grad_fn=<MeanBackward0>)\n",
      "\n",
      "loss :  tensor(0.0209, grad_fn=<MeanBackward0>)\n",
      "\n",
      "epoch :140 | test : 0.020913895219564438 | test loss : 0.04811479523777962\n",
      "OrderedDict([('weight', tensor([0.5977])), ('bias', tensor([0.3429]))])\n",
      "loss :  tensor(0.0206, grad_fn=<MeanBackward0>)\n",
      "\n",
      "loss :  tensor(0.0202, grad_fn=<MeanBackward0>)\n",
      "\n",
      "loss :  tensor(0.0199, grad_fn=<MeanBackward0>)\n",
      "\n",
      "loss :  tensor(0.0195, grad_fn=<MeanBackward0>)\n",
      "\n",
      "loss :  tensor(0.0192, grad_fn=<MeanBackward0>)\n",
      "\n",
      "loss :  tensor(0.0188, grad_fn=<MeanBackward0>)\n",
      "\n",
      "loss :  tensor(0.0185, grad_fn=<MeanBackward0>)\n",
      "\n",
      "loss :  tensor(0.0182, grad_fn=<MeanBackward0>)\n",
      "\n",
      "loss :  tensor(0.0178, grad_fn=<MeanBackward0>)\n",
      "\n",
      "loss :  tensor(0.0175, grad_fn=<MeanBackward0>)\n",
      "\n",
      "epoch :150 | test : 0.017475087195634842 | test loss : 0.03984225541353226\n",
      "OrderedDict([('weight', tensor([0.6148])), ('bias', tensor([0.3359]))])\n",
      "loss :  tensor(0.0171, grad_fn=<MeanBackward0>)\n",
      "\n",
      "loss :  tensor(0.0168, grad_fn=<MeanBackward0>)\n",
      "\n",
      "loss :  tensor(0.0164, grad_fn=<MeanBackward0>)\n",
      "\n",
      "loss :  tensor(0.0161, grad_fn=<MeanBackward0>)\n",
      "\n",
      "loss :  tensor(0.0158, grad_fn=<MeanBackward0>)\n",
      "\n",
      "loss :  tensor(0.0154, grad_fn=<MeanBackward0>)\n",
      "\n",
      "loss :  tensor(0.0151, grad_fn=<MeanBackward0>)\n",
      "\n",
      "loss :  tensor(0.0147, grad_fn=<MeanBackward0>)\n",
      "\n",
      "loss :  tensor(0.0144, grad_fn=<MeanBackward0>)\n",
      "\n",
      "loss :  tensor(0.0140, grad_fn=<MeanBackward0>)\n",
      "\n",
      "epoch :160 | test : 0.014042967930436134 | test loss : 0.0322565920650959\n",
      "OrderedDict([('weight', tensor([0.6318])), ('bias', tensor([0.3284]))])\n",
      "loss :  tensor(0.0137, grad_fn=<MeanBackward0>)\n",
      "\n",
      "loss :  tensor(0.0134, grad_fn=<MeanBackward0>)\n",
      "\n",
      "loss :  tensor(0.0130, grad_fn=<MeanBackward0>)\n",
      "\n",
      "loss :  tensor(0.0127, grad_fn=<MeanBackward0>)\n",
      "\n",
      "loss :  tensor(0.0123, grad_fn=<MeanBackward0>)\n",
      "\n",
      "loss :  tensor(0.0120, grad_fn=<MeanBackward0>)\n",
      "\n",
      "loss :  tensor(0.0116, grad_fn=<MeanBackward0>)\n",
      "\n",
      "loss :  tensor(0.0113, grad_fn=<MeanBackward0>)\n",
      "\n",
      "loss :  tensor(0.0110, grad_fn=<MeanBackward0>)\n",
      "\n",
      "loss :  tensor(0.0106, grad_fn=<MeanBackward0>)\n",
      "\n",
      "epoch :170 | test : 0.010610274039208889 | test loss : 0.02398405596613884\n",
      "OrderedDict([('weight', tensor([0.6490])), ('bias', tensor([0.3214]))])\n",
      "loss :  tensor(0.0103, grad_fn=<MeanBackward0>)\n",
      "\n",
      "loss :  tensor(0.0099, grad_fn=<MeanBackward0>)\n",
      "\n",
      "loss :  tensor(0.0096, grad_fn=<MeanBackward0>)\n",
      "\n",
      "loss :  tensor(0.0092, grad_fn=<MeanBackward0>)\n",
      "\n",
      "loss :  tensor(0.0089, grad_fn=<MeanBackward0>)\n",
      "\n",
      "loss :  tensor(0.0085, grad_fn=<MeanBackward0>)\n",
      "\n",
      "loss :  tensor(0.0082, grad_fn=<MeanBackward0>)\n",
      "\n",
      "loss :  tensor(0.0079, grad_fn=<MeanBackward0>)\n",
      "\n",
      "loss :  tensor(0.0075, grad_fn=<MeanBackward0>)\n",
      "\n",
      "loss :  tensor(0.0072, grad_fn=<MeanBackward0>)\n",
      "\n",
      "epoch :180 | test : 0.007171472068876028 | test loss : 0.015711510553956032\n",
      "OrderedDict([('weight', tensor([0.6661])), ('bias', tensor([0.3144]))])\n",
      "loss :  tensor(0.0068, grad_fn=<MeanBackward0>)\n",
      "\n",
      "loss :  tensor(0.0065, grad_fn=<MeanBackward0>)\n",
      "\n",
      "loss :  tensor(0.0061, grad_fn=<MeanBackward0>)\n",
      "\n",
      "loss :  tensor(0.0058, grad_fn=<MeanBackward0>)\n",
      "\n",
      "loss :  tensor(0.0055, grad_fn=<MeanBackward0>)\n",
      "\n",
      "loss :  tensor(0.0051, grad_fn=<MeanBackward0>)\n",
      "\n",
      "loss :  tensor(0.0048, grad_fn=<MeanBackward0>)\n",
      "\n",
      "loss :  tensor(0.0044, grad_fn=<MeanBackward0>)\n",
      "\n",
      "loss :  tensor(0.0041, grad_fn=<MeanBackward0>)\n",
      "\n",
      "loss :  tensor(0.0037, grad_fn=<MeanBackward0>)\n",
      "\n",
      "epoch :190 | test : 0.003741039428859949 | test loss : 0.008125847205519676\n",
      "OrderedDict([('weight', tensor([0.6831])), ('bias', tensor([0.3069]))])\n",
      "loss :  tensor(0.0034, grad_fn=<MeanBackward0>)\n",
      "\n",
      "loss :  tensor(0.0031, grad_fn=<MeanBackward0>)\n",
      "\n",
      "loss :  tensor(0.0027, grad_fn=<MeanBackward0>)\n",
      "\n",
      "loss :  tensor(0.0024, grad_fn=<MeanBackward0>)\n",
      "\n",
      "loss :  tensor(0.0020, grad_fn=<MeanBackward0>)\n",
      "\n",
      "loss :  tensor(0.0017, grad_fn=<MeanBackward0>)\n",
      "\n",
      "loss :  tensor(0.0018, grad_fn=<MeanBackward0>)\n",
      "\n",
      "loss :  tensor(0.0050, grad_fn=<MeanBackward0>)\n",
      "\n",
      "loss :  tensor(0.0066, grad_fn=<MeanBackward0>)\n",
      "\n"
     ]
    }
   ],
   "source": [
    "# An epoch is one loop through the data ....(this is a hyperparameter beacuse we'have set it by ourselves)\n",
    "epochs = 200\n",
    "\n",
    "epoch_value =[]\n",
    "loss_values =[]\n",
    "test_loss_values=[]\n",
    "### training loop\n",
    "# 0. loop through the data \n",
    "for epoch in range(epochs):\n",
    "    # set the model to training mode\n",
    "    model_0.train() #train model in pytorch set  all parameters that requires gradient\n",
    "\n",
    "    #1 forward pass \n",
    "    y_pred = model_0(x_train)\n",
    "    \n",
    "    #2. calculate the loss\n",
    "    loss = loss_fn(y_pred,y_train)\n",
    "    print('loss : ',loss)\n",
    "    print()\n",
    "    \n",
    "    #3. optmixer zero grad \n",
    "    optimizer.zero_grad() # by default how the optmizer will accumulate the loops so ..... we have to zero then above in step 3 for the next iteration of the the loop \n",
    "    \n",
    "    \n",
    "    #4. perform bavkpropogation on the loss with respect to the parameter of the model \n",
    "    loss.backward()\n",
    "    \n",
    "    #5. setp the optmizer (perform gradient decent )\n",
    "    optimizer.step()\n",
    "    \n",
    "    \n",
    "    ## testing \n",
    "    model_0.eval() # turn off different setting in the model not neede for evaluation /testing (dropout layers )\n",
    "    with torch.inference_mode(): # turn off gradient tracking &a  couple more things behind the \n",
    "    # with torch.no_grad(): # we have may also see torch.no_grad() in order pytorch code\n",
    "        #1 do the forward pass\n",
    "        test_pred = model_0(x_test)\\\n",
    "    \n",
    "        # calculate the loss\n",
    "        test_loss =loss_fn(test_pred,y_test)\n",
    "    if epoch %10 == 0:\n",
    "       epoch_value.append(epoch)\n",
    "       loss_values.append(loss)\n",
    "       test_loss_values.append(test_loss)\n",
    "       print(f\"epoch :{epoch} | test : {loss} | test loss : {test_loss}\")\n",
    "    \n",
    "       print(model_0.state_dict())"
   ]
  },
  {
   "cell_type": "code",
   "execution_count": 23,
   "id": "0d251c01-7890-4950-be1a-5f0c982fdf33",
   "metadata": {},
   "outputs": [],
   "source": [
    "with torch.inference_mode():\n",
    "    y_pred_new = model_0(x_test)"
   ]
  },
  {
   "cell_type": "code",
   "execution_count": 24,
   "id": "24be7a28-e000-408f-a6ee-5d2e564c797d",
   "metadata": {},
   "outputs": [],
   "source": [
    "# plot_prediction(predictions =y_pred)"
   ]
  },
  {
   "cell_type": "code",
   "execution_count": 25,
   "id": "3a74318b-2dc5-4cf2-be00-ea25f81baa88",
   "metadata": {},
   "outputs": [
    {
     "data": {
      "text/plain": [
       "OrderedDict([('weight', tensor([0.6962])), ('bias', tensor([0.3064]))])"
      ]
     },
     "execution_count": 25,
     "metadata": {},
     "output_type": "execute_result"
    }
   ],
   "source": [
    "model_0.state_dict()"
   ]
  },
  {
   "cell_type": "code",
   "execution_count": 26,
   "id": "36a16e15-256b-429f-893a-8b5eb6cc5962",
   "metadata": {},
   "outputs": [
    {
     "data": {
      "text/plain": [
       "(0.7, 0.3)"
      ]
     },
     "execution_count": 26,
     "metadata": {},
     "output_type": "execute_result"
    }
   ],
   "source": [
    "weight ,bias"
   ]
  },
  {
   "cell_type": "code",
   "execution_count": 27,
   "id": "7241ac81-6a27-4e79-bdc2-ce3a1d7fd340",
   "metadata": {},
   "outputs": [
    {
     "data": {
      "image/png": "[encoded data removed]",
      "text/plain": [
       "<Figure size 1000x700 with 1 Axes>"
      ]
     },
     "metadata": {},
     "output_type": "display_data"
    }
   ],
   "source": [
    "plot_prediction(predictions =y_pred_new)\n"
   ]
  },
  {
   "cell_type": "code",
   "execution_count": 28,
   "id": "ccd93b55-4c85-47d9-98d0-d88531bf783b",
   "metadata": {},
   "outputs": [
    {
     "data": {
      "text/plain": [
       "([0,\n",
       "  10,\n",
       "  20,\n",
       "  30,\n",
       "  40,\n",
       "  50,\n",
       "  60,\n",
       "  70,\n",
       "  80,\n",
       "  90,\n",
       "  100,\n",
       "  110,\n",
       "  120,\n",
       "  130,\n",
       "  140,\n",
       "  150,\n",
       "  160,\n",
       "  170,\n",
       "  180,\n",
       "  190],\n",
       " [tensor(0.0817, grad_fn=<MeanBackward0>),\n",
       "  tensor(0.0681, grad_fn=<MeanBackward0>),\n",
       "  tensor(0.0626, grad_fn=<MeanBackward0>),\n",
       "  tensor(0.0588, grad_fn=<MeanBackward0>),\n",
       "  tensor(0.0553, grad_fn=<MeanBackward0>),\n",
       "  tensor(0.0518, grad_fn=<MeanBackward0>),\n",
       "  tensor(0.0484, grad_fn=<MeanBackward0>),\n",
       "  tensor(0.0449, grad_fn=<MeanBackward0>),\n",
       "  tensor(0.0415, grad_fn=<MeanBackward0>),\n",
       "  tensor(0.0381, grad_fn=<MeanBackward0>),\n",
       "  tensor(0.0346, grad_fn=<MeanBackward0>),\n",
       "  tensor(0.0312, grad_fn=<MeanBackward0>),\n",
       "  tensor(0.0278, grad_fn=<MeanBackward0>),\n",
       "  tensor(0.0243, grad_fn=<MeanBackward0>),\n",
       "  tensor(0.0209, grad_fn=<MeanBackward0>),\n",
       "  tensor(0.0175, grad_fn=<MeanBackward0>),\n",
       "  tensor(0.0140, grad_fn=<MeanBackward0>),\n",
       "  tensor(0.0106, grad_fn=<MeanBackward0>),\n",
       "  tensor(0.0072, grad_fn=<MeanBackward0>),\n",
       "  tensor(0.0037, grad_fn=<MeanBackward0>)],\n",
       " [tensor(0.2266),\n",
       "  tensor(0.1807),\n",
       "  tensor(0.1563),\n",
       "  tensor(0.1419),\n",
       "  tensor(0.1308),\n",
       "  tensor(0.1205),\n",
       "  tensor(0.1122),\n",
       "  tensor(0.1046),\n",
       "  tensor(0.0964),\n",
       "  tensor(0.0881),\n",
       "  tensor(0.0805),\n",
       "  tensor(0.0722),\n",
       "  tensor(0.0640),\n",
       "  tensor(0.0564),\n",
       "  tensor(0.0481),\n",
       "  tensor(0.0398),\n",
       "  tensor(0.0323),\n",
       "  tensor(0.0240),\n",
       "  tensor(0.0157),\n",
       "  tensor(0.0081)])"
      ]
     },
     "execution_count": 28,
     "metadata": {},
     "output_type": "execute_result"
    }
   ],
   "source": [
    "epoch_value ,loss_values ,test_loss_values"
   ]
  },
  {
   "cell_type": "code",
   "execution_count": 29,
   "id": "7a592dd1-0a3a-45ca-bb25-ede680a71e91",
   "metadata": {},
   "outputs": [
    {
     "data": {
      "text/plain": [
       "(array([0.08169572, 0.06808149, 0.06258393, 0.05879194, 0.05530194,\n",
       "        0.05182225, 0.04838594, 0.04494876, 0.04152032, 0.03808232,\n",
       "        0.03464684, 0.03121751, 0.02777871, 0.0243449 , 0.0209139 ,\n",
       "        0.01747509, 0.01404297, 0.01061027, 0.00717147, 0.00374104],\n",
       "       dtype=float32),\n",
       " [tensor(0.2266),\n",
       "  tensor(0.1807),\n",
       "  tensor(0.1563),\n",
       "  tensor(0.1419),\n",
       "  tensor(0.1308),\n",
       "  tensor(0.1205),\n",
       "  tensor(0.1122),\n",
       "  tensor(0.1046),\n",
       "  tensor(0.0964),\n",
       "  tensor(0.0881),\n",
       "  tensor(0.0805),\n",
       "  tensor(0.0722),\n",
       "  tensor(0.0640),\n",
       "  tensor(0.0564),\n",
       "  tensor(0.0481),\n",
       "  tensor(0.0398),\n",
       "  tensor(0.0323),\n",
       "  tensor(0.0240),\n",
       "  tensor(0.0157),\n",
       "  tensor(0.0081)])"
      ]
     },
     "execution_count": 29,
     "metadata": {},
     "output_type": "execute_result"
    }
   ],
   "source": [
    "import numpy as np\n",
    "np.array(torch.tensor(loss_values).cpu().numpy()) ,test_loss_values\n"
   ]
  },
  {
   "cell_type": "code",
   "execution_count": 30,
   "id": "d5c15f18-e41f-41fe-835e-d4a9ad3f2543",
   "metadata": {},
   "outputs": [
    {
     "data": {
      "text/plain": [
       "<matplotlib.legend.Legend at 0x7bc07d9c9ff0>"
      ]
     },
     "execution_count": 30,
     "metadata": {},
     "output_type": "execute_result"
    },
    {
     "data": {
      "image/png": "[encoded data removed]",
      "text/plain": [
       "<Figure size 640x480 with 1 Axes>"
      ]
     },
     "metadata": {},
     "output_type": "display_data"
    }
   ],
   "source": [
    "# plot loss curve\n",
    "plt.plot(epoch_value,np.array(torch.tensor(loss_values).numpy())  ,label ='Train loss')\n",
    "plt.plot(epoch_value,test_loss_values , label ='test loss')\n",
    "plt.title('training and testing ')\n",
    "plt.xlabel('epoch')\n",
    "plt.ylabel('loss')\n",
    "plt.legend()\n"
   ]
  },
  {
   "cell_type": "markdown",
   "id": "620e404d-f5db-419e-a2e1-61908cb38448",
   "metadata": {},
   "source": [
    "# saving a model in pytorch\n",
    "\n",
    "There are three main methods ywe shou;d about for saving and loading the model\n",
    "1. teorch.save() it will saev in the pickel format\n",
    "2. torch.laod() allowas you save pytorch object\n",
    "3. torch.nn,MOdule.load_state_dict() - this allowas to laos a model saved state dictionary "
   ]
  },
  {
   "cell_type": "code",
   "execution_count": 31,
   "id": "26283f25-cc51-42e9-82c9-d3ef84c1dac6",
   "metadata": {},
   "outputs": [
    {
     "name": "stdout",
     "output_type": "stream",
     "text": [
      "svaing the model models/01pytorch_workflow_model_0.pth\n"
     ]
    }
   ],
   "source": [
    "# saveing our pytorch model\n",
    "from pathlib import Path\n",
    "\n",
    "# 1. create a director \n",
    "model_path = Path('models')\n",
    "model_path.mkdir(parents =True ,exist_ok =True)\n",
    "\n",
    "# 2. create model save path \n",
    "model_name = '01pytorch_workflow_model_0.pth'\n",
    "model_save_path = model_path /model_name\n",
    "\n",
    "# save the model \n",
    "print(f'svaing the model {model_save_path}')\n",
    "torch.save(obj = model_0.state_dict(),f =model_save_path)"
   ]
  },
  {
   "cell_type": "code",
   "execution_count": null,
   "id": "8ebb4c81-64d9-484e-9ea1-767a8ef084bc",
   "metadata": {},
   "outputs": [],
   "source": []
  },
  {
   "cell_type": "code",
   "execution_count": 32,
   "id": "22fc03fc-be9e-4cc5-84f9-6a4f2365d05d",
   "metadata": {},
   "outputs": [
    {
     "name": "stdout",
     "output_type": "stream",
     "text": [
      "01pytorch_workflow_model_0.pth\n",
      "01_pytorch_workflow_model_1.pth\n"
     ]
    }
   ],
   "source": [
    "!ls -1 models"
   ]
  },
  {
   "cell_type": "markdown",
   "id": "30a023a0-e8fb-419d-92b5-3610b63f4e96",
   "metadata": {},
   "source": [
    "## loading a pytorch model\n",
    "since we saved our model's state_dict() rather the entire model we'll create a new instance of our model classs and load the saved state_dict() into thath "
   ]
  },
  {
   "cell_type": "code",
   "execution_count": 33,
   "id": "70df39ba-a84f-494a-b6bd-fbc4bbbca851",
   "metadata": {},
   "outputs": [
    {
     "data": {
      "text/plain": [
       "OrderedDict([('weight', tensor([0.6962])), ('bias', tensor([0.3064]))])"
      ]
     },
     "execution_count": 33,
     "metadata": {},
     "output_type": "execute_result"
    }
   ],
   "source": [
    "model_0.state_dict()"
   ]
  },
  {
   "cell_type": "code",
   "execution_count": null,
   "id": "ff2483e4-679c-4cda-b58c-d29328252ae1",
   "metadata": {},
   "outputs": [],
   "source": []
  },
  {
   "cell_type": "code",
   "execution_count": 34,
   "id": "93321b51-84f5-43ef-b1d6-aa68b7669eb1",
   "metadata": {},
   "outputs": [
    {
     "data": {
      "text/plain": [
       "<All keys matched successfully>"
      ]
     },
     "execution_count": 34,
     "metadata": {},
     "output_type": "execute_result"
    }
   ],
   "source": [
    "# to load in a saved state_dict we have to instance a new instance of our model class\n",
    "loaded_model_0 = LinearRegressionModel()\n",
    "\n",
    "# Load the saved state_dict pf model_0 (this will update the new instance with update parameters)\n",
    "loaded_model_0.load_state_dict(torch.load(f= model_save_path))"
   ]
  },
  {
   "cell_type": "code",
   "execution_count": null,
   "id": "493cdae2-73f4-4bc8-97b2-c9eaaa94357b",
   "metadata": {},
   "outputs": [],
   "source": []
  },
  {
   "cell_type": "code",
   "execution_count": 35,
   "id": "55c34fbc-b9f1-4f29-95a8-03d57e24c2a4",
   "metadata": {},
   "outputs": [
    {
     "data": {
      "text/plain": [
       "OrderedDict([('weight', tensor([0.6962])), ('bias', tensor([0.3064]))])"
      ]
     },
     "execution_count": 35,
     "metadata": {},
     "output_type": "execute_result"
    }
   ],
   "source": [
    "loaded_model_0.state_dict()"
   ]
  },
  {
   "cell_type": "code",
   "execution_count": 36,
   "id": "209b6ea4-3679-4ecf-9215-4c12b53cb5f8",
   "metadata": {},
   "outputs": [
    {
     "data": {
      "text/plain": [
       "tensor([[0.8634],\n",
       "        [0.8773],\n",
       "        [0.8913],\n",
       "        [0.9052],\n",
       "        [0.9191],\n",
       "        [0.9330],\n",
       "        [0.9469],\n",
       "        [0.9609],\n",
       "        [0.9748],\n",
       "        [0.9887]])"
      ]
     },
     "execution_count": 36,
     "metadata": {},
     "output_type": "execute_result"
    }
   ],
   "source": [
    "# make some prediction \n",
    "loaded_model_0.eval()\n",
    "with torch.inference_mode():\n",
    "    loaded_model_preds = loaded_model_0(x_test)\n",
    "loaded_model_preds"
   ]
  },
  {
   "cell_type": "code",
   "execution_count": null,
   "id": "43fdfbc9-57c8-4eb4-9a47-3eec7575473c",
   "metadata": {},
   "outputs": [],
   "source": []
  },
  {
   "cell_type": "code",
   "execution_count": 37,
   "id": "900e5d7a-76ff-4c5b-adf7-b6f56dd3e2d3",
   "metadata": {},
   "outputs": [
    {
     "data": {
      "text/plain": [
       "False"
      ]
     },
     "execution_count": 37,
     "metadata": {},
     "output_type": "execute_result"
    }
   ],
   "source": [
    "# compare loaded model\n",
    "y_pred == loaded_model_0"
   ]
  },
  {
   "cell_type": "code",
   "execution_count": 38,
   "id": "5afcb4b5-f4db-4d93-b3a7-a5a58b0ee835",
   "metadata": {},
   "outputs": [
    {
     "data": {
      "text/plain": [
       "tensor([[0.8634],\n",
       "        [0.8773],\n",
       "        [0.8913],\n",
       "        [0.9052],\n",
       "        [0.9191],\n",
       "        [0.9330],\n",
       "        [0.9469],\n",
       "        [0.9609],\n",
       "        [0.9748],\n",
       "        [0.9887]])"
      ]
     },
     "execution_count": 38,
     "metadata": {},
     "output_type": "execute_result"
    }
   ],
   "source": [
    "# make some models preds\n",
    "model_0.eval()\n",
    "with torch.inference_mode():\n",
    "    y_pred = model_0(x_test)\n",
    "y_pred"
   ]
  },
  {
   "cell_type": "code",
   "execution_count": 39,
   "id": "0fb928bd-f289-4b11-865f-b88539c0ae01",
   "metadata": {},
   "outputs": [
    {
     "data": {
      "text/plain": [
       "tensor([[True],\n",
       "        [True],\n",
       "        [True],\n",
       "        [True],\n",
       "        [True],\n",
       "        [True],\n",
       "        [True],\n",
       "        [True],\n",
       "        [True],\n",
       "        [True]])"
      ]
     },
     "execution_count": 39,
     "metadata": {},
     "output_type": "execute_result"
    }
   ],
   "source": [
    "y_pred == loaded_model_preds"
   ]
  },
  {
   "cell_type": "code",
   "execution_count": null,
   "id": "25f83f1f-1073-482b-a4e4-316c7fcb097c",
   "metadata": {},
   "outputs": [],
   "source": []
  },
  {
   "cell_type": "markdown",
   "id": "f3f7eeda-e882-4848-8117-eb0661f34505",
   "metadata": {},
   "source": [
    "## 6. Putting it all together \n",
    "let's go back through the step above and see it all in one oreder"
   ]
  },
  {
   "cell_type": "code",
   "execution_count": 40,
   "id": "08acb62d-f379-4aec-bf5c-751ebb614774",
   "metadata": {},
   "outputs": [
    {
     "data": {
      "text/plain": [
       "'2.1.1+cu121'"
      ]
     },
     "execution_count": 40,
     "metadata": {},
     "output_type": "execute_result"
    }
   ],
   "source": [
    "# import pytorch  and matplotlib\n",
    "import torch \n",
    "from torch import nn\n",
    "import matplotlib.pyplot as plt\n",
    "\n",
    "# chec pytorch version \n",
    "torch.__version__"
   ]
  },
  {
   "cell_type": "markdown",
   "id": "094c6bb1-77fd-43f4-8039-2877b193619f",
   "metadata": {},
   "source": [
    "Create device _agnostic code\n",
    "\n",
    "this mean if we have got access to a gpu , our code will use it (for potenially faster computing )\n",
    "if no GPU is avilable the code will default to using cpu\n"
   ]
  },
  {
   "cell_type": "code",
   "execution_count": 41,
   "id": "a8dfb010-033d-4fa4-8151-e217bf5eea30",
   "metadata": {},
   "outputs": [
    {
     "name": "stdout",
     "output_type": "stream",
     "text": [
      "cuda\n"
     ]
    }
   ],
   "source": [
    "# setup devive agnostic code\n",
    "device ='cuda' if torch.cuda.is_available() else 'cpu'\n",
    "print(device)"
   ]
  },
  {
   "cell_type": "code",
   "execution_count": 42,
   "id": "5ebb1388-50c1-4648-a593-3f33af1b6a1e",
   "metadata": {},
   "outputs": [
    {
     "name": "stdout",
     "output_type": "stream",
     "text": [
      "Tue May 14 20:56:50 2024       \n",
      "+---------------------------------------------------------------------------------------+\n",
      "| NVIDIA-SMI 535.171.04             Driver Version: 535.171.04   CUDA Version: 12.2     |\n",
      "|-----------------------------------------+----------------------+----------------------+\n",
      "| GPU  Name                 Persistence-M | Bus-Id        Disp.A | Volatile Uncorr. ECC |\n",
      "| Fan  Temp   Perf          Pwr:Usage/Cap |         Memory-Usage | GPU-Util  Compute M. |\n",
      "|                                         |                      |               MIG M. |\n",
      "|=========================================+======================+======================|\n",
      "|   0  NVIDIA GeForce RTX 3050 ...    Off | 00000000:01:00.0 Off |                  N/A |\n",
      "| N/A   50C    P8               5W /  35W |     10MiB /  4096MiB |      0%      Default |\n",
      "|                                         |                      |                  N/A |\n",
      "+-----------------------------------------+----------------------+----------------------+\n",
      "                                                                                         \n",
      "+---------------------------------------------------------------------------------------+\n",
      "| Processes:                                                                            |\n",
      "|  GPU   GI   CI        PID   Type   Process name                            GPU Memory |\n",
      "|        ID   ID                                                             Usage      |\n",
      "|=======================================================================================|\n",
      "|    0   N/A  N/A      2006      G   /usr/lib/xorg/Xorg                            4MiB |\n",
      "+---------------------------------------------------------------------------------------+\n"
     ]
    }
   ],
   "source": [
    "! nvidia-smi"
   ]
  },
  {
   "cell_type": "markdown",
   "id": "5f0401b0-f6ff-48d0-bbdb-e03330eeae85",
   "metadata": {},
   "source": [
    "## data "
   ]
  },
  {
   "cell_type": "code",
   "execution_count": 43,
   "id": "af4109a3-d2de-450a-b1bb-a3444aa9a67f",
   "metadata": {},
   "outputs": [
    {
     "data": {
      "text/plain": [
       "(tensor([[0.0000],\n",
       "         [0.0200],\n",
       "         [0.0400],\n",
       "         [0.0600],\n",
       "         [0.0800],\n",
       "         [0.1000],\n",
       "         [0.1200],\n",
       "         [0.1400],\n",
       "         [0.1600],\n",
       "         [0.1800]]),\n",
       " tensor([[0.3000],\n",
       "         [0.3140],\n",
       "         [0.3280],\n",
       "         [0.3420],\n",
       "         [0.3560],\n",
       "         [0.3700],\n",
       "         [0.3840],\n",
       "         [0.3980],\n",
       "         [0.4120],\n",
       "         [0.4260]]))"
      ]
     },
     "execution_count": 43,
     "metadata": {},
     "output_type": "execute_result"
    }
   ],
   "source": [
    "## create some data using the linear regression formula fo y = weight *x + bias \n",
    "weight =0.7\n",
    "bias = 0.3\n",
    "\n",
    "# create range values\n",
    "start =0\n",
    "end = 1\n",
    "steps = 0.002\n",
    "\n",
    "# create x and y (features and label )\n",
    "X =torch.arange(start ,end ,step).unsqueeze(dim = 1) # without unsqueeze error will pop up\n",
    "y = weight *X + bias \n",
    "\n",
    "X[:10],y[:10]"
   ]
  },
  {
   "cell_type": "code",
   "execution_count": 44,
   "id": "7cb20ab1-5548-4c00-b978-8f923dcd536d",
   "metadata": {},
   "outputs": [
    {
     "data": {
      "text/plain": [
       "(40, 40, 10, 10)"
      ]
     },
     "execution_count": 44,
     "metadata": {},
     "output_type": "execute_result"
    }
   ],
   "source": [
    "## split the data \n",
    "train_split =int(0.8 *len(X))\n",
    "X_train , y_train  = X[:train_split],y[:train_split]\n",
    "X_test ,y_test = X[train_split:] ,y[train_split:]\n",
    "len(X_train) ,len(y_train) ,len(X_test) ,len(y_test)"
   ]
  },
  {
   "cell_type": "code",
   "execution_count": 45,
   "id": "2e7119f4-0314-481b-b72a-497d2c309c8d",
   "metadata": {},
   "outputs": [
    {
     "data": {
      "image/png": "[encoded data removed]",
      "text/plain": [
       "<Figure size 1000x700 with 1 Axes>"
      ]
     },
     "metadata": {},
     "output_type": "display_data"
    }
   ],
   "source": [
    "# plot the data\n",
    "# note : if you don't have the plot function load it \n",
    "plot_prediction(X_train,y_train,X_test,y_test)"
   ]
  },
  {
   "cell_type": "markdown",
   "id": "34a1fabf-2c20-460d-b7da-da0cb349bda6",
   "metadata": {},
   "source": [
    "## building a pytorch linear model "
   ]
  },
  {
   "cell_type": "code",
   "execution_count": 46,
   "id": "29c0a222-a38c-44c1-9555-3b705264651d",
   "metadata": {},
   "outputs": [
    {
     "data": {
      "text/plain": [
       "(LinearRegressionModelV2(\n",
       "   (linear_layer): Linear(in_features=1, out_features=1, bias=True)\n",
       " ),\n",
       " OrderedDict([('linear_layer.weight', tensor([[0.7645]])),\n",
       "              ('linear_layer.bias', tensor([0.8300]))]))"
      ]
     },
     "execution_count": 46,
     "metadata": {},
     "output_type": "execute_result"
    }
   ],
   "source": [
    "## create  a linear model by subclassing nn.Module \n",
    "class LinearRegressionModelV2(nn.Module):\n",
    "    def __init__(self):\n",
    "        super().__init__()\n",
    "        # use nn.linear() for creating the model parameters \n",
    "        self.linear_layer = nn.Linear(in_features =1,\n",
    "                                     out_features =1)\n",
    "    def forward(self,x) -> torch.Tensor:\n",
    "        return self.linear_layer(x)\n",
    "# set mannual seed\n",
    "torch.manual_seed(42)\n",
    "model_1 = LinearRegressionModelV2()\n",
    "model_1,model_1.state_dict()"
   ]
  },
  {
   "cell_type": "code",
   "execution_count": 47,
   "id": "04dc81a7-e7a7-4e7a-8a99-f50add142081",
   "metadata": {},
   "outputs": [
    {
     "data": {
      "text/plain": [
       "device(type='cpu')"
      ]
     },
     "execution_count": 47,
     "metadata": {},
     "output_type": "execute_result"
    }
   ],
   "source": [
    "# check the current model device\n",
    "next(model_1.parameters()).device"
   ]
  },
  {
   "cell_type": "code",
   "execution_count": null,
   "id": "d5139671-340c-4d1d-88e8-444c2c7bfd44",
   "metadata": {},
   "outputs": [],
   "source": []
  },
  {
   "cell_type": "code",
   "execution_count": 48,
   "id": "ceaefc69-5613-4161-bd78-d7dd0a0ee9b3",
   "metadata": {},
   "outputs": [
    {
     "data": {
      "text/plain": [
       "device(type='cuda', index=0)"
      ]
     },
     "execution_count": 48,
     "metadata": {},
     "output_type": "execute_result"
    }
   ],
   "source": [
    "# set the model to use the target device\n",
    "model_1.to(device)\n",
    "next(model_1.parameters()).device\n"
   ]
  },
  {
   "cell_type": "code",
   "execution_count": 49,
   "id": "7c1f8eae-b21c-47a5-b039-0bc9c39c478e",
   "metadata": {},
   "outputs": [
    {
     "data": {
      "text/plain": [
       "'cuda'"
      ]
     },
     "execution_count": 49,
     "metadata": {},
     "output_type": "execute_result"
    }
   ],
   "source": [
    "device"
   ]
  },
  {
   "cell_type": "markdown",
   "id": "7a6ec4e0-1200-4351-a794-4dfce93a0ab3",
   "metadata": {},
   "source": [
    "### training "
   ]
  },
  {
   "cell_type": "markdown",
   "id": "2ebb7ba5-4825-42e6-b3ff-ab6880913608",
   "metadata": {},
   "source": [
    "* loss function\n",
    "* optimizer\n",
    "* training loop\n",
    "* testing loop\n"
   ]
  },
  {
   "cell_type": "code",
   "execution_count": 50,
   "id": "0b2ed072-5174-4799-be34-ab80f699c5e8",
   "metadata": {},
   "outputs": [],
   "source": [
    "# setup the loss function \n",
    "loss_fn = nn.L1Loss()\n",
    "\n",
    "# set optimizer \n",
    "optimizer = torch.optim.SGD( params = model_1.parameters(),\n",
    "                      lr = 0.01 ,\n",
    "                           )"
   ]
  },
  {
   "cell_type": "code",
   "execution_count": 51,
   "id": "b745c9d7-7f47-42c4-bfd4-94938bd12622",
   "metadata": {},
   "outputs": [
    {
     "ename": "RuntimeError",
     "evalue": "Expected all tensors to be on the same device, but found at least two devices, cuda:0 and cpu! (when checking argument for argument mat1 in method wrapper_CUDA_addmm)",
     "output_type": "error",
     "traceback": [
      "\u001b[0;31m---------------------------------------------------------------------------\u001b[0m",
      "\u001b[0;31mRuntimeError\u001b[0m                              Traceback (most recent call last)",
      "Cell \u001b[0;32mIn[51], line 10\u001b[0m\n\u001b[1;32m      7\u001b[0m   model_1\u001b[38;5;241m.\u001b[39mtrain()\n\u001b[1;32m      9\u001b[0m  \u001b[38;5;66;03m# forward pass\u001b[39;00m\n\u001b[0;32m---> 10\u001b[0m   y_pred \u001b[38;5;241m=\u001b[39m \u001b[43mmodel_1\u001b[49m\u001b[43m(\u001b[49m\u001b[43mX_train\u001b[49m\u001b[43m)\u001b[49m\n\u001b[1;32m     12\u001b[0m \u001b[38;5;66;03m# calculate the loss\u001b[39;00m\n\u001b[1;32m     13\u001b[0m   loss \u001b[38;5;241m=\u001b[39m loss_fn(y_pred ,y_train)\n",
      "File \u001b[0;32m~/.local/lib/python3.10/site-packages/torch/nn/modules/module.py:1518\u001b[0m, in \u001b[0;36mModule._wrapped_call_impl\u001b[0;34m(self, *args, **kwargs)\u001b[0m\n\u001b[1;32m   1516\u001b[0m     \u001b[38;5;28;01mreturn\u001b[39;00m \u001b[38;5;28mself\u001b[39m\u001b[38;5;241m.\u001b[39m_compiled_call_impl(\u001b[38;5;241m*\u001b[39margs, \u001b[38;5;241m*\u001b[39m\u001b[38;5;241m*\u001b[39mkwargs)  \u001b[38;5;66;03m# type: ignore[misc]\u001b[39;00m\n\u001b[1;32m   1517\u001b[0m \u001b[38;5;28;01melse\u001b[39;00m:\n\u001b[0;32m-> 1518\u001b[0m     \u001b[38;5;28;01mreturn\u001b[39;00m \u001b[38;5;28;43mself\u001b[39;49m\u001b[38;5;241;43m.\u001b[39;49m\u001b[43m_call_impl\u001b[49m\u001b[43m(\u001b[49m\u001b[38;5;241;43m*\u001b[39;49m\u001b[43margs\u001b[49m\u001b[43m,\u001b[49m\u001b[43m \u001b[49m\u001b[38;5;241;43m*\u001b[39;49m\u001b[38;5;241;43m*\u001b[39;49m\u001b[43mkwargs\u001b[49m\u001b[43m)\u001b[49m\n",
      "File \u001b[0;32m~/.local/lib/python3.10/site-packages/torch/nn/modules/module.py:1527\u001b[0m, in \u001b[0;36mModule._call_impl\u001b[0;34m(self, *args, **kwargs)\u001b[0m\n\u001b[1;32m   1522\u001b[0m \u001b[38;5;66;03m# If we don't have any hooks, we want to skip the rest of the logic in\u001b[39;00m\n\u001b[1;32m   1523\u001b[0m \u001b[38;5;66;03m# this function, and just call forward.\u001b[39;00m\n\u001b[1;32m   1524\u001b[0m \u001b[38;5;28;01mif\u001b[39;00m \u001b[38;5;129;01mnot\u001b[39;00m (\u001b[38;5;28mself\u001b[39m\u001b[38;5;241m.\u001b[39m_backward_hooks \u001b[38;5;129;01mor\u001b[39;00m \u001b[38;5;28mself\u001b[39m\u001b[38;5;241m.\u001b[39m_backward_pre_hooks \u001b[38;5;129;01mor\u001b[39;00m \u001b[38;5;28mself\u001b[39m\u001b[38;5;241m.\u001b[39m_forward_hooks \u001b[38;5;129;01mor\u001b[39;00m \u001b[38;5;28mself\u001b[39m\u001b[38;5;241m.\u001b[39m_forward_pre_hooks\n\u001b[1;32m   1525\u001b[0m         \u001b[38;5;129;01mor\u001b[39;00m _global_backward_pre_hooks \u001b[38;5;129;01mor\u001b[39;00m _global_backward_hooks\n\u001b[1;32m   1526\u001b[0m         \u001b[38;5;129;01mor\u001b[39;00m _global_forward_hooks \u001b[38;5;129;01mor\u001b[39;00m _global_forward_pre_hooks):\n\u001b[0;32m-> 1527\u001b[0m     \u001b[38;5;28;01mreturn\u001b[39;00m \u001b[43mforward_call\u001b[49m\u001b[43m(\u001b[49m\u001b[38;5;241;43m*\u001b[39;49m\u001b[43margs\u001b[49m\u001b[43m,\u001b[49m\u001b[43m \u001b[49m\u001b[38;5;241;43m*\u001b[39;49m\u001b[38;5;241;43m*\u001b[39;49m\u001b[43mkwargs\u001b[49m\u001b[43m)\u001b[49m\n\u001b[1;32m   1529\u001b[0m \u001b[38;5;28;01mtry\u001b[39;00m:\n\u001b[1;32m   1530\u001b[0m     result \u001b[38;5;241m=\u001b[39m \u001b[38;5;28;01mNone\u001b[39;00m\n",
      "Cell \u001b[0;32mIn[46], line 9\u001b[0m, in \u001b[0;36mLinearRegressionModelV2.forward\u001b[0;34m(self, x)\u001b[0m\n\u001b[1;32m      8\u001b[0m \u001b[38;5;28;01mdef\u001b[39;00m \u001b[38;5;21mforward\u001b[39m(\u001b[38;5;28mself\u001b[39m,x) \u001b[38;5;241m-\u001b[39m\u001b[38;5;241m>\u001b[39m torch\u001b[38;5;241m.\u001b[39mTensor:\n\u001b[0;32m----> 9\u001b[0m     \u001b[38;5;28;01mreturn\u001b[39;00m \u001b[38;5;28;43mself\u001b[39;49m\u001b[38;5;241;43m.\u001b[39;49m\u001b[43mlinear_layer\u001b[49m\u001b[43m(\u001b[49m\u001b[43mx\u001b[49m\u001b[43m)\u001b[49m\n",
      "File \u001b[0;32m~/.local/lib/python3.10/site-packages/torch/nn/modules/module.py:1518\u001b[0m, in \u001b[0;36mModule._wrapped_call_impl\u001b[0;34m(self, *args, **kwargs)\u001b[0m\n\u001b[1;32m   1516\u001b[0m     \u001b[38;5;28;01mreturn\u001b[39;00m \u001b[38;5;28mself\u001b[39m\u001b[38;5;241m.\u001b[39m_compiled_call_impl(\u001b[38;5;241m*\u001b[39margs, \u001b[38;5;241m*\u001b[39m\u001b[38;5;241m*\u001b[39mkwargs)  \u001b[38;5;66;03m# type: ignore[misc]\u001b[39;00m\n\u001b[1;32m   1517\u001b[0m \u001b[38;5;28;01melse\u001b[39;00m:\n\u001b[0;32m-> 1518\u001b[0m     \u001b[38;5;28;01mreturn\u001b[39;00m \u001b[38;5;28;43mself\u001b[39;49m\u001b[38;5;241;43m.\u001b[39;49m\u001b[43m_call_impl\u001b[49m\u001b[43m(\u001b[49m\u001b[38;5;241;43m*\u001b[39;49m\u001b[43margs\u001b[49m\u001b[43m,\u001b[49m\u001b[43m \u001b[49m\u001b[38;5;241;43m*\u001b[39;49m\u001b[38;5;241;43m*\u001b[39;49m\u001b[43mkwargs\u001b[49m\u001b[43m)\u001b[49m\n",
      "File \u001b[0;32m~/.local/lib/python3.10/site-packages/torch/nn/modules/module.py:1527\u001b[0m, in \u001b[0;36mModule._call_impl\u001b[0;34m(self, *args, **kwargs)\u001b[0m\n\u001b[1;32m   1522\u001b[0m \u001b[38;5;66;03m# If we don't have any hooks, we want to skip the rest of the logic in\u001b[39;00m\n\u001b[1;32m   1523\u001b[0m \u001b[38;5;66;03m# this function, and just call forward.\u001b[39;00m\n\u001b[1;32m   1524\u001b[0m \u001b[38;5;28;01mif\u001b[39;00m \u001b[38;5;129;01mnot\u001b[39;00m (\u001b[38;5;28mself\u001b[39m\u001b[38;5;241m.\u001b[39m_backward_hooks \u001b[38;5;129;01mor\u001b[39;00m \u001b[38;5;28mself\u001b[39m\u001b[38;5;241m.\u001b[39m_backward_pre_hooks \u001b[38;5;129;01mor\u001b[39;00m \u001b[38;5;28mself\u001b[39m\u001b[38;5;241m.\u001b[39m_forward_hooks \u001b[38;5;129;01mor\u001b[39;00m \u001b[38;5;28mself\u001b[39m\u001b[38;5;241m.\u001b[39m_forward_pre_hooks\n\u001b[1;32m   1525\u001b[0m         \u001b[38;5;129;01mor\u001b[39;00m _global_backward_pre_hooks \u001b[38;5;129;01mor\u001b[39;00m _global_backward_hooks\n\u001b[1;32m   1526\u001b[0m         \u001b[38;5;129;01mor\u001b[39;00m _global_forward_hooks \u001b[38;5;129;01mor\u001b[39;00m _global_forward_pre_hooks):\n\u001b[0;32m-> 1527\u001b[0m     \u001b[38;5;28;01mreturn\u001b[39;00m \u001b[43mforward_call\u001b[49m\u001b[43m(\u001b[49m\u001b[38;5;241;43m*\u001b[39;49m\u001b[43margs\u001b[49m\u001b[43m,\u001b[49m\u001b[43m \u001b[49m\u001b[38;5;241;43m*\u001b[39;49m\u001b[38;5;241;43m*\u001b[39;49m\u001b[43mkwargs\u001b[49m\u001b[43m)\u001b[49m\n\u001b[1;32m   1529\u001b[0m \u001b[38;5;28;01mtry\u001b[39;00m:\n\u001b[1;32m   1530\u001b[0m     result \u001b[38;5;241m=\u001b[39m \u001b[38;5;28;01mNone\u001b[39;00m\n",
      "File \u001b[0;32m~/.local/lib/python3.10/site-packages/torch/nn/modules/linear.py:114\u001b[0m, in \u001b[0;36mLinear.forward\u001b[0;34m(self, input)\u001b[0m\n\u001b[1;32m    113\u001b[0m \u001b[38;5;28;01mdef\u001b[39;00m \u001b[38;5;21mforward\u001b[39m(\u001b[38;5;28mself\u001b[39m, \u001b[38;5;28minput\u001b[39m: Tensor) \u001b[38;5;241m-\u001b[39m\u001b[38;5;241m>\u001b[39m Tensor:\n\u001b[0;32m--> 114\u001b[0m     \u001b[38;5;28;01mreturn\u001b[39;00m \u001b[43mF\u001b[49m\u001b[38;5;241;43m.\u001b[39;49m\u001b[43mlinear\u001b[49m\u001b[43m(\u001b[49m\u001b[38;5;28;43minput\u001b[39;49m\u001b[43m,\u001b[49m\u001b[43m \u001b[49m\u001b[38;5;28;43mself\u001b[39;49m\u001b[38;5;241;43m.\u001b[39;49m\u001b[43mweight\u001b[49m\u001b[43m,\u001b[49m\u001b[43m \u001b[49m\u001b[38;5;28;43mself\u001b[39;49m\u001b[38;5;241;43m.\u001b[39;49m\u001b[43mbias\u001b[49m\u001b[43m)\u001b[49m\n",
      "\u001b[0;31mRuntimeError\u001b[0m: Expected all tensors to be on the same device, but found at least two devices, cuda:0 and cpu! (when checking argument for argument mat1 in method wrapper_CUDA_addmm)"
     ]
    }
   ],
   "source": [
    "# let's write a training loop\n",
    "torch.manual_seed(42)\n",
    "\n",
    "epochs =200 \n",
    "\n",
    "for epoch in range(epochs):\n",
    "    model_1.train()\n",
    "\n",
    "   # forward pass\n",
    "    y_pred = model_1(X_train)\n",
    "\n",
    "  # calculate the loss\n",
    "    loss = loss_fn(y_pred ,y_train)\n",
    "\n",
    "  # optmizer zero grad\n",
    "    optimizer.zero_grad()\n",
    "\n",
    "  # perform backpropogation \n",
    "    loss.backward()\n",
    "\n",
    "  # oprimizer step\n",
    "    optimizer.step()\n",
    "\n",
    "   ### testing \n",
    "    model_1.eval()\n",
    "    with torch.inference_mode():\n",
    "        test_pred =model_1(X_test)\n",
    "\n",
    "        test_loss =loss_fn(test_pred ,y_test)\n",
    "\n",
    " # print out \n",
    "    if epoch %10 == 0:\n",
    "        print(f'epoch {epoch} | loss : {loss} | test loss {test_loss}')\n",
    "        \n",
    "    "
   ]
  },
  {
   "cell_type": "code",
   "execution_count": null,
   "id": "27f6f1d3-d6eb-4803-af38-bb81401eff51",
   "metadata": {},
   "outputs": [],
   "source": [
    "model_1.state_dict()"
   ]
  },
  {
   "cell_type": "markdown",
   "id": "fcbb1016-479e-4dc1-8177-ec70177ed63e",
   "metadata": {},
   "source": [
    "## making and evaluating prediction \n"
   ]
  },
  {
   "cell_type": "code",
   "execution_count": null,
   "id": "c81e704a-1652-445e-911a-6a519cd3c6f9",
   "metadata": {},
   "outputs": [],
   "source": [
    "model_1.eval()\n",
    "\n",
    "# make prediction on the test data\n",
    "with torch.inference_mode():\n",
    "    y_preds = model_1(X_test)\n",
    "y_preds"
   ]
  },
  {
   "cell_type": "code",
   "execution_count": null,
   "id": "76f2b54f-64ce-4b0d-8e48-5ffb35ee8b13",
   "metadata": {},
   "outputs": [],
   "source": [
    "# checkinf the prediction visualization \n",
    "plot_prediction(predictions  =  y_preds)"
   ]
  },
  {
   "cell_type": "code",
   "execution_count": null,
   "id": "e6e38563-a971-425c-9bd2-b69c51d00f7e",
   "metadata": {},
   "outputs": [],
   "source": []
  },
  {
   "cell_type": "markdown",
   "id": "035c7b79-cd37-455a-8ee2-73408e2e61f9",
   "metadata": {},
   "source": [
    "## saving and loading "
   ]
  },
  {
   "cell_type": "code",
   "execution_count": null,
   "id": "0bb25a55-c777-49c7-859d-80000c7c4744",
   "metadata": {},
   "outputs": [],
   "source": [
    "from pathlib import Path\n",
    "\n",
    "# create model directory \n",
    "model_path = Path('models')\n",
    "model_path.mkdir(parents =True ,exist_ok =True)\n",
    "\n",
    "# create model svae path\n",
    "model_name = '01_pytorch_workflow_model_1.pth'\n",
    "model_save_path = model_path/model_name\n",
    "\n",
    "model_save_path"
   ]
  },
  {
   "cell_type": "code",
   "execution_count": null,
   "id": "ee57fc75-ee9e-46b5-8528-b1806b24308a",
   "metadata": {},
   "outputs": [],
   "source": [
    "#3 save the model \n",
    "print(f'saving the model at {model_save_path}')\n",
    "torch.save(obj= model_1.state_dict(),f= model_save_path) \n"
   ]
  },
  {
   "cell_type": "code",
   "execution_count": null,
   "id": "530a4bae-7917-4571-981b-46776d870d74",
   "metadata": {},
   "outputs": [],
   "source": [
    "!ls -1 models"
   ]
  },
  {
   "cell_type": "code",
   "execution_count": null,
   "id": "465537ab-ec7e-4446-baf4-e8028b73da9d",
   "metadata": {},
   "outputs": [],
   "source": [
    "## loaded a pytorch model\n",
    "\n",
    "# create a nre instance of linear model v2\n",
    "loaded_model_1 = LinearRegressionModelV2() \n",
    "\n",
    "# load the save model_1 state_dict\n",
    "\n",
    "loaded_model_1.load_state_dict(torch.load(model_save_path))\n",
    "\n",
    "# put the model to device\n",
    "\n",
    "loaded_model_1.to(device)"
   ]
  },
  {
   "cell_type": "code",
   "execution_count": null,
   "id": "7f7f20fa-74c9-4c5f-b836-0856aa80c6ac",
   "metadata": {},
   "outputs": [],
   "source": [
    "## evaluate the loaded model\n",
    "\n",
    "loaded_model_1.eval()\n",
    "with torch.inference_mode():\n",
    "    loaded_model_1_preds = loaded_model_1(X_test)\n",
    "y_preds == loaded_model_1_preds"
   ]
  },
  {
   "cell_type": "markdown",
   "id": "d7f6691f-6709-41cb-a3f0-9d4532b1d6cb",
   "metadata": {},
   "source": [
    "## exercise and extera curriculam "
   ]
  },
  {
   "cell_type": "markdown",
   "id": "ab441ba5-e474-463f-8faa-336e6aad54c8",
   "metadata": {},
   "source": [
    "* exercise https://www.learnpytorch.io/01_pytorch_workflow/#exercises\n",
    "* EXTRA CARRIULA  : https://www.learnpytorch.io/01_pytorch_workflow/#exercises"
   ]
  },
  {
   "cell_type": "code",
   "execution_count": null,
   "id": "b3dd8a4b-5733-45f8-9194-9aee374bcb36",
   "metadata": {},
   "outputs": [],
   "source": []
  },
  {
   "cell_type": "markdown",
   "id": "14aa8ca2-8e9b-4526-a12b-bda08f224723",
   "metadata": {},
   "source": [
    "# exercise "
   ]
  },
  {
   "cell_type": "code",
   "execution_count": null,
   "id": "b12b5225-3d54-4160-a76f-e7ae68bf3137",
   "metadata": {},
   "outputs": [],
   "source": []
  },
  {
   "cell_type": "code",
   "execution_count": null,
   "id": "f70751a6-10ff-4e34-8f07-9ff5d0062b84",
   "metadata": {},
   "outputs": [],
   "source": []
  },
  {
   "cell_type": "code",
   "execution_count": null,
   "id": "9623faa2-7c8c-448a-ae14-5c9bdab1a4b5",
   "metadata": {},
   "outputs": [],
   "source": []
  },
  {
   "cell_type": "code",
   "execution_count": null,
   "id": "2a80cdee-0e63-4c14-9604-3d1840287e2a",
   "metadata": {},
   "outputs": [],
   "source": []
  },
  {
   "cell_type": "code",
   "execution_count": null,
   "id": "9ddc5c7c-3576-46c1-8cf5-73cd7723ad81",
   "metadata": {},
   "outputs": [],
   "source": []
  },
  {
   "cell_type": "code",
   "execution_count": null,
   "id": "e397df8a-0b74-489a-aed8-a7f1bd5b30a2",
   "metadata": {},
   "outputs": [],
   "source": []
  },
  {
   "cell_type": "code",
   "execution_count": null,
   "id": "f3de4066-8319-4675-8fbf-5b1bd552ac4d",
   "metadata": {},
   "outputs": [],
   "source": []
  },
  {
   "cell_type": "code",
   "execution_count": null,
   "id": "f288f051-fcbf-438e-8271-493211ed34fd",
   "metadata": {},
   "outputs": [],
   "source": []
  },
  {
   "cell_type": "code",
   "execution_count": null,
   "id": "f27a10a4-2933-479a-9801-84d1d7dff83b",
   "metadata": {},
   "outputs": [],
   "source": []
  },
  {
   "cell_type": "code",
   "execution_count": null,
   "id": "e1c7913d-fbec-4817-b533-8fa5c1623779",
   "metadata": {},
   "outputs": [],
   "source": []
  }
 ],
 "metadata": {
  "kernelspec": {
   "display_name": "Python 3 (ipykernel)",
   "language": "python",
   "name": "python3"
  },
  "language_info": {
   "codemirror_mode": {
    "name": "ipython",
    "version": 3
   },
   "file_extension": ".py",
   "mimetype": "text/x-python",
   "name": "python",
   "nbconvert_exporter": "python",
   "pygments_lexer": "ipython3",
   "version": "3.10.12"
  }
 },
 "nbformat": 4,
 "nbformat_minor": 5
}
