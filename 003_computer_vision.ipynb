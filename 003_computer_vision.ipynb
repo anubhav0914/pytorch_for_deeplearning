{
 "cells": [
  {
   "cell_type": "markdown",
   "id": "d0c957f8-2b9d-4568-9b45-108457c05042",
   "metadata": {},
   "source": [
    "# **Computer vision** "
   ]
  },
  {
   "cell_type": "markdown",
   "id": "a2c034be-4fb1-40b8-9daa-7628fbc943bb",
   "metadata": {
    "vscode": {
     "languageId": "r"
    }
   },
   "source": [
    "### what is CNN"
   ]
  },
  {
   "cell_type": "markdown",
   "id": "def4dcbc",
   "metadata": {},
   "source": [
    "## 0. comuter vision libaries in pytorch \n",
    "\n",
    "* `torchvision.datasets` -get the datasets and data loading function for computer vision\n",
    "* `torchvision.models` -get pretrained computer vision mmoels that you can leaverage for your own problem\n",
    "* `torchvision.transforms` - function for manipulating your vision data (images) to be suitabe for use with an ML model\n",
    "* `torch.utils.data.Datasets` -Base datast class for pytorch\n",
    "* `torch.utils.data.DataLoader` -creates a python irteable over a dataset "
   ]
  },
  {
   "cell_type": "code",
   "execution_count": 1,
   "id": "4ee58b88",
   "metadata": {
    "vscode": {
     "languageId": "r"
    }
   },
   "outputs": [
    {
     "name": "stderr",
     "output_type": "stream",
     "text": [
      "/home/anubhav/.local/lib/python3.10/site-packages/transformers/utils/generic.py:441: UserWarning: torch.utils._pytree._register_pytree_node is deprecated. Please use torch.utils._pytree.register_pytree_node instead.\n",
      "  _torch_pytree._register_pytree_node(\n"
     ]
    },
    {
     "name": "stdout",
     "output_type": "stream",
     "text": [
      "2.3.0+cu121\n",
      "0.18.0+cu121\n"
     ]
    }
   ],
   "source": [
    "# import pytorch \n",
    "import torch\n",
    "from torch import nn\n",
    "\n",
    "# import torchvision \n",
    "import torchvision \n",
    "from torchvision import datasets \n",
    "from torchvision import transforms \n",
    "from torchvision.transforms import ToTensor \n",
    "\n",
    "# import matplotlib\n",
    "import matplotlib.pyplot as plt\n",
    "\n",
    "# check version \n",
    "print(torch.__version__)\n",
    "print(torchvision.__version__)\n"
   ]
  },
  {
   "cell_type": "markdown",
   "id": "4cc72752",
   "metadata": {},
   "source": [
    "### getting a computer vision dataset and checking\n",
    "* the dataset is MNIST dataset from torchvision.dataset"
   ]
  },
  {
   "cell_type": "code",
   "execution_count": 2,
   "id": "712026cc-96be-4bab-89ff-7998370389f7",
   "metadata": {
    "vscode": {
     "languageId": "r"
    }
   },
   "outputs": [],
   "source": [
    "#setup\n",
    "from torchvision import datasets\n",
    "\n",
    "train_data = datasets.FashionMNIST(\n",
    "    root ='image_data', # where to download data to ?\n",
    "    train =True,# do we want the training datasets?\n",
    "    download =True, # do we want to dowload yes/no?\n",
    "    transform =torchvision.transforms.ToTensor(), # how do we want to transform the data? \n",
    "    target_transform =None # how to we transform the labels / targets\n",
    ")\n",
    "\n",
    "test_data = datasets.FashionMNIST(\n",
    "    root ='image_data',\n",
    "    train = False,\n",
    "    download = True,\n",
    "    transform = ToTensor(),\n",
    "    target_transform =None \n",
    ")"
   ]
  },
  {
   "cell_type": "code",
   "execution_count": 3,
   "id": "2ec2a771-335b-4d1e-8337-cdd24a94eb4d",
   "metadata": {
    "vscode": {
     "languageId": "r"
    }
   },
   "outputs": [
    {
     "data": {
      "text/plain": [
       "(60000, 10000)"
      ]
     },
     "execution_count": 3,
     "metadata": {},
     "output_type": "execute_result"
    }
   ],
   "source": [
    "len(train_data),len(test_data)"
   ]
  },
  {
   "cell_type": "code",
   "execution_count": 4,
   "id": "d2f017dd-56f0-4028-bb3b-481e39ba2194",
   "metadata": {
    "vscode": {
     "languageId": "r"
    }
   },
   "outputs": [
    {
     "data": {
      "text/plain": [
       "(tensor([[[0.0000, 0.0000, 0.0000, 0.0000, 0.0000, 0.0000, 0.0000, 0.0000,\n",
       "           0.0000, 0.0000, 0.0000, 0.0000, 0.0000, 0.0000, 0.0000, 0.0000,\n",
       "           0.0000, 0.0000, 0.0000, 0.0000, 0.0000, 0.0000, 0.0000, 0.0000,\n",
       "           0.0000, 0.0000, 0.0000, 0.0000],\n",
       "          [0.0000, 0.0000, 0.0000, 0.0000, 0.0000, 0.0000, 0.0000, 0.0000,\n",
       "           0.0000, 0.0000, 0.0000, 0.0000, 0.0000, 0.0000, 0.0000, 0.0000,\n",
       "           0.0000, 0.0000, 0.0000, 0.0000, 0.0000, 0.0000, 0.0000, 0.0000,\n",
       "           0.0000, 0.0000, 0.0000, 0.0000],\n",
       "          [0.0000, 0.0000, 0.0000, 0.0000, 0.0000, 0.0000, 0.0000, 0.0000,\n",
       "           0.0000, 0.0000, 0.0000, 0.0000, 0.0000, 0.0000, 0.0000, 0.0000,\n",
       "           0.0000, 0.0000, 0.0000, 0.0000, 0.0000, 0.0000, 0.0000, 0.0000,\n",
       "           0.0000, 0.0000, 0.0000, 0.0000],\n",
       "          [0.0000, 0.0000, 0.0000, 0.0000, 0.0000, 0.0000, 0.0000, 0.0000,\n",
       "           0.0000, 0.0000, 0.0000, 0.0000, 0.0039, 0.0000, 0.0000, 0.0510,\n",
       "           0.2863, 0.0000, 0.0000, 0.0039, 0.0157, 0.0000, 0.0000, 0.0000,\n",
       "           0.0000, 0.0039, 0.0039, 0.0000],\n",
       "          [0.0000, 0.0000, 0.0000, 0.0000, 0.0000, 0.0000, 0.0000, 0.0000,\n",
       "           0.0000, 0.0000, 0.0000, 0.0000, 0.0118, 0.0000, 0.1412, 0.5333,\n",
       "           0.4980, 0.2431, 0.2118, 0.0000, 0.0000, 0.0000, 0.0039, 0.0118,\n",
       "           0.0157, 0.0000, 0.0000, 0.0118],\n",
       "          [0.0000, 0.0000, 0.0000, 0.0000, 0.0000, 0.0000, 0.0000, 0.0000,\n",
       "           0.0000, 0.0000, 0.0000, 0.0000, 0.0235, 0.0000, 0.4000, 0.8000,\n",
       "           0.6902, 0.5255, 0.5647, 0.4824, 0.0902, 0.0000, 0.0000, 0.0000,\n",
       "           0.0000, 0.0471, 0.0392, 0.0000],\n",
       "          [0.0000, 0.0000, 0.0000, 0.0000, 0.0000, 0.0000, 0.0000, 0.0000,\n",
       "           0.0000, 0.0000, 0.0000, 0.0000, 0.0000, 0.0000, 0.6078, 0.9255,\n",
       "           0.8118, 0.6980, 0.4196, 0.6118, 0.6314, 0.4275, 0.2510, 0.0902,\n",
       "           0.3020, 0.5098, 0.2824, 0.0588],\n",
       "          [0.0000, 0.0000, 0.0000, 0.0000, 0.0000, 0.0000, 0.0000, 0.0000,\n",
       "           0.0000, 0.0000, 0.0000, 0.0039, 0.0000, 0.2706, 0.8118, 0.8745,\n",
       "           0.8549, 0.8471, 0.8471, 0.6392, 0.4980, 0.4745, 0.4784, 0.5725,\n",
       "           0.5529, 0.3451, 0.6745, 0.2588],\n",
       "          [0.0000, 0.0000, 0.0000, 0.0000, 0.0000, 0.0000, 0.0000, 0.0000,\n",
       "           0.0000, 0.0039, 0.0039, 0.0039, 0.0000, 0.7843, 0.9098, 0.9098,\n",
       "           0.9137, 0.8980, 0.8745, 0.8745, 0.8431, 0.8353, 0.6431, 0.4980,\n",
       "           0.4824, 0.7686, 0.8980, 0.0000],\n",
       "          [0.0000, 0.0000, 0.0000, 0.0000, 0.0000, 0.0000, 0.0000, 0.0000,\n",
       "           0.0000, 0.0000, 0.0000, 0.0000, 0.0000, 0.7176, 0.8824, 0.8471,\n",
       "           0.8745, 0.8941, 0.9216, 0.8902, 0.8784, 0.8706, 0.8784, 0.8667,\n",
       "           0.8745, 0.9608, 0.6784, 0.0000],\n",
       "          [0.0000, 0.0000, 0.0000, 0.0000, 0.0000, 0.0000, 0.0000, 0.0000,\n",
       "           0.0000, 0.0000, 0.0000, 0.0000, 0.0000, 0.7569, 0.8941, 0.8549,\n",
       "           0.8353, 0.7765, 0.7059, 0.8314, 0.8235, 0.8275, 0.8353, 0.8745,\n",
       "           0.8627, 0.9529, 0.7922, 0.0000],\n",
       "          [0.0000, 0.0000, 0.0000, 0.0000, 0.0000, 0.0000, 0.0000, 0.0000,\n",
       "           0.0000, 0.0039, 0.0118, 0.0000, 0.0471, 0.8588, 0.8627, 0.8314,\n",
       "           0.8549, 0.7529, 0.6627, 0.8902, 0.8157, 0.8549, 0.8784, 0.8314,\n",
       "           0.8863, 0.7725, 0.8196, 0.2039],\n",
       "          [0.0000, 0.0000, 0.0000, 0.0000, 0.0000, 0.0000, 0.0000, 0.0000,\n",
       "           0.0000, 0.0000, 0.0235, 0.0000, 0.3882, 0.9569, 0.8706, 0.8627,\n",
       "           0.8549, 0.7961, 0.7765, 0.8667, 0.8431, 0.8353, 0.8706, 0.8627,\n",
       "           0.9608, 0.4667, 0.6549, 0.2196],\n",
       "          [0.0000, 0.0000, 0.0000, 0.0000, 0.0000, 0.0000, 0.0000, 0.0000,\n",
       "           0.0000, 0.0157, 0.0000, 0.0000, 0.2157, 0.9255, 0.8941, 0.9020,\n",
       "           0.8941, 0.9412, 0.9098, 0.8353, 0.8549, 0.8745, 0.9176, 0.8510,\n",
       "           0.8510, 0.8196, 0.3608, 0.0000],\n",
       "          [0.0000, 0.0000, 0.0039, 0.0157, 0.0235, 0.0275, 0.0078, 0.0000,\n",
       "           0.0000, 0.0000, 0.0000, 0.0000, 0.9294, 0.8863, 0.8510, 0.8745,\n",
       "           0.8706, 0.8588, 0.8706, 0.8667, 0.8471, 0.8745, 0.8980, 0.8431,\n",
       "           0.8549, 1.0000, 0.3020, 0.0000],\n",
       "          [0.0000, 0.0118, 0.0000, 0.0000, 0.0000, 0.0000, 0.0000, 0.0000,\n",
       "           0.0000, 0.2431, 0.5686, 0.8000, 0.8941, 0.8118, 0.8353, 0.8667,\n",
       "           0.8549, 0.8157, 0.8275, 0.8549, 0.8784, 0.8745, 0.8588, 0.8431,\n",
       "           0.8784, 0.9569, 0.6235, 0.0000],\n",
       "          [0.0000, 0.0000, 0.0000, 0.0000, 0.0706, 0.1725, 0.3216, 0.4196,\n",
       "           0.7412, 0.8941, 0.8627, 0.8706, 0.8510, 0.8863, 0.7843, 0.8039,\n",
       "           0.8275, 0.9020, 0.8784, 0.9176, 0.6902, 0.7373, 0.9804, 0.9725,\n",
       "           0.9137, 0.9333, 0.8431, 0.0000],\n",
       "          [0.0000, 0.2235, 0.7333, 0.8157, 0.8784, 0.8667, 0.8784, 0.8157,\n",
       "           0.8000, 0.8392, 0.8157, 0.8196, 0.7843, 0.6235, 0.9608, 0.7569,\n",
       "           0.8078, 0.8745, 1.0000, 1.0000, 0.8667, 0.9176, 0.8667, 0.8275,\n",
       "           0.8627, 0.9098, 0.9647, 0.0000],\n",
       "          [0.0118, 0.7922, 0.8941, 0.8784, 0.8667, 0.8275, 0.8275, 0.8392,\n",
       "           0.8039, 0.8039, 0.8039, 0.8627, 0.9412, 0.3137, 0.5882, 1.0000,\n",
       "           0.8980, 0.8667, 0.7373, 0.6039, 0.7490, 0.8235, 0.8000, 0.8196,\n",
       "           0.8706, 0.8941, 0.8824, 0.0000],\n",
       "          [0.3843, 0.9137, 0.7765, 0.8235, 0.8706, 0.8980, 0.8980, 0.9176,\n",
       "           0.9765, 0.8627, 0.7608, 0.8431, 0.8510, 0.9451, 0.2549, 0.2863,\n",
       "           0.4157, 0.4588, 0.6588, 0.8588, 0.8667, 0.8431, 0.8510, 0.8745,\n",
       "           0.8745, 0.8784, 0.8980, 0.1137],\n",
       "          [0.2941, 0.8000, 0.8314, 0.8000, 0.7569, 0.8039, 0.8275, 0.8824,\n",
       "           0.8471, 0.7255, 0.7725, 0.8078, 0.7765, 0.8353, 0.9412, 0.7647,\n",
       "           0.8902, 0.9608, 0.9373, 0.8745, 0.8549, 0.8314, 0.8196, 0.8706,\n",
       "           0.8627, 0.8667, 0.9020, 0.2627],\n",
       "          [0.1882, 0.7961, 0.7176, 0.7608, 0.8353, 0.7725, 0.7255, 0.7451,\n",
       "           0.7608, 0.7529, 0.7922, 0.8392, 0.8588, 0.8667, 0.8627, 0.9255,\n",
       "           0.8824, 0.8471, 0.7804, 0.8078, 0.7294, 0.7098, 0.6941, 0.6745,\n",
       "           0.7098, 0.8039, 0.8078, 0.4510],\n",
       "          [0.0000, 0.4784, 0.8588, 0.7569, 0.7020, 0.6706, 0.7176, 0.7686,\n",
       "           0.8000, 0.8235, 0.8353, 0.8118, 0.8275, 0.8235, 0.7843, 0.7686,\n",
       "           0.7608, 0.7490, 0.7647, 0.7490, 0.7765, 0.7529, 0.6902, 0.6118,\n",
       "           0.6549, 0.6941, 0.8235, 0.3608],\n",
       "          [0.0000, 0.0000, 0.2902, 0.7412, 0.8314, 0.7490, 0.6863, 0.6745,\n",
       "           0.6863, 0.7098, 0.7255, 0.7373, 0.7412, 0.7373, 0.7569, 0.7765,\n",
       "           0.8000, 0.8196, 0.8235, 0.8235, 0.8275, 0.7373, 0.7373, 0.7608,\n",
       "           0.7529, 0.8471, 0.6667, 0.0000],\n",
       "          [0.0078, 0.0000, 0.0000, 0.0000, 0.2588, 0.7843, 0.8706, 0.9294,\n",
       "           0.9373, 0.9490, 0.9647, 0.9529, 0.9569, 0.8667, 0.8627, 0.7569,\n",
       "           0.7490, 0.7020, 0.7137, 0.7137, 0.7098, 0.6902, 0.6510, 0.6588,\n",
       "           0.3882, 0.2275, 0.0000, 0.0000],\n",
       "          [0.0000, 0.0000, 0.0000, 0.0000, 0.0000, 0.0000, 0.0000, 0.1569,\n",
       "           0.2392, 0.1725, 0.2824, 0.1608, 0.1373, 0.0000, 0.0000, 0.0000,\n",
       "           0.0000, 0.0000, 0.0000, 0.0000, 0.0000, 0.0000, 0.0000, 0.0000,\n",
       "           0.0000, 0.0000, 0.0000, 0.0000],\n",
       "          [0.0000, 0.0000, 0.0000, 0.0000, 0.0000, 0.0000, 0.0000, 0.0000,\n",
       "           0.0000, 0.0000, 0.0000, 0.0000, 0.0000, 0.0000, 0.0000, 0.0000,\n",
       "           0.0000, 0.0000, 0.0000, 0.0000, 0.0000, 0.0000, 0.0000, 0.0000,\n",
       "           0.0000, 0.0000, 0.0000, 0.0000],\n",
       "          [0.0000, 0.0000, 0.0000, 0.0000, 0.0000, 0.0000, 0.0000, 0.0000,\n",
       "           0.0000, 0.0000, 0.0000, 0.0000, 0.0000, 0.0000, 0.0000, 0.0000,\n",
       "           0.0000, 0.0000, 0.0000, 0.0000, 0.0000, 0.0000, 0.0000, 0.0000,\n",
       "           0.0000, 0.0000, 0.0000, 0.0000]]]),\n",
       " 9)"
      ]
     },
     "execution_count": 4,
     "metadata": {},
     "output_type": "execute_result"
    }
   ],
   "source": [
    "# see the first training example \n",
    "image ,label = train_data[0]\n",
    "image ,label"
   ]
  },
  {
   "cell_type": "code",
   "execution_count": 5,
   "id": "3dec2dc1-4a8c-4e9c-800c-c9301c9256e4",
   "metadata": {
    "vscode": {
     "languageId": "r"
    }
   },
   "outputs": [
    {
     "data": {
      "text/plain": [
       "['T-shirt/top',\n",
       " 'Trouser',\n",
       " 'Pullover',\n",
       " 'Dress',\n",
       " 'Coat',\n",
       " 'Sandal',\n",
       " 'Shirt',\n",
       " 'Sneaker',\n",
       " 'Bag',\n",
       " 'Ankle boot']"
      ]
     },
     "execution_count": 5,
     "metadata": {},
     "output_type": "execute_result"
    }
   ],
   "source": [
    "class_name = train_data.classes\n",
    "class_name"
   ]
  },
  {
   "cell_type": "code",
   "execution_count": 6,
   "id": "7ff81e3d-f81b-40ec-a46e-7ef4bf1fc3cc",
   "metadata": {
    "vscode": {
     "languageId": "r"
    }
   },
   "outputs": [],
   "source": [
    "class_to_idx = train_data.class_to_idx"
   ]
  },
  {
   "cell_type": "code",
   "execution_count": 7,
   "id": "472397b0-4fe8-4bc2-92cc-02398aa486c5",
   "metadata": {
    "vscode": {
     "languageId": "r"
    }
   },
   "outputs": [
    {
     "data": {
      "text/plain": [
       "{'T-shirt/top': 0,\n",
       " 'Trouser': 1,\n",
       " 'Pullover': 2,\n",
       " 'Dress': 3,\n",
       " 'Coat': 4,\n",
       " 'Sandal': 5,\n",
       " 'Shirt': 6,\n",
       " 'Sneaker': 7,\n",
       " 'Bag': 8,\n",
       " 'Ankle boot': 9}"
      ]
     },
     "execution_count": 7,
     "metadata": {},
     "output_type": "execute_result"
    }
   ],
   "source": [
    "class_to_idx"
   ]
  },
  {
   "cell_type": "code",
   "execution_count": 8,
   "id": "b181da11-c569-4158-ad2d-130cd848fcbe",
   "metadata": {
    "vscode": {
     "languageId": "r"
    }
   },
   "outputs": [
    {
     "data": {
      "text/plain": [
       "tensor([9, 0, 0,  ..., 3, 0, 5])"
      ]
     },
     "execution_count": 8,
     "metadata": {},
     "output_type": "execute_result"
    }
   ],
   "source": [
    "train_data.targets"
   ]
  },
  {
   "cell_type": "code",
   "execution_count": 9,
   "id": "b6ebb88e-6bc6-4deb-b00d-351de5720618",
   "metadata": {
    "vscode": {
     "languageId": "r"
    }
   },
   "outputs": [
    {
     "data": {
      "text/plain": [
       "torch.Size([1, 28, 28])"
      ]
     },
     "execution_count": 9,
     "metadata": {},
     "output_type": "execute_result"
    }
   ],
   "source": [
    "image.shape # {color_channle, height ,width }"
   ]
  },
  {
   "cell_type": "markdown",
   "id": "4616785b-2b31-4c6f-90ce-76a0e419768f",
   "metadata": {},
   "source": [
    "### 1.2 visualising our data\n"
   ]
  },
  {
   "cell_type": "code",
   "execution_count": 10,
   "id": "59e0ef04-75eb-4a82-8cc6-00438520c3a8",
   "metadata": {
    "vscode": {
     "languageId": "r"
    }
   },
   "outputs": [
    {
     "name": "stdout",
     "output_type": "stream",
     "text": [
      "imagetensor([[[0.0000, 0.0000, 0.0000, 0.0000, 0.0000, 0.0000, 0.0000, 0.0000,\n",
      "          0.0000, 0.0000, 0.0000, 0.0000, 0.0000, 0.0000, 0.0000, 0.0000,\n",
      "          0.0000, 0.0000, 0.0000, 0.0000, 0.0000, 0.0000, 0.0000, 0.0000,\n",
      "          0.0000, 0.0000, 0.0000, 0.0000],\n",
      "         [0.0000, 0.0000, 0.0000, 0.0000, 0.0000, 0.0000, 0.0000, 0.0000,\n",
      "          0.0000, 0.0000, 0.0000, 0.0000, 0.0000, 0.0000, 0.0000, 0.0000,\n",
      "          0.0000, 0.0000, 0.0000, 0.0000, 0.0000, 0.0000, 0.0000, 0.0000,\n",
      "          0.0000, 0.0000, 0.0000, 0.0000],\n",
      "         [0.0000, 0.0000, 0.0000, 0.0000, 0.0000, 0.0000, 0.0000, 0.0000,\n",
      "          0.0000, 0.0000, 0.0000, 0.0000, 0.0000, 0.0000, 0.0000, 0.0000,\n",
      "          0.0000, 0.0000, 0.0000, 0.0000, 0.0000, 0.0000, 0.0000, 0.0000,\n",
      "          0.0000, 0.0000, 0.0000, 0.0000],\n",
      "         [0.0000, 0.0000, 0.0000, 0.0000, 0.0000, 0.0000, 0.0000, 0.0000,\n",
      "          0.0000, 0.0000, 0.0000, 0.0000, 0.0039, 0.0000, 0.0000, 0.0510,\n",
      "          0.2863, 0.0000, 0.0000, 0.0039, 0.0157, 0.0000, 0.0000, 0.0000,\n",
      "          0.0000, 0.0039, 0.0039, 0.0000],\n",
      "         [0.0000, 0.0000, 0.0000, 0.0000, 0.0000, 0.0000, 0.0000, 0.0000,\n",
      "          0.0000, 0.0000, 0.0000, 0.0000, 0.0118, 0.0000, 0.1412, 0.5333,\n",
      "          0.4980, 0.2431, 0.2118, 0.0000, 0.0000, 0.0000, 0.0039, 0.0118,\n",
      "          0.0157, 0.0000, 0.0000, 0.0118],\n",
      "         [0.0000, 0.0000, 0.0000, 0.0000, 0.0000, 0.0000, 0.0000, 0.0000,\n",
      "          0.0000, 0.0000, 0.0000, 0.0000, 0.0235, 0.0000, 0.4000, 0.8000,\n",
      "          0.6902, 0.5255, 0.5647, 0.4824, 0.0902, 0.0000, 0.0000, 0.0000,\n",
      "          0.0000, 0.0471, 0.0392, 0.0000],\n",
      "         [0.0000, 0.0000, 0.0000, 0.0000, 0.0000, 0.0000, 0.0000, 0.0000,\n",
      "          0.0000, 0.0000, 0.0000, 0.0000, 0.0000, 0.0000, 0.6078, 0.9255,\n",
      "          0.8118, 0.6980, 0.4196, 0.6118, 0.6314, 0.4275, 0.2510, 0.0902,\n",
      "          0.3020, 0.5098, 0.2824, 0.0588],\n",
      "         [0.0000, 0.0000, 0.0000, 0.0000, 0.0000, 0.0000, 0.0000, 0.0000,\n",
      "          0.0000, 0.0000, 0.0000, 0.0039, 0.0000, 0.2706, 0.8118, 0.8745,\n",
      "          0.8549, 0.8471, 0.8471, 0.6392, 0.4980, 0.4745, 0.4784, 0.5725,\n",
      "          0.5529, 0.3451, 0.6745, 0.2588],\n",
      "         [0.0000, 0.0000, 0.0000, 0.0000, 0.0000, 0.0000, 0.0000, 0.0000,\n",
      "          0.0000, 0.0039, 0.0039, 0.0039, 0.0000, 0.7843, 0.9098, 0.9098,\n",
      "          0.9137, 0.8980, 0.8745, 0.8745, 0.8431, 0.8353, 0.6431, 0.4980,\n",
      "          0.4824, 0.7686, 0.8980, 0.0000],\n",
      "         [0.0000, 0.0000, 0.0000, 0.0000, 0.0000, 0.0000, 0.0000, 0.0000,\n",
      "          0.0000, 0.0000, 0.0000, 0.0000, 0.0000, 0.7176, 0.8824, 0.8471,\n",
      "          0.8745, 0.8941, 0.9216, 0.8902, 0.8784, 0.8706, 0.8784, 0.8667,\n",
      "          0.8745, 0.9608, 0.6784, 0.0000],\n",
      "         [0.0000, 0.0000, 0.0000, 0.0000, 0.0000, 0.0000, 0.0000, 0.0000,\n",
      "          0.0000, 0.0000, 0.0000, 0.0000, 0.0000, 0.7569, 0.8941, 0.8549,\n",
      "          0.8353, 0.7765, 0.7059, 0.8314, 0.8235, 0.8275, 0.8353, 0.8745,\n",
      "          0.8627, 0.9529, 0.7922, 0.0000],\n",
      "         [0.0000, 0.0000, 0.0000, 0.0000, 0.0000, 0.0000, 0.0000, 0.0000,\n",
      "          0.0000, 0.0039, 0.0118, 0.0000, 0.0471, 0.8588, 0.8627, 0.8314,\n",
      "          0.8549, 0.7529, 0.6627, 0.8902, 0.8157, 0.8549, 0.8784, 0.8314,\n",
      "          0.8863, 0.7725, 0.8196, 0.2039],\n",
      "         [0.0000, 0.0000, 0.0000, 0.0000, 0.0000, 0.0000, 0.0000, 0.0000,\n",
      "          0.0000, 0.0000, 0.0235, 0.0000, 0.3882, 0.9569, 0.8706, 0.8627,\n",
      "          0.8549, 0.7961, 0.7765, 0.8667, 0.8431, 0.8353, 0.8706, 0.8627,\n",
      "          0.9608, 0.4667, 0.6549, 0.2196],\n",
      "         [0.0000, 0.0000, 0.0000, 0.0000, 0.0000, 0.0000, 0.0000, 0.0000,\n",
      "          0.0000, 0.0157, 0.0000, 0.0000, 0.2157, 0.9255, 0.8941, 0.9020,\n",
      "          0.8941, 0.9412, 0.9098, 0.8353, 0.8549, 0.8745, 0.9176, 0.8510,\n",
      "          0.8510, 0.8196, 0.3608, 0.0000],\n",
      "         [0.0000, 0.0000, 0.0039, 0.0157, 0.0235, 0.0275, 0.0078, 0.0000,\n",
      "          0.0000, 0.0000, 0.0000, 0.0000, 0.9294, 0.8863, 0.8510, 0.8745,\n",
      "          0.8706, 0.8588, 0.8706, 0.8667, 0.8471, 0.8745, 0.8980, 0.8431,\n",
      "          0.8549, 1.0000, 0.3020, 0.0000],\n",
      "         [0.0000, 0.0118, 0.0000, 0.0000, 0.0000, 0.0000, 0.0000, 0.0000,\n",
      "          0.0000, 0.2431, 0.5686, 0.8000, 0.8941, 0.8118, 0.8353, 0.8667,\n",
      "          0.8549, 0.8157, 0.8275, 0.8549, 0.8784, 0.8745, 0.8588, 0.8431,\n",
      "          0.8784, 0.9569, 0.6235, 0.0000],\n",
      "         [0.0000, 0.0000, 0.0000, 0.0000, 0.0706, 0.1725, 0.3216, 0.4196,\n",
      "          0.7412, 0.8941, 0.8627, 0.8706, 0.8510, 0.8863, 0.7843, 0.8039,\n",
      "          0.8275, 0.9020, 0.8784, 0.9176, 0.6902, 0.7373, 0.9804, 0.9725,\n",
      "          0.9137, 0.9333, 0.8431, 0.0000],\n",
      "         [0.0000, 0.2235, 0.7333, 0.8157, 0.8784, 0.8667, 0.8784, 0.8157,\n",
      "          0.8000, 0.8392, 0.8157, 0.8196, 0.7843, 0.6235, 0.9608, 0.7569,\n",
      "          0.8078, 0.8745, 1.0000, 1.0000, 0.8667, 0.9176, 0.8667, 0.8275,\n",
      "          0.8627, 0.9098, 0.9647, 0.0000],\n",
      "         [0.0118, 0.7922, 0.8941, 0.8784, 0.8667, 0.8275, 0.8275, 0.8392,\n",
      "          0.8039, 0.8039, 0.8039, 0.8627, 0.9412, 0.3137, 0.5882, 1.0000,\n",
      "          0.8980, 0.8667, 0.7373, 0.6039, 0.7490, 0.8235, 0.8000, 0.8196,\n",
      "          0.8706, 0.8941, 0.8824, 0.0000],\n",
      "         [0.3843, 0.9137, 0.7765, 0.8235, 0.8706, 0.8980, 0.8980, 0.9176,\n",
      "          0.9765, 0.8627, 0.7608, 0.8431, 0.8510, 0.9451, 0.2549, 0.2863,\n",
      "          0.4157, 0.4588, 0.6588, 0.8588, 0.8667, 0.8431, 0.8510, 0.8745,\n",
      "          0.8745, 0.8784, 0.8980, 0.1137],\n",
      "         [0.2941, 0.8000, 0.8314, 0.8000, 0.7569, 0.8039, 0.8275, 0.8824,\n",
      "          0.8471, 0.7255, 0.7725, 0.8078, 0.7765, 0.8353, 0.9412, 0.7647,\n",
      "          0.8902, 0.9608, 0.9373, 0.8745, 0.8549, 0.8314, 0.8196, 0.8706,\n",
      "          0.8627, 0.8667, 0.9020, 0.2627],\n",
      "         [0.1882, 0.7961, 0.7176, 0.7608, 0.8353, 0.7725, 0.7255, 0.7451,\n",
      "          0.7608, 0.7529, 0.7922, 0.8392, 0.8588, 0.8667, 0.8627, 0.9255,\n",
      "          0.8824, 0.8471, 0.7804, 0.8078, 0.7294, 0.7098, 0.6941, 0.6745,\n",
      "          0.7098, 0.8039, 0.8078, 0.4510],\n",
      "         [0.0000, 0.4784, 0.8588, 0.7569, 0.7020, 0.6706, 0.7176, 0.7686,\n",
      "          0.8000, 0.8235, 0.8353, 0.8118, 0.8275, 0.8235, 0.7843, 0.7686,\n",
      "          0.7608, 0.7490, 0.7647, 0.7490, 0.7765, 0.7529, 0.6902, 0.6118,\n",
      "          0.6549, 0.6941, 0.8235, 0.3608],\n",
      "         [0.0000, 0.0000, 0.2902, 0.7412, 0.8314, 0.7490, 0.6863, 0.6745,\n",
      "          0.6863, 0.7098, 0.7255, 0.7373, 0.7412, 0.7373, 0.7569, 0.7765,\n",
      "          0.8000, 0.8196, 0.8235, 0.8235, 0.8275, 0.7373, 0.7373, 0.7608,\n",
      "          0.7529, 0.8471, 0.6667, 0.0000],\n",
      "         [0.0078, 0.0000, 0.0000, 0.0000, 0.2588, 0.7843, 0.8706, 0.9294,\n",
      "          0.9373, 0.9490, 0.9647, 0.9529, 0.9569, 0.8667, 0.8627, 0.7569,\n",
      "          0.7490, 0.7020, 0.7137, 0.7137, 0.7098, 0.6902, 0.6510, 0.6588,\n",
      "          0.3882, 0.2275, 0.0000, 0.0000],\n",
      "         [0.0000, 0.0000, 0.0000, 0.0000, 0.0000, 0.0000, 0.0000, 0.1569,\n",
      "          0.2392, 0.1725, 0.2824, 0.1608, 0.1373, 0.0000, 0.0000, 0.0000,\n",
      "          0.0000, 0.0000, 0.0000, 0.0000, 0.0000, 0.0000, 0.0000, 0.0000,\n",
      "          0.0000, 0.0000, 0.0000, 0.0000],\n",
      "         [0.0000, 0.0000, 0.0000, 0.0000, 0.0000, 0.0000, 0.0000, 0.0000,\n",
      "          0.0000, 0.0000, 0.0000, 0.0000, 0.0000, 0.0000, 0.0000, 0.0000,\n",
      "          0.0000, 0.0000, 0.0000, 0.0000, 0.0000, 0.0000, 0.0000, 0.0000,\n",
      "          0.0000, 0.0000, 0.0000, 0.0000],\n",
      "         [0.0000, 0.0000, 0.0000, 0.0000, 0.0000, 0.0000, 0.0000, 0.0000,\n",
      "          0.0000, 0.0000, 0.0000, 0.0000, 0.0000, 0.0000, 0.0000, 0.0000,\n",
      "          0.0000, 0.0000, 0.0000, 0.0000, 0.0000, 0.0000, 0.0000, 0.0000,\n",
      "          0.0000, 0.0000, 0.0000, 0.0000]]])\n"
     ]
    }
   ],
   "source": [
    "image ,label =train_data[0]\n",
    "print(f'image{image}')\n"
   ]
  },
  {
   "cell_type": "code",
   "execution_count": 11,
   "id": "4eb1257a-d895-414f-a686-acfd3e4c0c21",
   "metadata": {
    "vscode": {
     "languageId": "r"
    }
   },
   "outputs": [
    {
     "data": {
      "text/plain": [
       "Text(0.5, 1.0, 'boot')"
      ]
     },
     "execution_count": 11,
     "metadata": {},
     "output_type": "execute_result"
    },
    {
     "data": {
      "image/png": "[encoded data removed]",
      "text/plain": [
       "<Figure size 640x480 with 1 Axes>"
      ]
     },
     "metadata": {},
     "output_type": "display_data"
    }
   ],
   "source": [
    "plt.imshow(image.squeeze())\n",
    "plt.title('boot')"
   ]
  },
  {
   "cell_type": "code",
   "execution_count": 12,
   "id": "8dad39bb-a04d-4ed1-9d81-33daa7b31a8d",
   "metadata": {
    "vscode": {
     "languageId": "r"
    }
   },
   "outputs": [
    {
     "data": {
      "text/plain": [
       "(-0.5, 27.5, 27.5, -0.5)"
      ]
     },
     "execution_count": 12,
     "metadata": {},
     "output_type": "execute_result"
    },
    {
     "data": {
      "image/png": "[encoded data removed]",
      "text/plain": [
       "<Figure size 640x480 with 1 Axes>"
      ]
     },
     "metadata": {},
     "output_type": "display_data"
    }
   ],
   "source": [
    "plt.imshow(image.squeeze() , cmap ='gray')\n",
    "plt.axis(False)"
   ]
  },
  {
   "cell_type": "code",
   "execution_count": 13,
   "id": "0633136e-ab1e-4c68-9fec-70bfc3e0d215",
   "metadata": {
    "vscode": {
     "languageId": "r"
    }
   },
   "outputs": [
    {
     "data": {
      "image/png": "[encoded data removed]",
      "text/plain": [
       "<Figure size 900x900 with 16 Axes>"
      ]
     },
     "metadata": {},
     "output_type": "display_data"
    }
   ],
   "source": [
    "## plot more image \n",
    "# torch.manual_seed(42)\n",
    "fig = plt.figure(figsize =(9,9))\n",
    "row ,cols =4,4\n",
    "for i in range(1,row*cols+1):\n",
    "    random_idx =torch.randint(0,len(train_data),size=[1]).item()\n",
    "    img , label = train_data[random_idx]\n",
    "    fig.add_subplot(row ,cols ,i)\n",
    "    plt.imshow(img.squeeze(),cmap = 'gray')\n",
    "    plt.title(class_name[label])\n",
    "    plt.axis(False)"
   ]
  },
  {
   "cell_type": "code",
   "execution_count": null,
   "id": "b63b63bc-41e5-40eb-be6c-d29c8e3169c7",
   "metadata": {
    "vscode": {
     "languageId": "r"
    }
   },
   "outputs": [],
   "source": []
  },
  {
   "cell_type": "markdown",
   "id": "92d63090-8b07-4b73-8a3f-d1e555738246",
   "metadata": {},
   "source": [
    "Do you think items of clothing image could be modelled with pure line ? Or do you think will need \n",
    "non-linearity "
   ]
  },
  {
   "cell_type": "markdown",
   "id": "3c4dba7f-882a-4e37-989c-8905f196781e",
   "metadata": {},
   "source": [
    "## 2. prepare DataLoder\n",
    "* Right now, our data is in the form of Python Datasets\n",
    "\n",
    "* DataLOader turns our datasets into a python iterable \n",
    "\n",
    "* MOre specigically we want to turn our data into batches (or-minibatches)\n",
    "  1. It is more computainally efficient as in your computing hardware may no tbe ablre to look (in memory) at 6000 image in one hit. SO we break it down to 32 images at a time (batch size of 32)\n",
    "  2. it gives our neural more chances to udate its gradients per epoch"
   ]
  },
  {
   "cell_type": "code",
   "execution_count": 14,
   "id": "e5b130c8-5255-4671-8643-587624544ea4",
   "metadata": {
    "vscode": {
     "languageId": "r"
    }
   },
   "outputs": [
    {
     "data": {
      "text/plain": [
       "(Dataset FashionMNIST\n",
       "     Number of datapoints: 60000\n",
       "     Root location: image_data\n",
       "     Split: Train\n",
       "     StandardTransform\n",
       " Transform: ToTensor(),\n",
       " Dataset FashionMNIST\n",
       "     Number of datapoints: 10000\n",
       "     Root location: image_data\n",
       "     Split: Test\n",
       "     StandardTransform\n",
       " Transform: ToTensor())"
      ]
     },
     "execution_count": 14,
     "metadata": {},
     "output_type": "execute_result"
    }
   ],
   "source": [
    "train_data ,test_data"
   ]
  },
  {
   "cell_type": "code",
   "execution_count": null,
   "id": "0fe277b8-fdf3-4c10-b6aa-f301126e4220",
   "metadata": {
    "vscode": {
     "languageId": "r"
    }
   },
   "outputs": [],
   "source": []
  },
  {
   "cell_type": "code",
   "execution_count": 15,
   "id": "fcdeb34c-1a64-426c-9054-ba3e0d52e46d",
   "metadata": {
    "vscode": {
     "languageId": "r"
    }
   },
   "outputs": [
    {
     "data": {
      "text/plain": [
       "(<torch.utils.data.dataloader.DataLoader at 0x7b86303ae7a0>,\n",
       " <torch.utils.data.dataloader.DataLoader at 0x7b86303ae590>)"
      ]
     },
     "execution_count": 15,
     "metadata": {},
     "output_type": "execute_result"
    }
   ],
   "source": [
    "from torch.utils.data import DataLoader\n",
    "batch_size =32\n",
    "train_dataloader = DataLoader(dataset = train_data,\n",
    "                             batch_size =batch_size,\n",
    "                             shuffle= True)\n",
    "\n",
    "test_dataloader = DataLoader(dataset = test_data,\n",
    "                             batch_size =batch_size,\n",
    "                             shuffle= False)\n",
    "\n",
    "train_dataloader ,test_dataloader\n"
   ]
  },
  {
   "cell_type": "code",
   "execution_count": 16,
   "id": "622918b4-90b0-42be-b9b9-57fdcc6583a6",
   "metadata": {
    "vscode": {
     "languageId": "r"
    }
   },
   "outputs": [
    {
     "name": "stdout",
     "output_type": "stream",
     "text": [
      "dataloader: (<torch.utils.data.dataloader.DataLoader object at 0x7b86303ae7a0>, <torch.utils.data.dataloader.DataLoader object at 0x7b86303ae590>) batches 32\n",
      "length  of the train_dataloader :1875 batches of 32\n",
      "length  of the test_dataloader :313 batches of 32\n"
     ]
    }
   ],
   "source": [
    "## let's check out what what we'ev created\n",
    "print(f'dataloader: {train_dataloader ,test_dataloader} batches {batch_size}')\n",
    "print(f'length  of the train_dataloader :{len(train_dataloader)} batches of {batch_size}')\n",
    "print(f'length  of the test_dataloader :{len(test_dataloader)} batches of {batch_size}')"
   ]
  },
  {
   "cell_type": "code",
   "execution_count": 17,
   "id": "b3eb063c-2c1a-4c33-ac45-f3383a3310b4",
   "metadata": {
    "vscode": {
     "languageId": "r"
    }
   },
   "outputs": [
    {
     "data": {
      "text/plain": [
       "(torch.Size([32, 1, 28, 28]), torch.Size([32]))"
      ]
     },
     "execution_count": 17,
     "metadata": {},
     "output_type": "execute_result"
    }
   ],
   "source": [
    "# check out what's inside the trainig  dataloader \n",
    "train_features_batches ,train_labels_batch = next(iter(train_dataloader))\n",
    "train_features_batches.shape ,train_labels_batch.shape"
   ]
  },
  {
   "cell_type": "code",
   "execution_count": 18,
   "id": "e502ec11-2a84-4d69-8557-cf6ac2cbd9b2",
   "metadata": {
    "vscode": {
     "languageId": "r"
    }
   },
   "outputs": [
    {
     "name": "stdout",
     "output_type": "stream",
     "text": [
      "torch.Size([1, 28, 28])\n"
     ]
    },
    {
     "data": {
      "image/png": "[encoded data removed]",
      "text/plain": [
       "<Figure size 640x480 with 1 Axes>"
      ]
     },
     "metadata": {},
     "output_type": "display_data"
    }
   ],
   "source": [
    "# show a sample \n",
    "torch.manual_seed(42)\n",
    "random_idx =torch.randint(0,len(train_features_batches),size=[1]).item()\n",
    "image,label =train_features_batches[random_idx],train_labels_batch[random_idx]\n",
    "plt.imshow(image.squeeze(),cmap ='gray')\n",
    "plt.title(class_name[label])\n",
    "plt.axis(False)\n",
    "print(image.shape)"
   ]
  },
  {
   "cell_type": "markdown",
   "id": "bc6a1385-089b-4a09-8650-0b15f2556c4b",
   "metadata": {},
   "source": [
    "## 3. model 0: Build a basline model \n",
    "when starting to building a series of a machine modelling experiment i's best practice to start with a baseline model you will try and improve upon with subsequent models/ experiment \n"
   ]
  },
  {
   "cell_type": "code",
   "execution_count": 19,
   "id": "e41670f4-8ba4-43fe-8dc8-a55d71e26ec4",
   "metadata": {
    "vscode": {
     "languageId": "r"
    }
   },
   "outputs": [],
   "source": [
    "## create a flatten layer\n",
    "flatten_model = nn.Flatten()"
   ]
  },
  {
   "cell_type": "code",
   "execution_count": 20,
   "id": "d8a9ccbd-b3b0-4ad0-b4d0-5f91d6558058",
   "metadata": {
    "vscode": {
     "languageId": "r"
    }
   },
   "outputs": [
    {
     "data": {
      "text/plain": [
       "tensor([[[0.0000, 0.0000, 0.0000, 0.0000, 0.0000, 0.0000, 0.0000, 0.0000,\n",
       "          0.0000, 0.0314, 0.3961, 0.2471, 0.2196, 0.4627, 0.4510, 0.1922,\n",
       "          0.3020, 0.4863, 0.0118, 0.0000, 0.0000, 0.0000, 0.0000, 0.0000,\n",
       "          0.0000, 0.0000, 0.0000, 0.0000],\n",
       "         [0.0000, 0.0000, 0.0000, 0.0000, 0.0000, 0.0000, 0.0000, 0.0784,\n",
       "          0.1686, 0.0471, 0.6275, 0.7216, 0.7020, 0.9765, 1.0000, 0.6824,\n",
       "          0.9294, 0.6392, 0.0314, 0.2157, 0.1686, 0.0000, 0.0000, 0.0000,\n",
       "          0.0000, 0.0000, 0.0000, 0.0000],\n",
       "         [0.0000, 0.0000, 0.0000, 0.0000, 0.0000, 0.0118, 0.1412, 0.1412,\n",
       "          0.1059, 0.0471, 0.0196, 0.4784, 0.6588, 0.5922, 0.6314, 0.7137,\n",
       "          0.4118, 0.0000, 0.0314, 0.0706, 0.1333, 0.1922, 0.0000, 0.0000,\n",
       "          0.0000, 0.0000, 0.0000, 0.0000],\n",
       "         [0.0000, 0.0000, 0.0000, 0.0000, 0.0000, 0.1412, 0.1216, 0.0588,\n",
       "          0.0980, 0.1059, 0.0235, 0.0000, 0.1451, 0.3569, 0.2941, 0.0471,\n",
       "          0.0000, 0.0471, 0.0980, 0.0706, 0.0510, 0.1608, 0.1216, 0.0000,\n",
       "          0.0000, 0.0000, 0.0000, 0.0000],\n",
       "         [0.0000, 0.0000, 0.0000, 0.0000, 0.0000, 0.1451, 0.1255, 0.1059,\n",
       "          0.1255, 0.0941, 0.0706, 0.0784, 0.0000, 0.0000, 0.0000, 0.0314,\n",
       "          0.0863, 0.0667, 0.0941, 0.0706, 0.0863, 0.1059, 0.1608, 0.0000,\n",
       "          0.0000, 0.0000, 0.0000, 0.0000],\n",
       "         [0.0000, 0.0000, 0.0000, 0.0000, 0.0000, 0.1451, 0.1451, 0.1216,\n",
       "          0.1216, 0.0941, 0.0941, 0.0706, 0.0941, 0.0863, 0.0784, 0.0784,\n",
       "          0.0863, 0.0706, 0.0941, 0.0863, 0.1255, 0.1608, 0.1451, 0.0000,\n",
       "          0.0000, 0.0000, 0.0000, 0.0000],\n",
       "         [0.0000, 0.0000, 0.0000, 0.0000, 0.0000, 0.1725, 0.1608, 0.1059,\n",
       "          0.1333, 0.0980, 0.0863, 0.0784, 0.0784, 0.0784, 0.0863, 0.0863,\n",
       "          0.0706, 0.0706, 0.0980, 0.0784, 0.1216, 0.1922, 0.1216, 0.0118,\n",
       "          0.0000, 0.0000, 0.0000, 0.0000],\n",
       "         [0.0000, 0.0000, 0.0000, 0.0000, 0.0039, 0.2157, 0.1686, 0.1059,\n",
       "          0.1451, 0.0980, 0.0784, 0.0706, 0.0784, 0.0706, 0.0941, 0.0863,\n",
       "          0.0510, 0.0667, 0.0941, 0.0941, 0.0706, 0.1804, 0.1216, 0.0667,\n",
       "          0.0000, 0.0000, 0.0000, 0.0000],\n",
       "         [0.0000, 0.0000, 0.0000, 0.0000, 0.0784, 0.2000, 0.1804, 0.0980,\n",
       "          0.1451, 0.1216, 0.1137, 0.0863, 0.1059, 0.0706, 0.0863, 0.1333,\n",
       "          0.0667, 0.0706, 0.0980, 0.0863, 0.0667, 0.2824, 0.0980, 0.0863,\n",
       "          0.0000, 0.0000, 0.0000, 0.0000],\n",
       "         [0.0000, 0.0000, 0.0000, 0.0000, 0.0941, 0.2157, 0.1922, 0.0941,\n",
       "          0.1333, 0.1333, 0.1255, 0.0667, 0.0863, 0.0941, 0.0588, 0.1333,\n",
       "          0.0667, 0.0706, 0.0980, 0.0863, 0.0706, 0.2667, 0.1059, 0.1137,\n",
       "          0.0000, 0.0000, 0.0000, 0.0000],\n",
       "         [0.0000, 0.0000, 0.0000, 0.0000, 0.1451, 0.2078, 0.1922, 0.0863,\n",
       "          0.1255, 0.1529, 0.1216, 0.0510, 0.0941, 0.1059, 0.0941, 0.1333,\n",
       "          0.0784, 0.0706, 0.0941, 0.0941, 0.0667, 0.1451, 0.0941, 0.1529,\n",
       "          0.0000, 0.0000, 0.0000, 0.0000],\n",
       "         [0.0000, 0.0000, 0.0000, 0.0000, 0.1686, 0.1882, 0.2157, 0.0706,\n",
       "          0.1137, 0.1608, 0.1137, 0.0588, 0.1216, 0.1882, 0.2745, 0.1529,\n",
       "          0.0588, 0.0706, 0.0941, 0.0941, 0.0706, 0.0784, 0.0980, 0.1922,\n",
       "          0.0000, 0.0000, 0.0000, 0.0000],\n",
       "         [0.0000, 0.0000, 0.0000, 0.0000, 0.1686, 0.1922, 0.2471, 0.0863,\n",
       "          0.1216, 0.1529, 0.1216, 0.0510, 0.0863, 0.2000, 0.3373, 0.1412,\n",
       "          0.0706, 0.0784, 0.0941, 0.1059, 0.0863, 0.1059, 0.1333, 0.1922,\n",
       "          0.0196, 0.0000, 0.0000, 0.0000],\n",
       "         [0.0000, 0.0000, 0.0000, 0.0000, 0.1882, 0.1804, 0.2667, 0.0784,\n",
       "          0.1529, 0.1686, 0.1137, 0.0667, 0.0706, 0.2157, 0.3490, 0.1412,\n",
       "          0.0510, 0.0784, 0.0941, 0.1059, 0.0941, 0.1686, 0.1333, 0.1608,\n",
       "          0.0392, 0.0000, 0.0000, 0.0000],\n",
       "         [0.0000, 0.0000, 0.0000, 0.0235, 0.2078, 0.1882, 0.3294, 0.0667,\n",
       "          0.1608, 0.1451, 0.1059, 0.0784, 0.0667, 0.2078, 0.3412, 0.1255,\n",
       "          0.0471, 0.0784, 0.0941, 0.0980, 0.0980, 0.1686, 0.1451, 0.1529,\n",
       "          0.0510, 0.0000, 0.0000, 0.0000],\n",
       "         [0.0000, 0.0000, 0.0000, 0.0314, 0.1882, 0.2196, 0.3647, 0.0941,\n",
       "          0.1529, 0.1451, 0.0980, 0.0784, 0.0667, 0.2000, 0.3647, 0.1608,\n",
       "          0.0667, 0.0784, 0.1059, 0.1059, 0.0980, 0.1686, 0.1686, 0.1804,\n",
       "          0.0471, 0.0000, 0.0000, 0.0000],\n",
       "         [0.0000, 0.0000, 0.0000, 0.0235, 0.1529, 0.3098, 0.2902, 0.1255,\n",
       "          0.1451, 0.1451, 0.1137, 0.0863, 0.0706, 0.1804, 0.3647, 0.1686,\n",
       "          0.0706, 0.1059, 0.1059, 0.0980, 0.0588, 0.2196, 0.2196, 0.1216,\n",
       "          0.0588, 0.0000, 0.0000, 0.0000],\n",
       "         [0.0000, 0.0000, 0.0000, 0.0314, 0.1451, 0.4588, 0.1882, 0.0784,\n",
       "          0.1451, 0.1529, 0.1255, 0.1137, 0.0510, 0.2667, 0.4588, 0.1412,\n",
       "          0.0667, 0.0980, 0.0941, 0.1137, 0.0941, 0.2000, 0.2157, 0.1451,\n",
       "          0.0706, 0.0000, 0.0000, 0.0000],\n",
       "         [0.0000, 0.0000, 0.0000, 0.0667, 0.0706, 0.5922, 0.2157, 0.0118,\n",
       "          0.1137, 0.1686, 0.1216, 0.1137, 0.0039, 0.2941, 0.5098, 0.1059,\n",
       "          0.0667, 0.0706, 0.1216, 0.0667, 0.1255, 0.2941, 0.1804, 0.1333,\n",
       "          0.0863, 0.0000, 0.0000, 0.0000],\n",
       "         [0.0000, 0.0000, 0.0000, 0.1137, 0.0118, 0.5608, 0.7020, 0.0118,\n",
       "          0.1137, 0.1216, 0.1451, 0.1882, 0.0667, 0.3137, 0.5647, 0.1412,\n",
       "          0.1255, 0.1412, 0.1412, 0.0039, 0.1451, 0.2824, 0.1529, 0.1333,\n",
       "          0.1137, 0.0000, 0.0000, 0.0000],\n",
       "         [0.0000, 0.0000, 0.0000, 0.1059, 0.0510, 0.3412, 0.6588, 0.0000,\n",
       "          0.1333, 0.1059, 0.1216, 0.0196, 0.0000, 0.0667, 0.1451, 0.0039,\n",
       "          0.0118, 0.1608, 0.0980, 0.0784, 0.0000, 0.3020, 0.2000, 0.1412,\n",
       "          0.1137, 0.0000, 0.0000, 0.0000],\n",
       "         [0.0000, 0.0000, 0.0000, 0.1608, 0.0980, 0.2000, 0.6863, 0.1333,\n",
       "          0.1608, 0.1725, 0.0039, 0.0000, 0.0000, 0.0000, 0.0000, 0.0000,\n",
       "          0.0000, 0.0000, 0.0235, 0.0314, 0.0667, 0.5922, 0.1412, 0.1882,\n",
       "          0.1137, 0.0000, 0.0000, 0.0000],\n",
       "         [0.0000, 0.0000, 0.0000, 0.1333, 0.1255, 0.1451, 0.7020, 0.0471,\n",
       "          0.1922, 0.0588, 0.0000, 0.0000, 0.0000, 0.0000, 0.0000, 0.0000,\n",
       "          0.0000, 0.0000, 0.0000, 0.0000, 0.2902, 0.7529, 0.0667, 0.1804,\n",
       "          0.1137, 0.0000, 0.0000, 0.0000],\n",
       "         [0.0000, 0.0000, 0.0000, 0.1451, 0.1529, 0.1922, 0.6863, 0.0000,\n",
       "          0.0000, 0.0000, 0.0000, 0.0000, 0.0000, 0.0000, 0.0000, 0.0000,\n",
       "          0.0000, 0.0039, 0.0000, 0.0000, 0.0588, 0.5843, 0.1333, 0.1882,\n",
       "          0.1059, 0.0000, 0.0000, 0.0000],\n",
       "         [0.0000, 0.0000, 0.0000, 0.1412, 0.1451, 0.2667, 0.5529, 0.0000,\n",
       "          0.0000, 0.0000, 0.0000, 0.0000, 0.0000, 0.0000, 0.0000, 0.0000,\n",
       "          0.0000, 0.0039, 0.0118, 0.0000, 0.0000, 0.5804, 0.3216, 0.1333,\n",
       "          0.1059, 0.0000, 0.0000, 0.0000],\n",
       "         [0.0000, 0.0000, 0.0000, 0.1333, 0.1255, 0.3412, 0.5529, 0.0000,\n",
       "          0.0000, 0.0000, 0.0000, 0.0000, 0.0000, 0.0000, 0.0000, 0.0000,\n",
       "          0.0000, 0.0039, 0.0118, 0.0000, 0.0000, 0.7608, 0.2902, 0.1137,\n",
       "          0.1137, 0.0000, 0.0000, 0.0000],\n",
       "         [0.0000, 0.0000, 0.0000, 0.1686, 0.1725, 0.4235, 0.7804, 0.0000,\n",
       "          0.0000, 0.0000, 0.0000, 0.0000, 0.0000, 0.0000, 0.0000, 0.0000,\n",
       "          0.0000, 0.0039, 0.0000, 0.0000, 0.0000, 0.7882, 0.2745, 0.1804,\n",
       "          0.1608, 0.0000, 0.0000, 0.0000],\n",
       "         [0.0000, 0.0000, 0.0000, 0.0706, 0.0980, 0.2471, 0.4902, 0.0000,\n",
       "          0.0000, 0.0000, 0.0000, 0.0000, 0.0000, 0.0000, 0.0000, 0.0000,\n",
       "          0.0000, 0.0000, 0.0000, 0.0000, 0.0000, 0.3961, 0.2667, 0.0980,\n",
       "          0.0941, 0.0000, 0.0000, 0.0000]]])"
      ]
     },
     "execution_count": 20,
     "metadata": {},
     "output_type": "execute_result"
    }
   ],
   "source": [
    "# get a single sample\n",
    "X = train_features_batches[0]\n",
    "X"
   ]
  },
  {
   "cell_type": "code",
   "execution_count": 21,
   "id": "fb4d2618-9f7f-4a36-bf19-40a5342eda2a",
   "metadata": {
    "vscode": {
     "languageId": "r"
    }
   },
   "outputs": [
    {
     "name": "stdout",
     "output_type": "stream",
     "text": [
      "shape before flattening: torch.Size([1, 28, 28])\n",
      "shape after flattening : torch.Size([1, 784])\n"
     ]
    }
   ],
   "source": [
    "# flatten the sample \n",
    "output = flatten_model(X) # perform forward pass\n",
    "\n",
    "# print out what happened \n",
    "print(f'shape before flattening: {X.shape}')\n",
    "print(f'shape after flattening : {output.shape}')"
   ]
  },
  {
   "cell_type": "code",
   "execution_count": 22,
   "id": "d45b4f32-1bcd-4cb4-96d5-ba33bfaa9dcc",
   "metadata": {
    "vscode": {
     "languageId": "r"
    }
   },
   "outputs": [
    {
     "data": {
      "text/plain": [
       "FaishonMNISTModelV0(\n",
       "  (layer_stack): Sequential(\n",
       "    (0): Flatten(start_dim=1, end_dim=-1)\n",
       "    (1): Linear(in_features=784, out_features=10, bias=True)\n",
       "    (2): Linear(in_features=10, out_features=10, bias=True)\n",
       "  )\n",
       ")"
      ]
     },
     "execution_count": 22,
     "metadata": {},
     "output_type": "execute_result"
    }
   ],
   "source": [
    "from torch import nn\n",
    "class FaishonMNISTModelV0(nn.Module):\n",
    "    def __init__(self,\n",
    "                input_shape:int,\n",
    "                hidden_units: int,\n",
    "                output_shape: int):\n",
    "        super().__init__()\n",
    "        self.layer_stack =nn.Sequential(\n",
    "            nn.Flatten(),\n",
    "            nn.Linear(in_features=input_shape,\n",
    "                     out_features=hidden_units),\n",
    "            nn.Linear(in_features=hidden_units,\n",
    "                     out_features=output_shape),\n",
    "        )\n",
    "    def forward(self,X):\n",
    "        return self.layer_stack(X)\n",
    "\n",
    "torch.manual_seed(42)\n",
    "model_0 = FaishonMNISTModelV0(input_shape= 784 ,# 28*28,\n",
    "                             hidden_units= 10,\n",
    "                              output_shape = len(class_name) # one for every class\n",
    "                             )\n",
    "model_0"
   ]
  },
  {
   "cell_type": "code",
   "execution_count": 23,
   "id": "7aa21ce0-c677-43c4-a300-0e57dca5ac0c",
   "metadata": {
    "vscode": {
     "languageId": "r"
    }
   },
   "outputs": [
    {
     "data": {
      "text/plain": [
       "tensor([[-0.0315,  0.3171,  0.0531, -0.2525,  0.5959,  0.2112,  0.3233,  0.2694,\n",
       "         -0.1004,  0.0157]], grad_fn=<AddmmBackward0>)"
      ]
     },
     "execution_count": 23,
     "metadata": {},
     "output_type": "execute_result"
    }
   ],
   "source": [
    "dummy_x = torch.rand([1,1,28,28])\n",
    "model_0(dummy_x)"
   ]
  },
  {
   "cell_type": "code",
   "execution_count": 24,
   "id": "39ad1ce4-39c0-454c-9ccd-a20df354dcfd",
   "metadata": {
    "vscode": {
     "languageId": "r"
    }
   },
   "outputs": [
    {
     "data": {
      "text/plain": [
       "OrderedDict([('layer_stack.1.weight',\n",
       "              tensor([[ 0.0273,  0.0296, -0.0084,  ..., -0.0142,  0.0093,  0.0135],\n",
       "                      [-0.0188, -0.0354,  0.0187,  ..., -0.0106, -0.0001,  0.0115],\n",
       "                      [-0.0008,  0.0017,  0.0045,  ..., -0.0127, -0.0188,  0.0059],\n",
       "                      ...,\n",
       "                      [-0.0116,  0.0273, -0.0344,  ...,  0.0176,  0.0283, -0.0011],\n",
       "                      [-0.0230,  0.0257,  0.0291,  ..., -0.0187, -0.0087,  0.0001],\n",
       "                      [ 0.0176, -0.0147,  0.0053,  ..., -0.0336, -0.0221,  0.0205]])),\n",
       "             ('layer_stack.1.bias',\n",
       "              tensor([-0.0093,  0.0283, -0.0033,  0.0255,  0.0017,  0.0037, -0.0302, -0.0123,\n",
       "                       0.0018,  0.0163])),\n",
       "             ('layer_stack.2.weight',\n",
       "              tensor([[ 0.0614, -0.0687,  0.0021,  0.2718,  0.2109,  0.1079, -0.2279, -0.1063,\n",
       "                        0.2019,  0.2847],\n",
       "                      [-0.1495,  0.1344, -0.0740,  0.2006, -0.0475, -0.2514, -0.3130, -0.0118,\n",
       "                        0.0932, -0.1864],\n",
       "                      [ 0.2488,  0.1500,  0.1907,  0.1457, -0.3050, -0.0580,  0.1643,  0.1565,\n",
       "                       -0.2877, -0.1792],\n",
       "                      [ 0.2305, -0.2618,  0.2397, -0.0610,  0.0232,  0.1542,  0.0851, -0.2027,\n",
       "                        0.1030, -0.2715],\n",
       "                      [-0.1596, -0.0555, -0.0633,  0.2302, -0.1726,  0.2654,  0.1473,  0.1029,\n",
       "                        0.2252, -0.2160],\n",
       "                      [-0.2725,  0.0118,  0.1559,  0.1596,  0.0132,  0.3024,  0.1124,  0.1366,\n",
       "                       -0.1533,  0.0965],\n",
       "                      [-0.1184, -0.2555, -0.2057, -0.1909, -0.0477, -0.1324,  0.2905,  0.1307,\n",
       "                       -0.2629,  0.0133],\n",
       "                      [ 0.2727, -0.0127,  0.0513,  0.0863, -0.1043, -0.2047, -0.1185, -0.0825,\n",
       "                        0.2488, -0.2571],\n",
       "                      [ 0.0425, -0.1209, -0.0336, -0.0281, -0.1227,  0.0730,  0.0747, -0.1816,\n",
       "                        0.1943,  0.2853],\n",
       "                      [-0.1310,  0.0645, -0.1171,  0.2168, -0.0245, -0.2820,  0.0736,  0.2621,\n",
       "                        0.0012, -0.0810]])),\n",
       "             ('layer_stack.2.bias',\n",
       "              tensor([-0.0087,  0.1791,  0.2712, -0.0791,  0.1685,  0.1762,  0.2825,  0.2266,\n",
       "                      -0.2612, -0.2613]))])"
      ]
     },
     "execution_count": 24,
     "metadata": {},
     "output_type": "execute_result"
    }
   ],
   "source": [
    "model_0.state_dict()"
   ]
  },
  {
   "cell_type": "markdown",
   "id": "cfc1c14c-ad92-431a-82ad-6c2506b4aa8b",
   "metadata": {},
   "source": [
    "## 3.1 setup loss , optimizer and evaluation \n",
    "* loss function - since we're working with multi-class our loss function will ne `nn.CrossEntropy`\n",
    "* OPtimizer = our optimizer `torch.optim.SGD()`"
   ]
  },
  {
   "cell_type": "code",
   "execution_count": 25,
   "id": "b545c06d-e101-40cd-8aad-369b2c3df623",
   "metadata": {
    "vscode": {
     "languageId": "r"
    }
   },
   "outputs": [],
   "source": [
    "# import accuracy metric \n",
    "from helper_functions import accuracy_fn\n",
    "# set up loss and optimizer \n",
    "loss_fn = nn.CrossEntropyLoss()\n",
    "optimizer = torch.optim.SGD(params = model_0.parameters(),\n",
    "                           lr = 0.1)"
   ]
  },
  {
   "cell_type": "markdown",
   "id": "12a0765c-c910-4f6a-b3e4-953865ed6f2d",
   "metadata": {},
   "source": [
    "### 3.2 function to time our experiment model \n",
    "Machine learning is vary experimental \n",
    "1. model's performence loss and accuracy values\n",
    "2. how fast it runs "
   ]
  },
  {
   "cell_type": "code",
   "execution_count": 26,
   "id": "13f07936-9523-480e-88b8-6ce4a80bed08",
   "metadata": {
    "vscode": {
     "languageId": "r"
    }
   },
   "outputs": [],
   "source": [
    "from timeit import default_timer as  timer \n",
    "def print_train_time(start:float,\n",
    "                    end:float,\n",
    "                    device :torch.device =None):\n",
    "    total_time = end-start\n",
    "    print(f'train time on {device} : {total_time:.3f} second')\n",
    "    return total_time\n",
    "    "
   ]
  },
  {
   "cell_type": "code",
   "execution_count": 27,
   "id": "a3dfcaf0-4c9f-475a-891d-c40f3e899b6b",
   "metadata": {
    "vscode": {
     "languageId": "r"
    }
   },
   "outputs": [
    {
     "name": "stdout",
     "output_type": "stream",
     "text": [
      "train time on cpu : 0.000 second\n"
     ]
    },
    {
     "data": {
      "text/plain": [
       "3.7384999998835156e-05"
      ]
     },
     "execution_count": 27,
     "metadata": {},
     "output_type": "execute_result"
    }
   ],
   "source": [
    "start_time = timer()\n",
    "# some code \n",
    "end_time =timer()\n",
    "print_train_time(start =start_time ,end =end_time,device ='cpu')"
   ]
  },
  {
   "cell_type": "markdown",
   "id": "a9b5d5e7-3939-4e4d-b4b8-11a1c658421d",
   "metadata": {},
   "source": [
    "### createing a training  loop  aand  taining a model on batches of data\n",
    "1. loop through epochs\n",
    "2. Loop through tranining batches perform training setp , caculate the train loss per batch\n",
    "3. loop through testing batches perform testing step, calculate the test loss per batch\n",
    "4. print out what's happining\n",
    "5. time it all(for fun)\n"
   ]
  },
  {
   "cell_type": "code",
   "execution_count": 28,
   "id": "793ce7bc-1344-4167-a0fb-05558baf5cd1",
   "metadata": {
    "vscode": {
     "languageId": "r"
    }
   },
   "outputs": [
    {
     "data": {
      "application/vnd.jupyter.widget-view+json": {
       "model_id": "fdf57dbed51440cb83d40f2830d140e7",
       "version_major": 2,
       "version_minor": 0
      },
      "text/plain": [
       "  0%|          | 0/3 [00:00<?, ?it/s]"
      ]
     },
     "metadata": {},
     "output_type": "display_data"
    },
    {
     "name": "stdout",
     "output_type": "stream",
     "text": [
      "Epoch: 0\\------\n",
      "Looked at 0/60000 samples.\n",
      "Looked at 12800/60000 samples.\n",
      "Looked at 25600/60000 samples.\n",
      "Looked at 38400/60000 samples.\n",
      "Looked at 51200/60000 samples.\n",
      "\n",
      " train loss : 0.5904 | test loss0.5095 | test_acc 82.0387 \n",
      "Epoch: 1\\------\n",
      "Looked at 0/60000 samples.\n",
      "Looked at 12800/60000 samples.\n",
      "Looked at 25600/60000 samples.\n",
      "Looked at 38400/60000 samples.\n",
      "Looked at 51200/60000 samples.\n",
      "\n",
      " train loss : 0.4763 | test loss0.4799 | test_acc 83.1969 \n",
      "Epoch: 2\\------\n",
      "Looked at 0/60000 samples.\n",
      "Looked at 12800/60000 samples.\n",
      "Looked at 25600/60000 samples.\n",
      "Looked at 38400/60000 samples.\n",
      "Looked at 51200/60000 samples.\n",
      "\n",
      " train loss : 0.4550 | test loss0.4766 | test_acc 83.4265 \n",
      "train time on cpu : 119.132 second\n"
     ]
    }
   ],
   "source": [
    "# import tqdm for progress bar \n",
    "from tqdm.auto import tqdm \n",
    "\n",
    "# set the seed and start the timer \n",
    "torch.manual_seed(42)\n",
    "train_time_start_on_cpu = timer()\n",
    "\n",
    "# set he number of epochs (we'll keep this samll for faster training time )\n",
    "epochs =3\n",
    "\n",
    "# creates training and test loop\n",
    "for epoch in tqdm(range(epochs)):\n",
    "    print(f'Epoch: {epoch}\\------')\n",
    "    ## training \n",
    "    train_loss = 0 \n",
    "    ## add a loop to loop through the rtraining batches \n",
    "    for batch,(X,y) in enumerate(train_dataloader):\n",
    "        model_0.train()\n",
    "        # 1. forward pass\n",
    "        y_pred = model_0(X)\n",
    "\n",
    "        # 2. calculate loss (per batch)\n",
    "        loss = loss_fn(y_pred,y)\n",
    "        train_loss += loss # acumulate the train loss\n",
    "\n",
    "        optimizer.zero_grad()\n",
    "\n",
    "        loss.backward()\n",
    "\n",
    "        optimizer.step()\n",
    "\n",
    "        if batch %400 == 0:\n",
    "            print(f'Looked at {batch * len(X)}/{len(train_dataloader.dataset)} samples.')\n",
    "    # divide total train los by length of train dataloader \n",
    "    train_loss/= len(train_dataloader)\n",
    "    #### testing loop\n",
    "    test_loss ,test_acc = 0,0\n",
    "    model_0.eval()\n",
    "    with torch.inference_mode():\n",
    "        for X, y in test_dataloader:\n",
    "            # 1. forward pass\n",
    "            test_pred = model_0(X)\n",
    "\n",
    "            # calculate the loss\n",
    "            test_loss += loss_fn(test_pred,y)\n",
    "            # calculate the acccuracy\n",
    "            test_acc += accuracy_fn(y_true = y ,y_pred = test_pred.argmax(dim=1))\n",
    "        #calculate the test loss average per batch \n",
    "        test_loss/= len(test_dataloader)\n",
    "\n",
    "        # calculate the \n",
    "        test_acc /= len(test_dataloader)\n",
    "    # print out what happining \n",
    "    print(f'\\n train loss : {train_loss:.4f} | test loss{test_loss:.4f} | test_acc {test_acc:.4f} ')\n",
    "# calculate training time \n",
    "train_time_end_on_cpu = timer()\n",
    "total_train_time_model_0 = print_train_time(start = train_time_start_on_cpu,\n",
    "                                           end = train_time_end_on_cpu,\n",
    "                                           device =str(next(model_0.parameters()).device))"
   ]
  },
  {
   "cell_type": "code",
   "execution_count": null,
   "id": "411e2fe7-f48e-4f04-a3a9-816704395a2f",
   "metadata": {
    "vscode": {
     "languageId": "r"
    }
   },
   "outputs": [],
   "source": []
  },
  {
   "cell_type": "code",
   "execution_count": 29,
   "id": "1b72ed0e-5790-4b45-977a-631ba26dd8b7",
   "metadata": {
    "vscode": {
     "languageId": "r"
    }
   },
   "outputs": [
    {
     "data": {
      "text/plain": [
       "device(type='cpu')"
      ]
     },
     "execution_count": 29,
     "metadata": {},
     "output_type": "execute_result"
    }
   ],
   "source": [
    "next(model_0.parameters()).device"
   ]
  },
  {
   "cell_type": "markdown",
   "id": "550b6d7b-5b14-4b02-b5e1-17ed8d2315cd",
   "metadata": {},
   "source": [
    "### 4  make predictions and get model_0 result "
   ]
  },
  {
   "cell_type": "code",
   "execution_count": 30,
   "id": "8596aa47-bb57-4040-b652-116c447b3973",
   "metadata": {
    "vscode": {
     "languageId": "r"
    }
   },
   "outputs": [],
   "source": [
    "torch.manual_seed(42)\n",
    "def eval_model(model:torch.nn.Module,\n",
    "              data_loader : torch.utils.data.DataLoader,\n",
    "              loss_fn : torch.nn.Module,\n",
    "              accuracy_fn,\n",
    "              device ):\n",
    "    loss,acc = 0 ,0\n",
    "    model.eval()\n",
    "    with torch.inference_mode():\n",
    "        for X, y  in tqdm(data_loader):\n",
    "            X,y = X.to(device) ,y.to(device)\n",
    "            \n",
    "            y_pred =model(X)\n",
    "\n",
    "            # accumulate the loss and acc \n",
    "            loss += loss_fn(y_pred,y)\n",
    "            acc += accuracy_fn(y_true = y,\n",
    "                              y_pred = y_pred.argmax(dim =1))\n",
    "\n",
    "        loss /= len(data_loader)\n",
    "        acc /= len(data_loader)\n",
    "    return {\"model_name \":model.__class__.__name__,\n",
    "           'model_loss':loss.item(),\n",
    "           'model_acc': acc}\n",
    "\n",
    "\n",
    "\n"
   ]
  },
  {
   "cell_type": "code",
   "execution_count": 31,
   "id": "6e49077d-3174-477e-b942-aa6a2dfd7a9d",
   "metadata": {},
   "outputs": [
    {
     "data": {
      "application/vnd.jupyter.widget-view+json": {
       "model_id": "0135442d1ec64f93b221d57d579633e4",
       "version_major": 2,
       "version_minor": 0
      },
      "text/plain": [
       "  0%|          | 0/313 [00:00<?, ?it/s]"
      ]
     },
     "metadata": {},
     "output_type": "display_data"
    }
   ],
   "source": [
    "model_0_result = eval_model(model_0,\n",
    "                           data_loader = test_dataloader,\n",
    "                           loss_fn = loss_fn,\n",
    "                           accuracy_fn= accuracy_fn,\n",
    "                           device = 'cpu')"
   ]
  },
  {
   "cell_type": "code",
   "execution_count": 32,
   "id": "d4e207e7-e31a-4b99-b074-55c6edba34ad",
   "metadata": {
    "vscode": {
     "languageId": "r"
    }
   },
   "outputs": [
    {
     "data": {
      "text/plain": [
       "{'model_name ': 'FaishonMNISTModelV0',\n",
       " 'model_loss': 0.47663894295692444,\n",
       " 'model_acc': 83.42651757188499}"
      ]
     },
     "execution_count": 32,
     "metadata": {},
     "output_type": "execute_result"
    }
   ],
   "source": [
    "model_0_result"
   ]
  },
  {
   "cell_type": "markdown",
   "id": "6cbc804d-5479-4bbf-9ca6-338e4cc5ef63",
   "metadata": {},
   "source": [
    "### 5. setup device agostic code "
   ]
  },
  {
   "cell_type": "code",
   "execution_count": 33,
   "id": "8dd8074d-8da4-40b3-9597-f5b3c1727751",
   "metadata": {
    "vscode": {
     "languageId": "r"
    }
   },
   "outputs": [
    {
     "name": "stdout",
     "output_type": "stream",
     "text": [
      "Sun Jun  2 09:44:29 2024       \n",
      "+---------------------------------------------------------------------------------------+\n",
      "| NVIDIA-SMI 535.171.04             Driver Version: 535.171.04   CUDA Version: 12.2     |\n",
      "|-----------------------------------------+----------------------+----------------------+\n",
      "| GPU  Name                 Persistence-M | Bus-Id        Disp.A | Volatile Uncorr. ECC |\n",
      "| Fan  Temp   Perf          Pwr:Usage/Cap |         Memory-Usage | GPU-Util  Compute M. |\n",
      "|                                         |                      |               MIG M. |\n",
      "|=========================================+======================+======================|\n",
      "|   0  NVIDIA GeForce RTX 3050 ...    Off | 00000000:01:00.0 Off |                  N/A |\n",
      "| N/A   47C    P8               5W /  35W |     10MiB /  4096MiB |      0%      Default |\n",
      "|                                         |                      |                  N/A |\n",
      "+-----------------------------------------+----------------------+----------------------+\n",
      "                                                                                         \n",
      "+---------------------------------------------------------------------------------------+\n",
      "| Processes:                                                                            |\n",
      "|  GPU   GI   CI        PID   Type   Process name                            GPU Memory |\n",
      "|        ID   ID                                                             Usage      |\n",
      "|=======================================================================================|\n",
      "|    0   N/A  N/A      2165      G   /usr/lib/xorg/Xorg                            4MiB |\n",
      "+---------------------------------------------------------------------------------------+\n"
     ]
    }
   ],
   "source": [
    "!nvidia-smi"
   ]
  },
  {
   "cell_type": "code",
   "execution_count": 34,
   "id": "2bc2b63e-9366-46ae-8640-67f67ba2c7e3",
   "metadata": {
    "vscode": {
     "languageId": "r"
    }
   },
   "outputs": [
    {
     "data": {
      "text/plain": [
       "True"
      ]
     },
     "execution_count": 34,
     "metadata": {},
     "output_type": "execute_result"
    }
   ],
   "source": [
    "torch.cuda.is_available()"
   ]
  },
  {
   "cell_type": "code",
   "execution_count": 35,
   "id": "f583543c-dfeb-43ce-8e69-6e2971c6cf94",
   "metadata": {
    "vscode": {
     "languageId": "r"
    }
   },
   "outputs": [],
   "source": [
    "# setup device agnostic code\n",
    "import torch\n",
    "device = 'cuda' if   torch.cuda.is_available() else 'cpu'\n"
   ]
  },
  {
   "cell_type": "code",
   "execution_count": 36,
   "id": "9d89e7bf-bdfb-4a59-a756-24235d170d40",
   "metadata": {
    "vscode": {
     "languageId": "r"
    }
   },
   "outputs": [
    {
     "data": {
      "text/plain": [
       "'cuda'"
      ]
     },
     "execution_count": 36,
     "metadata": {},
     "output_type": "execute_result"
    }
   ],
   "source": [
    "device"
   ]
  },
  {
   "cell_type": "markdown",
   "id": "26a491a3-e917-41e2-ad07-28cb07916fb2",
   "metadata": {},
   "source": [
    "### 6. MOdel 1 : build a better model with non-linearity \n",
    "\n",
    "We learned about the power of non-linearity in notebook 2 "
   ]
  },
  {
   "cell_type": "code",
   "execution_count": 37,
   "id": "bcb083f8-cd5f-48b6-be54-6c7790751390",
   "metadata": {
    "vscode": {
     "languageId": "r"
    }
   },
   "outputs": [],
   "source": [
    "# create a model with non-linear and linear layer\n",
    "class FashionMNISTModelV1(nn.Module):\n",
    "    def __init__(self,\n",
    "                input_shape :int,\n",
    "                hidden_units :int ,\n",
    "                output_shape : int):\n",
    "        super().__init__()\n",
    "        self.layer_stack= nn.Sequential(\n",
    "            nn.Flatten(),\n",
    "            nn.Linear(in_features=input_shape , out_features = hidden_units),\n",
    "            nn.ReLU(),\n",
    "            nn.Linear(in_features=hidden_units , out_features = output_shape),\n",
    "            nn.ReLU()\n",
    "                        )\n",
    "    def forward(self,x:torch.Tensor):\n",
    "         return self.layer_stack(x)"
   ]
  },
  {
   "cell_type": "code",
   "execution_count": 38,
   "id": "acdad0e8-940e-4b82-bd32-5e3461d9ee30",
   "metadata": {
    "vscode": {
     "languageId": "r"
    }
   },
   "outputs": [
    {
     "data": {
      "text/plain": [
       "device(type='cpu')"
      ]
     },
     "execution_count": 38,
     "metadata": {},
     "output_type": "execute_result"
    }
   ],
   "source": [
    "next(model_0.parameters()).device"
   ]
  },
  {
   "cell_type": "code",
   "execution_count": 39,
   "id": "a940494b-6885-4cd6-8f75-863a83f3f694",
   "metadata": {
    "vscode": {
     "languageId": "r"
    }
   },
   "outputs": [
    {
     "data": {
      "text/plain": [
       "device(type='cuda', index=0)"
      ]
     },
     "execution_count": 39,
     "metadata": {},
     "output_type": "execute_result"
    }
   ],
   "source": [
    "# create an instance of model_1 \n",
    "torch.manual_seed(42)\n",
    "model_1 = FashionMNISTModelV1(input_shape=784, # this is the output of the flatten after the 28*28\n",
    "                            hidden_units= 10,\n",
    "                            output_shape=len(class_name)).to(device)\n",
    "\n",
    "next(model_1.parameters()).device\n"
   ]
  },
  {
   "cell_type": "code",
   "execution_count": 40,
   "id": "0af3b66b-535f-4936-a8b1-8890795718b3",
   "metadata": {
    "vscode": {
     "languageId": "r"
    }
   },
   "outputs": [],
   "source": [
    "### setup loss and optimixer function \n",
    "\n",
    "from helper_functions import accuracy_fn\n",
    "loss_fn = nn.CrossEntropyLoss()\n",
    "optimizer = torch.optim.SGD(params = model_1.parameters(),\n",
    "                            lr =0.1)\n",
    "                            "
   ]
  },
  {
   "cell_type": "markdown",
   "id": "8551b28e-8dc9-4b12-8525-faa2b377d0f4",
   "metadata": {
    "vscode": {
     "languageId": "r"
    }
   },
   "source": [
    "### 6.2 functionizing training and evaluation/testing loops \n",
    "* function for training `train_step()`\n",
    "* testing loop `testing_step()`"
   ]
  },
  {
   "cell_type": "code",
   "execution_count": 41,
   "id": "2d0a816c-8032-4c5f-a304-f2a1cdf6f034",
   "metadata": {
    "vscode": {
     "languageId": "r"
    }
   },
   "outputs": [],
   "source": [
    "def train_step(model : torch.nn.Module,\n",
    "              data_loader: torch.utils.data.DataLoader,\n",
    "              loss_fn : torch.nn.Module,\n",
    "              optimizer: torch.optim.Optimizer,\n",
    "              accuracy_fn,\n",
    "              device : torch.device = device):\n",
    "    train_loss ,train_acc = 0,0\n",
    "    model.to(device)\n",
    "    ## add a loop to loop through the training batches \n",
    "    for batch,(X,y) in enumerate(data_loader):\n",
    "        model.train()\n",
    "        \n",
    "        # put data on target device \n",
    "        X,y = X.to(device) ,y.to(device)\n",
    "        # 1. forward pass\n",
    "        y_pred = model(X)\n",
    "\n",
    "        # 2. calculate loss (per batch)\n",
    "        loss = loss_fn(y_pred,y)\n",
    "        train_loss += loss # acumulate the train loss\n",
    "        train_acc += accuracy_fn(y_true=y,\n",
    "                                y_pred =y_pred.argmax(dim=1))\n",
    "        optimizer.zero_grad()\n",
    "\n",
    "        loss.backward()\n",
    "\n",
    "        optimizer.step()\n",
    "\n",
    "        if batch %400 == 0:\n",
    "            print(f'Looked at {batch * len(X)}/{len(train_dataloader.dataset)} samples.')\n",
    "    # divide total train los by length of train dataloader \n",
    "    train_loss/= len(data_loader)\n",
    "    train_acc/= len(data_loader)\n",
    "    print(f'train loss :{train_loss:.3f} | train_acc: {train_acc:.2f}')"
   ]
  },
  {
   "cell_type": "code",
   "execution_count": 42,
   "id": "46926389-819e-4543-b9ea-b5dcce786ca9",
   "metadata": {
    "vscode": {
     "languageId": "r"
    }
   },
   "outputs": [],
   "source": [
    "def test_step(model:torch.nn.Module,\n",
    "              data_loader: torch.utils.data.DataLoader,\n",
    "              loss_fn : torch.nn.Module,\n",
    "              accuracy_fn,\n",
    "              device : torch.device = device):\n",
    "    # put the model in eval mode\n",
    "    test_loss ,test_acc = 0,0\n",
    "    model.eval()\n",
    "    with torch.inference_mode(): \n",
    "        for X, y in test_dataloader:\n",
    "            X,y = X.to(device) ,y.to(device)\n",
    "            \n",
    "            # 1. forward pass\n",
    "            test_pred = model(X)\n",
    "\n",
    "            # calculate the loss\n",
    "            test_loss += loss_fn(test_pred,y)\n",
    "            # calculate the acccuracy\n",
    "            test_acc += accuracy_fn(y_true = y ,y_pred = test_pred.argmax(dim=1))\n",
    "        #calculate the test loss average per batch \n",
    "        test_loss/= len(data_loader)\n",
    "\n",
    "        # calculate the \n",
    "        test_acc /= len(data_loader)\n",
    "    # print out what happining \n",
    "    print(f'\\n train loss : {train_loss:.4f} | test loss{test_acc:.4f} ')"
   ]
  },
  {
   "cell_type": "code",
   "execution_count": 43,
   "id": "bd04ae23-2f56-49fe-8edf-8fa489da991b",
   "metadata": {},
   "outputs": [
    {
     "data": {
      "application/vnd.jupyter.widget-view+json": {
       "model_id": "0521041438cc43fb9a4a8a4e948b89bf",
       "version_major": 2,
       "version_minor": 0
      },
      "text/plain": [
       "  0%|          | 0/3 [00:00<?, ?it/s]"
      ]
     },
     "metadata": {},
     "output_type": "display_data"
    },
    {
     "name": "stdout",
     "output_type": "stream",
     "text": [
      "epochas :0\n",
      "---\n",
      "Looked at 0/60000 samples.\n",
      "Looked at 12800/60000 samples.\n",
      "Looked at 25600/60000 samples.\n",
      "Looked at 38400/60000 samples.\n",
      "Looked at 51200/60000 samples.\n",
      "train loss :1.092 | train_acc: 61.34\n",
      "\n",
      " train loss : 0.4550 | test loss10.8500 \n",
      "epochas :1\n",
      "---\n",
      "Looked at 0/60000 samples.\n",
      "Looked at 12800/60000 samples.\n",
      "Looked at 25600/60000 samples.\n",
      "Looked at 38400/60000 samples.\n",
      "Looked at 51200/60000 samples.\n",
      "train loss :0.781 | train_acc: 71.93\n",
      "\n",
      " train loss : 0.4550 | test loss12.3383 \n",
      "epochas :2\n",
      "---\n",
      "Looked at 0/60000 samples.\n",
      "Looked at 12800/60000 samples.\n",
      "Looked at 25600/60000 samples.\n",
      "Looked at 38400/60000 samples.\n",
      "Looked at 51200/60000 samples.\n",
      "train loss :0.670 | train_acc: 75.94\n",
      "\n",
      " train loss : 0.4550 | test loss12.5233 \n",
      "train time on cuda : 34.655 second\n"
     ]
    }
   ],
   "source": [
    "torch.manual_seed(42)\n",
    "\n",
    "from timeit import default_timer as timer\n",
    "train_time_start_on_gpu =timer()\n",
    "\n",
    "epochs =3\n",
    "\n",
    "for epoch in tqdm(range(epochs)):\n",
    "    print(f'epochas :{epoch}\\n---')\n",
    "    train_step(model =model_1,\n",
    "              data_loader= train_dataloader,\n",
    "              loss_fn = loss_fn,\n",
    "              optimizer= optimizer,\n",
    "              accuracy_fn = accuracy_fn,\n",
    "              device =device)\n",
    "    test_step(model =model_1,\n",
    "              data_loader= train_dataloader,\n",
    "              loss_fn = loss_fn,\n",
    "             accuracy_fn = accuracy_fn,\n",
    "             device =device\n",
    "             )\n",
    "\n",
    "train_time_end_on_gpu = timer()\n",
    "total_train_time_model_1 = print_train_time(start =train_time_start_on_gpu,\n",
    "                                           end =train_time_end_on_gpu,\n",
    "                                           device = device)"
   ]
  },
  {
   "cell_type": "code",
   "execution_count": 44,
   "id": "d713b917-2360-4476-ace3-bc52e7043a14",
   "metadata": {},
   "outputs": [
    {
     "data": {
      "text/plain": [
       "{'model_name ': 'FaishonMNISTModelV0',\n",
       " 'model_loss': 0.47663894295692444,\n",
       " 'model_acc': 83.42651757188499}"
      ]
     },
     "execution_count": 44,
     "metadata": {},
     "output_type": "execute_result"
    }
   ],
   "source": [
    "model_0_result"
   ]
  },
  {
   "cell_type": "code",
   "execution_count": 45,
   "id": "d201b375-0196-45a8-aa3c-9ac78fd26888",
   "metadata": {},
   "outputs": [
    {
     "data": {
      "text/plain": [
       "119.13210202699999"
      ]
     },
     "execution_count": 45,
     "metadata": {},
     "output_type": "execute_result"
    }
   ],
   "source": [
    "total_train_time_model_0"
   ]
  },
  {
   "cell_type": "code",
   "execution_count": 46,
   "id": "1fa3e33f-7b58-4df9-b5fe-4ba21ec3e064",
   "metadata": {},
   "outputs": [
    {
     "data": {
      "application/vnd.jupyter.widget-view+json": {
       "model_id": "4bdfe815d6ab4836b378db64b3eeba91",
       "version_major": 2,
       "version_minor": 0
      },
      "text/plain": [
       "  0%|          | 0/313 [00:00<?, ?it/s]"
      ]
     },
     "metadata": {},
     "output_type": "display_data"
    }
   ],
   "source": [
    "# get model_1 result dictionary \n",
    "model_1_results = eval_model(model = model_1,\n",
    "                            data_loader =test_dataloader,\n",
    "                            loss_fn = loss_fn,\n",
    "                            accuracy_fn=accuracy_fn,\n",
    "                            device = device)"
   ]
  },
  {
   "cell_type": "code",
   "execution_count": 47,
   "id": "b49c13aa-b1f4-4b66-955e-1d382b9b6480",
   "metadata": {},
   "outputs": [
    {
     "data": {
      "text/plain": [
       "{'model_name ': 'FashionMNISTModelV1',\n",
       " 'model_loss': 0.6850008368492126,\n",
       " 'model_acc': 75.01996805111821}"
      ]
     },
     "execution_count": 47,
     "metadata": {},
     "output_type": "execute_result"
    }
   ],
   "source": [
    "model_1_results"
   ]
  },
  {
   "cell_type": "code",
   "execution_count": null,
   "id": "ffc34e4c-d63e-437a-84b5-7aeaaedb57f8",
   "metadata": {},
   "outputs": [],
   "source": []
  },
  {
   "cell_type": "markdown",
   "id": "41cce30b-ac05-41a4-8dea-4c40ee840a99",
   "metadata": {},
   "source": [
    "# CNN"
   ]
  },
  {
   "cell_type": "markdown",
   "id": "2f57328e-b9ec-40a6-acd0-0cbd56b266cf",
   "metadata": {},
   "source": [
    "## model 2. building a convolutional neural network (cnn)\n"
   ]
  },
  {
   "cell_type": "code",
   "execution_count": 48,
   "id": "64fdeb38-ef56-4cc4-8ceb-4b95da35f5d5",
   "metadata": {},
   "outputs": [],
   "source": [
    "## create a convolutional neural network \n",
    "class FaishionMNISTV2(nn.Module):\n",
    "    \"\"\"\n",
    "    model architecture that replicates the TinyVGG\n",
    "    model from CNN explainer website\n",
    "    \"\"\"\n",
    "    def __init__(self,input_shape:int ,hidden_units:int, output_shape:int):\n",
    "        super().__init__()\n",
    "        self.conv_block_1 = nn.Sequential(\n",
    "            nn.Conv2d(in_channels = input_shape,\n",
    "                     out_channels= hidden_units,\n",
    "                     kernel_size= 3,\n",
    "                     stride =1 ,\n",
    "                     padding=1), # values we can set ourselves in our NN's are called hyperparameters\n",
    "            nn.ReLU(),\n",
    "            nn.Conv2d(in_channels = hidden_units,\n",
    "                     out_channels= hidden_units,\n",
    "                     kernel_size= 3,\n",
    "                     stride =1 ,\n",
    "                     padding=1),\n",
    "            nn.ReLU(),\n",
    "            nn.MaxPool2d(kernel_size= 2)\n",
    "        )\n",
    "        self.conv_block_2 = nn.Sequential(\n",
    "            nn.Conv2d(in_channels= hidden_units,\n",
    "                     out_channels= hidden_units,\n",
    "                     kernel_size=3,\n",
    "                     stride =1,\n",
    "                     padding =1 ),\n",
    "            nn.ReLU(),\n",
    "            nn.MaxPool2d(kernel_size =2 )\n",
    "        )\n",
    "        self.classifier = nn.Sequential(\n",
    "            nn.Flatten(),\n",
    "            nn.Linear(in_features=hidden_units*7*7,\n",
    "                     out_features= output_shape)\n",
    "        )\n",
    "    def forward(self,x):\n",
    "        x = self.conv_block_1(x)\n",
    "        # print(x.shape)\n",
    "        x = self.conv_block_2(x)\n",
    "        # print(x.shape)\n",
    "        x = self.classifier(x)\n",
    "        return x"
   ]
  },
  {
   "cell_type": "code",
   "execution_count": 49,
   "id": "649cc173-b599-4242-9338-ba09c73e0252",
   "metadata": {},
   "outputs": [],
   "source": [
    "torch.manual_seed(42)\n",
    "model_2 = FaishionMNISTV2(input_shape=1,\n",
    "                         hidden_units=10,\n",
    "                         output_shape = len(class_name)).to(device)"
   ]
  },
  {
   "cell_type": "markdown",
   "id": "2d29b742-36eb-40a5-82d2-2bd267813a6b",
   "metadata": {},
   "source": [
    "### strpping the conv2d()\n",
    "* padding : "
   ]
  },
  {
   "cell_type": "code",
   "execution_count": 50,
   "id": "e628e10c-593b-4934-82ae-0d0ca902ad58",
   "metadata": {},
   "outputs": [],
   "source": [
    "torch.manual_seed(42)\n",
    "\n",
    "#create a batch of images \n",
    "images = torch.randn(size =(32,3,64,64))\n",
    "test_image = images[0]"
   ]
  },
  {
   "cell_type": "code",
   "execution_count": 51,
   "id": "b7f99eda-cf1f-4fe7-a1d0-b3b928bf80d3",
   "metadata": {},
   "outputs": [
    {
     "data": {
      "text/plain": [
       "(torch.Size([32, 3, 64, 64]), torch.Size([3, 64, 64]))"
      ]
     },
     "execution_count": 51,
     "metadata": {},
     "output_type": "execute_result"
    }
   ],
   "source": [
    "images.shape ,test_image.shape "
   ]
  },
  {
   "cell_type": "code",
   "execution_count": 52,
   "id": "c684ee09-5760-4e40-97a6-083c4fcb5010",
   "metadata": {},
   "outputs": [
    {
     "data": {
      "text/plain": [
       "torch.Size([10, 62, 62])"
      ]
     },
     "execution_count": 52,
     "metadata": {},
     "output_type": "execute_result"
    }
   ],
   "source": [
    "torch.manual_seed(42)\n",
    "# create a single conv2d layer \n",
    "conv_layer = nn.Conv2d(in_channels =3,\n",
    "                      out_channels =10,\n",
    "                      kernel_size =(5,5),\n",
    "                      stride = 1,\n",
    "                      padding = 1)\n",
    "# pass the datathrough the convolution layer\n",
    "conv_output = conv_layer(test_image)\n",
    "conv_output.shape"
   ]
  },
  {
   "cell_type": "code",
   "execution_count": 53,
   "id": "5204a295-e521-4c84-8eaa-0632f7b3f1d4",
   "metadata": {},
   "outputs": [
    {
     "data": {
      "text/plain": [
       "torch.Size([1, 3, 64, 64])"
      ]
     },
     "execution_count": 53,
     "metadata": {},
     "output_type": "execute_result"
    }
   ],
   "source": [
    "test_image.unsqueeze(0).shape"
   ]
  },
  {
   "cell_type": "code",
   "execution_count": 54,
   "id": "afcdb575-fc7b-494e-af29-1e3805cace3d",
   "metadata": {},
   "outputs": [
    {
     "data": {
      "text/plain": [
       "'2.3.0+cu121'"
      ]
     },
     "execution_count": 54,
     "metadata": {},
     "output_type": "execute_result"
    }
   ],
   "source": [
    "torch.__version__"
   ]
  },
  {
   "cell_type": "markdown",
   "id": "6d5b1a05-d7e1-468c-a808-70f8edb2ffe7",
   "metadata": {},
   "source": [
    "## 7.2 stepping through `nn.maxpool2d()` \n"
   ]
  },
  {
   "cell_type": "code",
   "execution_count": 55,
   "id": "70fa28a0-36bd-4d75-b807-b50d1ba9d6a3",
   "metadata": {},
   "outputs": [
    {
     "data": {
      "text/plain": [
       "tensor([[[ 1.9269,  1.4873,  0.9007,  ...,  1.8446, -1.1845,  1.3835],\n",
       "         [ 1.4451,  0.8564,  2.2181,  ...,  0.3399,  0.7200,  0.4114],\n",
       "         [ 1.9312,  1.0119, -1.4364,  ..., -0.5558,  0.7043,  0.7099],\n",
       "         ...,\n",
       "         [-0.5610, -0.4830,  0.4770,  ..., -0.2713, -0.9537, -0.6737],\n",
       "         [ 0.3076, -0.1277,  0.0366,  ..., -2.0060,  0.2824, -0.8111],\n",
       "         [-1.5486,  0.0485, -0.7712,  ..., -0.1403,  0.9416, -0.0118]],\n",
       "\n",
       "        [[-0.5197,  1.8524,  1.8365,  ...,  0.8935, -1.5114, -0.8515],\n",
       "         [ 2.0818,  1.0677, -1.4277,  ...,  1.6612, -2.6223, -0.4319],\n",
       "         [-0.1010, -0.4388, -1.9775,  ...,  0.2106,  0.2536, -0.7318],\n",
       "         ...,\n",
       "         [ 0.2779,  0.7342, -0.3736,  ..., -0.4601,  0.1815,  0.1850],\n",
       "         [ 0.7205, -0.2833,  0.0937,  ..., -0.1002, -2.3609,  2.2465],\n",
       "         [-1.3242, -0.1973,  0.2920,  ...,  0.5409,  0.6940,  1.8563]],\n",
       "\n",
       "        [[-0.7978,  1.0261,  1.1465,  ...,  1.2134,  0.9354, -0.0780],\n",
       "         [-1.4647, -1.9571,  0.1017,  ..., -1.9986, -0.7409,  0.7011],\n",
       "         [-1.3938,  0.8466, -1.7191,  ..., -1.1867,  0.1320,  0.3407],\n",
       "         ...,\n",
       "         [ 0.8206, -0.3745,  1.2499,  ..., -0.0676,  0.0385,  0.6335],\n",
       "         [-0.5589, -0.3393,  0.2347,  ...,  2.1181,  2.4569,  1.3083],\n",
       "         [-0.4092,  1.5199,  0.2401,  ..., -0.2558,  0.7870,  0.9924]]])"
      ]
     },
     "execution_count": 55,
     "metadata": {},
     "output_type": "execute_result"
    }
   ],
   "source": [
    "test_image"
   ]
  },
  {
   "cell_type": "code",
   "execution_count": 56,
   "id": "6f37c625-d918-4eaa-9c79-d7977fe75a54",
   "metadata": {},
   "outputs": [
    {
     "name": "stdout",
     "output_type": "stream",
     "text": [
      "test image original shape : torch.Size([3, 64, 64])\n",
      "test image with insqueeze dimesnion :torch.Size([1, 3, 64, 64])\n"
     ]
    }
   ],
   "source": [
    "# print out the original shape without unsqueeze dimenssion\n",
    "print(f'test image original shape : {test_image.shape}')\n",
    "print(f'test image with insqueeze dimesnion :{test_image.unsqueeze(0).shape}')"
   ]
  },
  {
   "cell_type": "code",
   "execution_count": 57,
   "id": "def45dfb-23c4-43bc-8bb3-7ccbc5b88797",
   "metadata": {},
   "outputs": [
    {
     "name": "stdout",
     "output_type": "stream",
     "text": [
      "shape after going through cov_layer() : torch.Size([1, 10, 62, 62])\n",
      "shape after going thrugh mx_pool layer torch.Size([1, 10, 31, 31])\n"
     ]
    }
   ],
   "source": [
    "## create a sample nn.MaxPool2d layer \n",
    "max_pool_layer = nn.MaxPool2d(kernel_size =2)\n",
    "\n",
    "# pass  the data through just conv_layer \n",
    "test_image_through_conv = conv_layer(test_image.unsqueeze(dim=0))\n",
    "print(f'shape after going through cov_layer() : {test_image_through_conv.shape}')\n",
    "\n",
    "# pass data through the max pool layer \n",
    "test_image_through_conv_and_max_pool = max_pool_layer(test_image_through_conv)\n",
    "print(f'shape after going thrugh mx_pool layer {test_image_through_conv_and_max_pool.shape}')"
   ]
  },
  {
   "cell_type": "code",
   "execution_count": 58,
   "id": "1d401474-4dfc-43db-b65b-75665ea3cd76",
   "metadata": {},
   "outputs": [
    {
     "name": "stdout",
     "output_type": "stream",
     "text": [
      "random tensor tensor([[[[0.3367, 0.1288],\n",
      "          [0.2345, 0.2303]]]])\n",
      "random tensor shape  torch.Size([1, 1, 2, 2])\n",
      "\n",
      "Maxpooltensor tensor([[[[0.3367]]]])\n",
      "max pool tensor shape torch.Size([1, 1, 1, 1])\n"
     ]
    }
   ],
   "source": [
    "torch.manual_seed(42)\n",
    "# create a random tensor with a similar number of dimesnions to our images \n",
    "random_tensor = torch.randn(size=(1,1,2,2))\n",
    "print(f'random tensor {random_tensor}')\n",
    "print(f'random tensor shape  {random_tensor.shape}')\n",
    "\n",
    "# create a  max pool layer \n",
    "max_pool_layer = nn.MaxPool2d(kernel_size= 2)\n",
    "\n",
    "# pass the random  tenso rthrough the max_pool layer \n",
    "max_pool_tensor =max_pool_layer(random_tensor)\n",
    "print(f'\\nMaxpooltensor {max_pool_tensor}')\n",
    "print(f'max pool tensor shape {max_pool_tensor.shape}')"
   ]
  },
  {
   "cell_type": "code",
   "execution_count": null,
   "id": "d77abcfe-d386-403b-8622-e292e27f6f60",
   "metadata": {},
   "outputs": [],
   "source": []
  },
  {
   "cell_type": "code",
   "execution_count": 59,
   "id": "7fcaa2aa-bf8c-419b-b685-fe2c79eb43ca",
   "metadata": {},
   "outputs": [
    {
     "data": {
      "text/plain": [
       "Text(0.5, 1.0, 'T-shirt/top')"
      ]
     },
     "execution_count": 59,
     "metadata": {},
     "output_type": "execute_result"
    },
    {
     "data": {
      "image/png": "[encoded data removed]",
      "text/plain": [
       "<Figure size 640x480 with 1 Axes>"
      ]
     },
     "metadata": {},
     "output_type": "display_data"
    }
   ],
   "source": [
    "plt.imshow(image.squeeze(),cmap = 'gray')\n",
    "plt.title(class_name[0])"
   ]
  },
  {
   "cell_type": "code",
   "execution_count": 60,
   "id": "9106d6ff-ee66-4dd1-a4fb-ae1b33561e6b",
   "metadata": {},
   "outputs": [
    {
     "data": {
      "text/plain": [
       "torch.Size([1, 28, 28])"
      ]
     },
     "execution_count": 60,
     "metadata": {},
     "output_type": "execute_result"
    }
   ],
   "source": [
    "rand_image = torch.randn(size=(1,28,28))\n",
    "rand_image.shape"
   ]
  },
  {
   "cell_type": "code",
   "execution_count": 61,
   "id": "2d8d5448-ce4a-417c-a276-9595eeee73b8",
   "metadata": {},
   "outputs": [
    {
     "data": {
      "text/plain": [
       "<matplotlib.image.AxesImage at 0x7b863020b5b0>"
      ]
     },
     "execution_count": 61,
     "metadata": {},
     "output_type": "execute_result"
    },
    {
     "data": {
      "image/png": "[encoded data removed]",
      "text/plain": [
       "<Figure size 640x480 with 1 Axes>"
      ]
     },
     "metadata": {},
     "output_type": "display_data"
    }
   ],
   "source": [
    "plt.imshow(rand_image.squeeze(),cmap = 'gray')\n"
   ]
  },
  {
   "cell_type": "code",
   "execution_count": 62,
   "id": "96aefa3f-74e4-4bd3-b599-f3b0ab9eb73b",
   "metadata": {},
   "outputs": [
    {
     "data": {
      "text/plain": [
       "tensor([[-0.1664,  0.0243, -0.0136, -0.0716,  0.0500, -0.0466,  0.0950, -0.0307,\n",
       "         -0.0431,  0.1579]], device='cuda:0', grad_fn=<AddmmBackward0>)"
      ]
     },
     "execution_count": 62,
     "metadata": {},
     "output_type": "execute_result"
    }
   ],
   "source": [
    "model_2(rand_image.unsqueeze(dim =0).to(device))"
   ]
  },
  {
   "cell_type": "markdown",
   "id": "b1e43565-e56f-4a14-88f6-a1fe37a043a3",
   "metadata": {},
   "source": [
    "### 7.3 setup a loss function and optimizer  for moedl_2 \n"
   ]
  },
  {
   "cell_type": "code",
   "execution_count": 63,
   "id": "1a2ffcbd-f1d2-435c-820a-bd33057bdc69",
   "metadata": {},
   "outputs": [],
   "source": [
    "# setup loss function /eval metrics optimizer \n",
    "from helper_functions import accuracy_fn\n",
    "loss_fn = nn.CrossEntropyLoss()\n",
    "optimizer = torch.optim.SGD(params = model_2.parameters(),\n",
    "                            lr =0.1)"
   ]
  },
  {
   "cell_type": "markdown",
   "id": "c3b29e8c-683a-4f6d-8185-8af5569e00a7",
   "metadata": {},
   "source": [
    "### 7.4 trainig and testing `model_2` using our training and testing functions "
   ]
  },
  {
   "cell_type": "code",
   "execution_count": 64,
   "id": "711cb9aa-68de-477a-9369-70aa0cbd67fd",
   "metadata": {},
   "outputs": [
    {
     "data": {
      "application/vnd.jupyter.widget-view+json": {
       "model_id": "ccb9fc18f6374e2f8bae3e850ec21c14",
       "version_major": 2,
       "version_minor": 0
      },
      "text/plain": [
       "  0%|          | 0/3 [00:00<?, ?it/s]"
      ]
     },
     "metadata": {},
     "output_type": "display_data"
    },
    {
     "name": "stdout",
     "output_type": "stream",
     "text": [
      "epochs 0-----\n"
     ]
    },
    {
     "name": "stderr",
     "output_type": "stream",
     "text": [
      "/home/anubhav/.local/lib/python3.10/site-packages/torch/autograd/graph.py:744: UserWarning: Plan failed with a cudnnException: CUDNN_BACKEND_EXECUTION_PLAN_DESCRIPTOR: cudnnFinalize Descriptor Failed cudnn_status: CUDNN_STATUS_NOT_SUPPORTED (Triggered internally at ../aten/src/ATen/native/cudnn/Conv_v8.cpp:919.)\n",
      "  return Variable._execution_engine.run_backward(  # Calls into the C++ engine to run the backward pass\n"
     ]
    },
    {
     "name": "stdout",
     "output_type": "stream",
     "text": [
      "Looked at 0/60000 samples.\n",
      "Looked at 12800/60000 samples.\n",
      "Looked at 25600/60000 samples.\n",
      "Looked at 38400/60000 samples.\n",
      "Looked at 51200/60000 samples.\n",
      "train loss :0.558 | train_acc: 80.21\n",
      "\n",
      " train loss : 0.4550 | test loss85.9225 \n",
      "epochs 1-----\n",
      "Looked at 0/60000 samples.\n",
      "Looked at 12800/60000 samples.\n",
      "Looked at 25600/60000 samples.\n",
      "Looked at 38400/60000 samples.\n",
      "Looked at 51200/60000 samples.\n",
      "train loss :0.361 | train_acc: 86.97\n",
      "\n",
      " train loss : 0.4550 | test loss87.9892 \n",
      "epochs 2-----\n",
      "Looked at 0/60000 samples.\n",
      "Looked at 12800/60000 samples.\n",
      "Looked at 25600/60000 samples.\n",
      "Looked at 38400/60000 samples.\n",
      "Looked at 51200/60000 samples.\n",
      "train loss :0.322 | train_acc: 88.54\n",
      "\n",
      " train loss : 0.4550 | test loss88.3187 \n",
      "train time on cuda : 42.878 second\n"
     ]
    }
   ],
   "source": [
    "torch.manual_seed(42)\n",
    "torch.cuda.manual_seed(42)\n",
    "\n",
    "# measure the time \n",
    "from timeit import default_timer as timer \n",
    "train_time_start_model_2 =timer()\n",
    "\n",
    "# traning and testing \n",
    "epochs = 3\n",
    "for epoch in tqdm(range(epochs)):\n",
    "    print(f'epochs {epoch}-----')\n",
    "    train_step(model = model_2,\n",
    "              data_loader= train_dataloader,\n",
    "              loss_fn = loss_fn,\n",
    "              optimizer = optimizer,\n",
    "              accuracy_fn = accuracy_fn,\n",
    "              device = device)\n",
    "    test_step(model = model_2,\n",
    "             data_loader = test_dataloader,\n",
    "             loss_fn = loss_fn,\n",
    "             accuracy_fn = accuracy_fn,\n",
    "             device = device)\n",
    "\n",
    "train_time_end_model_2 =timer()\n",
    "total_train_time_model_2 =print_train_time(start =train_time_start_model_2,\n",
    "                                          end=train_time_end_model_2,\n",
    "                                          device =device)"
   ]
  },
  {
   "cell_type": "code",
   "execution_count": 65,
   "id": "9ca099b1-a55f-48c8-839b-94d69127405b",
   "metadata": {},
   "outputs": [
    {
     "data": {
      "application/vnd.jupyter.widget-view+json": {
       "model_id": "beeb894fb1c64fc7900a78c71fb3f6e2",
       "version_major": 2,
       "version_minor": 0
      },
      "text/plain": [
       "  0%|          | 0/313 [00:00<?, ?it/s]"
      ]
     },
     "metadata": {},
     "output_type": "display_data"
    },
    {
     "data": {
      "text/plain": [
       "{'model_name ': 'FaishionMNISTV2',\n",
       " 'model_loss': 0.32523924112319946,\n",
       " 'model_acc': 88.31869009584665}"
      ]
     },
     "execution_count": 65,
     "metadata": {},
     "output_type": "execute_result"
    }
   ],
   "source": [
    "# get the model result \n",
    "model_2_results = eval_model(\n",
    "    model =model_2,\n",
    "    data_loader= test_dataloader,\n",
    "    loss_fn= loss_fn,\n",
    "    accuracy_fn= accuracy_fn,\n",
    "    device =device\n",
    ")\n",
    "\n",
    "model_2_results"
   ]
  },
  {
   "cell_type": "code",
   "execution_count": null,
   "id": "cba6af45-7376-410d-8722-5192f9aee671",
   "metadata": {},
   "outputs": [],
   "source": []
  },
  {
   "cell_type": "markdown",
   "id": "1d0e17e8-dfaa-4bb2-88fb-21af66e61389",
   "metadata": {},
   "source": [
    "### 8. comparing the result and training time \n"
   ]
  },
  {
   "cell_type": "code",
   "execution_count": 66,
   "id": "6be5d2b3-af99-4fa1-8bcc-496b298a8df7",
   "metadata": {},
   "outputs": [],
   "source": [
    "import pandas as pd\n",
    "compare_results =pd.DataFrame([model_0_result,\n",
    "                            model_1_results,\n",
    "                            model_2_results])"
   ]
  },
  {
   "cell_type": "code",
   "execution_count": 67,
   "id": "37adba89-28f0-4f25-96fe-58835cb469b5",
   "metadata": {},
   "outputs": [
    {
     "data": {
      "text/html": [
       "<div>\n",
       "<style scoped>\n",
       "    .dataframe tbody tr th:only-of-type {\n",
       "        vertical-align: middle;\n",
       "    }\n",
       "\n",
       "    .dataframe tbody tr th {\n",
       "        vertical-align: top;\n",
       "    }\n",
       "\n",
       "    .dataframe thead th {\n",
       "        text-align: right;\n",
       "    }\n",
       "</style>\n",
       "<table border=\"1\" class=\"dataframe\">\n",
       "  <thead>\n",
       "    <tr style=\"text-align: right;\">\n",
       "      <th></th>\n",
       "      <th>model_name</th>\n",
       "      <th>model_loss</th>\n",
       "      <th>model_acc</th>\n",
       "    </tr>\n",
       "  </thead>\n",
       "  <tbody>\n",
       "    <tr>\n",
       "      <th>0</th>\n",
       "      <td>FaishonMNISTModelV0</td>\n",
       "      <td>0.476639</td>\n",
       "      <td>83.426518</td>\n",
       "    </tr>\n",
       "    <tr>\n",
       "      <th>1</th>\n",
       "      <td>FashionMNISTModelV1</td>\n",
       "      <td>0.685001</td>\n",
       "      <td>75.019968</td>\n",
       "    </tr>\n",
       "    <tr>\n",
       "      <th>2</th>\n",
       "      <td>FaishionMNISTV2</td>\n",
       "      <td>0.325239</td>\n",
       "      <td>88.318690</td>\n",
       "    </tr>\n",
       "  </tbody>\n",
       "</table>\n",
       "</div>"
      ],
      "text/plain": [
       "           model_name   model_loss  model_acc\n",
       "0  FaishonMNISTModelV0    0.476639  83.426518\n",
       "1  FashionMNISTModelV1    0.685001  75.019968\n",
       "2      FaishionMNISTV2    0.325239  88.318690"
      ]
     },
     "execution_count": 67,
     "metadata": {},
     "output_type": "execute_result"
    }
   ],
   "source": [
    "compare_results"
   ]
  },
  {
   "cell_type": "code",
   "execution_count": 68,
   "id": "7cb91073-f851-4281-a5c2-e08b93b92c28",
   "metadata": {},
   "outputs": [],
   "source": [
    "### adding time to result comaprision \n",
    "compare_results['training time'] = [total_train_time_model_0,\n",
    "                                   total_train_time_model_1,\n",
    "                                   total_train_time_model_2]"
   ]
  },
  {
   "cell_type": "code",
   "execution_count": 69,
   "id": "5950b9de-51d5-42c7-94b5-13cfd1261476",
   "metadata": {},
   "outputs": [
    {
     "data": {
      "text/html": [
       "<div>\n",
       "<style scoped>\n",
       "    .dataframe tbody tr th:only-of-type {\n",
       "        vertical-align: middle;\n",
       "    }\n",
       "\n",
       "    .dataframe tbody tr th {\n",
       "        vertical-align: top;\n",
       "    }\n",
       "\n",
       "    .dataframe thead th {\n",
       "        text-align: right;\n",
       "    }\n",
       "</style>\n",
       "<table border=\"1\" class=\"dataframe\">\n",
       "  <thead>\n",
       "    <tr style=\"text-align: right;\">\n",
       "      <th></th>\n",
       "      <th>model_name</th>\n",
       "      <th>model_loss</th>\n",
       "      <th>model_acc</th>\n",
       "      <th>training_time</th>\n",
       "    </tr>\n",
       "  </thead>\n",
       "  <tbody>\n",
       "    <tr>\n",
       "      <th>0</th>\n",
       "      <td>FaishonMNISTModelV0</td>\n",
       "      <td>0.476639</td>\n",
       "      <td>83.426518</td>\n",
       "      <td>23.119172</td>\n",
       "    </tr>\n",
       "    <tr>\n",
       "      <th>1</th>\n",
       "      <td>FashionMNISTModelV1</td>\n",
       "      <td>0.685001</td>\n",
       "      <td>75.019968</td>\n",
       "      <td>23.305202</td>\n",
       "    </tr>\n",
       "    <tr>\n",
       "      <th>2</th>\n",
       "      <td>FaishionMNISTV2</td>\n",
       "      <td>0.326154</td>\n",
       "      <td>88.588259</td>\n",
       "      <td>32.488061</td>\n",
       "    </tr>\n",
       "  </tbody>\n",
       "</table>\n",
       "</div>"
      ],
      "text/plain": [
       "            model_name  model_loss  model_acc  training_time\n",
       "0  FaishonMNISTModelV0    0.476639  83.426518      23.119172\n",
       "1  FashionMNISTModelV1    0.685001  75.019968      23.305202\n",
       "2      FaishionMNISTV2    0.326154  88.588259      32.488061"
      ]
     },
     "execution_count": 69,
     "metadata": {},
     "output_type": "execute_result"
    }
   ],
   "source": [
    "import pandas as pd\n",
    "\n",
    "# Sample data\n",
    "data = {\n",
    "    'model_name': ['FaishonMNISTModelV0', 'FashionMNISTModelV1', 'FaishionMNISTV2'],\n",
    "    'model_loss': [0.476639, 0.685001, 0.326154],\n",
    "    'model_acc': [83.426518, 75.019968, 88.588259],\n",
    "    'training_time': [23.119172, 23.305202, 32.488061]\n",
    "}\n",
    "\n",
    "# Create DataFrame\n",
    "compare_results = pd.DataFrame(data)\n",
    "compare_results"
   ]
  },
  {
   "cell_type": "code",
   "execution_count": 70,
   "id": "8b98fcde-3404-4883-af80-80c668fa3b3f",
   "metadata": {},
   "outputs": [
    {
     "data": {
      "image/png": "[encoded data removed]",
      "text/plain": [
       "<Figure size 1000x600 with 1 Axes>"
      ]
     },
     "metadata": {},
     "output_type": "display_data"
    }
   ],
   "source": [
    "import matplotlib.pyplot as plt\n",
    "\n",
    "# Plot model accuracies\n",
    "plt.figure(figsize=(10, 6))\n",
    "compare_results.set_index('model_name')['model_acc'].plot(kind='barh', color='darkblue')\n",
    "plt.xlabel('Accuracy (%)')\n",
    "plt.ylabel('Model')\n",
    "plt.title('Model Accuracy Comparison')\n",
    "plt.show()\n"
   ]
  },
  {
   "cell_type": "code",
   "execution_count": null,
   "id": "d10798a3-97d0-43ec-b43b-18e758a751fb",
   "metadata": {},
   "outputs": [],
   "source": []
  },
  {
   "cell_type": "markdown",
   "id": "9d8568a3-9569-42ac-a57c-5236df921052",
   "metadata": {},
   "source": [
    "### 9. make and eval random prediction withthe best model \n"
   ]
  },
  {
   "cell_type": "code",
   "execution_count": 71,
   "id": "9b4e106f-9aae-409d-8506-09d3c2fd4457",
   "metadata": {},
   "outputs": [],
   "source": [
    "def make_prediction(model:torch.nn.Module,\n",
    "                   data : list,\n",
    "                   device :torch.device = device):\n",
    "    pred_probs = []\n",
    "    model.eval()\n",
    "    with torch.inference_mode():\n",
    "        for sample in data:\n",
    "            # prepare the sample (add a batch dimension  and pass to the trarget device)\n",
    "            sample =torch.unsqueeze(sample,dim = 0).to(device)\n",
    "            # forward passs (model output raw logits )\n",
    "            pred_logits =model(sample)\n",
    "            # get prediction probilitity (logits->probs )\n",
    "            pred_prob = torch.softmax(pred_logits.squeeze() ,dim =0)\n",
    "            # get pred_probs off the GPU for the further calculation \n",
    "            pred_probs.append(pred_prob.cpu())\n",
    "        # stack the pred to turn list into a tensor \n",
    "    return torch.stack(pred_probs)"
   ]
  },
  {
   "cell_type": "code",
   "execution_count": 72,
   "id": "3e3a7ba0-9f9e-4dd9-b95a-5f9c190d65c8",
   "metadata": {},
   "outputs": [
    {
     "data": {
      "text/plain": [
       "(torch.Size([1, 28, 28]), 9)"
      ]
     },
     "execution_count": 72,
     "metadata": {},
     "output_type": "execute_result"
    }
   ],
   "source": [
    "img ,label  =test_data[0][:10]\n",
    "img.shape ,label"
   ]
  },
  {
   "cell_type": "code",
   "execution_count": 73,
   "id": "f08efbb7-2040-4413-b05a-94bc5c166faa",
   "metadata": {},
   "outputs": [
    {
     "data": {
      "text/plain": [
       "torch.Size([1, 28, 28])"
      ]
     },
     "execution_count": 73,
     "metadata": {},
     "output_type": "execute_result"
    }
   ],
   "source": [
    "import random\n",
    "random.seed(42)\n",
    "test_samples =[]\n",
    "test_labels =[]\n",
    "for sample,label in random.sample(list(test_data),k=9):\n",
    "    test_samples.append(sample)\n",
    "    test_labels.append(label)\n",
    "\n",
    "# view the first sample shape \n",
    "test_samples[0].shape\n",
    "    "
   ]
  },
  {
   "cell_type": "code",
   "execution_count": 74,
   "id": "a23de9ed-75fc-4a82-a1b6-ab4c58e0edf6",
   "metadata": {},
   "outputs": [
    {
     "data": {
      "text/plain": [
       "<matplotlib.image.AxesImage at 0x7b8638f966b0>"
      ]
     },
     "execution_count": 74,
     "metadata": {},
     "output_type": "execute_result"
    },
    {
     "data": {
      "image/png": "[encoded data removed]",
      "text/plain": [
       "<Figure size 640x480 with 1 Axes>"
      ]
     },
     "metadata": {},
     "output_type": "display_data"
    }
   ],
   "source": [
    "plt.imshow(test_samples[0].squeeze(),cmap ='gray')"
   ]
  },
  {
   "cell_type": "code",
   "execution_count": null,
   "id": "90c0ba34-3865-425f-a33d-86f38286a208",
   "metadata": {},
   "outputs": [],
   "source": []
  },
  {
   "cell_type": "code",
   "execution_count": 75,
   "id": "1d28fac4-1483-4f1c-88ab-156147be27fe",
   "metadata": {},
   "outputs": [
    {
     "data": {
      "text/plain": [
       "tensor([[7.8140e-07, 2.5071e-09, 7.0039e-08, 8.3388e-08, 7.3047e-09, 9.9986e-01,\n",
       "         2.8410e-06, 1.4837e-05, 1.5328e-05, 1.0231e-04],\n",
       "        [9.1353e-03, 7.1581e-01, 1.5817e-03, 2.6205e-01, 7.2846e-03, 1.1914e-04,\n",
       "         2.7843e-03, 7.0671e-04, 3.6592e-04, 1.6692e-04]])"
      ]
     },
     "execution_count": 75,
     "metadata": {},
     "output_type": "execute_result"
    }
   ],
   "source": [
    "# make prediction \n",
    "pred_probs =make_prediction(model = model_2,\n",
    "                           data = test_samples)\n",
    "\n",
    "# view first two prediction probilties\n",
    "pred_probs[:2]"
   ]
  },
  {
   "cell_type": "code",
   "execution_count": 76,
   "id": "3364a183-e614-4881-ba24-5bc27ca99273",
   "metadata": {},
   "outputs": [],
   "source": [
    "# convert prediction probs to labels \n",
    "pred_classes =pred_probs.argmax(dim =1)"
   ]
  },
  {
   "cell_type": "code",
   "execution_count": 77,
   "id": "901591ff-7834-4c70-85eb-ee8901a212bc",
   "metadata": {},
   "outputs": [
    {
     "data": {
      "text/plain": [
       "tensor([5, 1, 7, 4, 3, 0, 4, 7, 1])"
      ]
     },
     "execution_count": 77,
     "metadata": {},
     "output_type": "execute_result"
    }
   ],
   "source": [
    "pred_classes"
   ]
  },
  {
   "cell_type": "code",
   "execution_count": 78,
   "id": "f3f60ab0-d004-430f-b355-045c35fee5cd",
   "metadata": {},
   "outputs": [
    {
     "data": {
      "text/plain": [
       "[5, 1, 7, 4, 3, 0, 4, 7, 1]"
      ]
     },
     "execution_count": 78,
     "metadata": {},
     "output_type": "execute_result"
    }
   ],
   "source": [
    "test_labels"
   ]
  },
  {
   "cell_type": "code",
   "execution_count": 79,
   "id": "0709c7f6-e08e-4be7-aa8c-80748aed9602",
   "metadata": {},
   "outputs": [
    {
     "data": {
      "image/png": "[encoded data removed]",
      "text/plain": [
       "<Figure size 900x900 with 9 Axes>"
      ]
     },
     "metadata": {},
     "output_type": "display_data"
    }
   ],
   "source": [
    "# Plot predictions\n",
    "plt.figure(figsize=(9, 9))\n",
    "nrows = 3\n",
    "ncols = 3\n",
    "for i, sample in enumerate(test_samples):\n",
    "  # Create a subplot\n",
    "  plt.subplot(nrows, ncols, i+1)\n",
    "\n",
    "  # Plot the target image\n",
    "  plt.imshow(sample.squeeze(), cmap=\"gray\")\n",
    "\n",
    "  # Find the prediction label (in text form, e.g. \"Sandal\")\n",
    "  pred_label = class_name[pred_classes[i]]\n",
    "\n",
    "  # Get the truth label (in text form, e.g. \"T-shirt\")\n",
    "  truth_label = class_name[test_labels[i]] \n",
    "\n",
    "  # Create the title text of the plot\n",
    "  title_text = f\"Pred: {pred_label} | Truth: {truth_label}\"\n",
    "  \n",
    "  # Check for equality and change title colour accordingly\n",
    "  if pred_label == truth_label:\n",
    "      plt.title(title_text, fontsize=10, c=\"g\") # green text if correct\n",
    "  else:\n",
    "      plt.title(title_text, fontsize=10, c=\"r\") # red text if wrong\n",
    "  plt.axis(False);"
   ]
  },
  {
   "cell_type": "code",
   "execution_count": null,
   "id": "9bc85ae2-2a2b-4fc6-b59e-a1a5fe386ec5",
   "metadata": {},
   "outputs": [],
   "source": []
  },
  {
   "cell_type": "markdown",
   "id": "958c36d9-d8a8-4f7e-a8cb-f2dfb7771e3a",
   "metadata": {},
   "source": [
    "### 10. making a confusion matrix further prediction \n",
    "A cinfusion matrix is a best way to evalutate the model classification  model \n",
    "1. make prediction with our trained model on th test data\n",
    "2. make a confusion matrix `torchmetrics.ConfusionMatrix`\n",
    "3. plot the confusion matrix using `mixtend.plotin.plot_confusion_marix()`"
   ]
  },
  {
   "cell_type": "code",
   "execution_count": 84,
   "id": "a6daa640-57b8-4401-9e27-b6e5f6ac3738",
   "metadata": {},
   "outputs": [
    {
     "name": "stdout",
     "output_type": "stream",
     "text": [
      "Defaulting to user installation because normal site-packages is not writeable\n",
      "Collecting mlxtend\n",
      "  Downloading mlxtend-0.23.1-py3-none-any.whl.metadata (7.3 kB)\n",
      "Requirement already satisfied: scipy>=1.2.1 in /home/anubhav/.local/lib/python3.10/site-packages (from mlxtend) (1.11.4)\n",
      "Requirement already satisfied: numpy>=1.16.2 in /home/anubhav/.local/lib/python3.10/site-packages (from mlxtend) (1.25.2)\n",
      "Requirement already satisfied: pandas>=0.24.2 in /home/anubhav/.local/lib/python3.10/site-packages (from mlxtend) (2.1.4)\n",
      "Requirement already satisfied: scikit-learn>=1.0.2 in /home/anubhav/.local/lib/python3.10/site-packages (from mlxtend) (1.4.0)\n",
      "Requirement already satisfied: matplotlib>=3.0.0 in /home/anubhav/.local/lib/python3.10/site-packages (from mlxtend) (3.8.2)\n",
      "Requirement already satisfied: joblib>=0.13.2 in /home/anubhav/.local/lib/python3.10/site-packages (from mlxtend) (1.3.2)\n",
      "Requirement already satisfied: contourpy>=1.0.1 in /home/anubhav/.local/lib/python3.10/site-packages (from matplotlib>=3.0.0->mlxtend) (1.2.0)\n",
      "Requirement already satisfied: cycler>=0.10 in /home/anubhav/.local/lib/python3.10/site-packages (from matplotlib>=3.0.0->mlxtend) (0.12.1)\n",
      "Requirement already satisfied: fonttools>=4.22.0 in /home/anubhav/.local/lib/python3.10/site-packages (from matplotlib>=3.0.0->mlxtend) (4.47.2)\n",
      "Requirement already satisfied: kiwisolver>=1.3.1 in /home/anubhav/.local/lib/python3.10/site-packages (from matplotlib>=3.0.0->mlxtend) (1.4.5)\n",
      "Requirement already satisfied: packaging>=20.0 in /home/anubhav/.local/lib/python3.10/site-packages (from matplotlib>=3.0.0->mlxtend) (23.2)\n",
      "Requirement already satisfied: pillow>=8 in /home/anubhav/.local/lib/python3.10/site-packages (from matplotlib>=3.0.0->mlxtend) (10.2.0)\n",
      "Requirement already satisfied: pyparsing>=2.3.1 in /home/anubhav/.local/lib/python3.10/site-packages (from matplotlib>=3.0.0->mlxtend) (3.1.1)\n",
      "Requirement already satisfied: python-dateutil>=2.7 in /home/anubhav/.local/lib/python3.10/site-packages (from matplotlib>=3.0.0->mlxtend) (2.8.2)\n",
      "Requirement already satisfied: pytz>=2020.1 in /home/anubhav/.local/lib/python3.10/site-packages (from pandas>=0.24.2->mlxtend) (2023.3.post1)\n",
      "Requirement already satisfied: tzdata>=2022.1 in /home/anubhav/.local/lib/python3.10/site-packages (from pandas>=0.24.2->mlxtend) (2023.4)\n",
      "Requirement already satisfied: threadpoolctl>=2.0.0 in /home/anubhav/.local/lib/python3.10/site-packages (from scikit-learn>=1.0.2->mlxtend) (3.2.0)\n",
      "Requirement already satisfied: six>=1.5 in /home/anubhav/.local/lib/python3.10/site-packages (from python-dateutil>=2.7->matplotlib>=3.0.0->mlxtend) (1.16.0)\n",
      "Downloading mlxtend-0.23.1-py3-none-any.whl (1.4 MB)\n",
      "\u001b[2K   \u001b[38;2;114;156;31m━━━━━━━━━━━━━━━━━━━━━━━━━━━━━━━━━━━━━━━━\u001b[0m \u001b[32m1.4/1.4 MB\u001b[0m \u001b[31m957.9 kB/s\u001b[0m eta \u001b[36m0:00:00\u001b[0mm eta \u001b[36m0:00:01\u001b[0m0:01\u001b[0m:01\u001b[0m\n",
      "\u001b[?25hInstalling collected packages: mlxtend\n",
      "Successfully installed mlxtend-0.23.1\n"
     ]
    }
   ],
   "source": [
    "!pip install mlxtend"
   ]
  },
  {
   "cell_type": "code",
   "execution_count": 86,
   "id": "bed73f20-b895-4720-a903-796810b86730",
   "metadata": {},
   "outputs": [],
   "source": [
    "import mlxtend"
   ]
  },
  {
   "cell_type": "code",
   "execution_count": 88,
   "id": "2bc83709-15ff-4ffe-9777-eec543d4d5fb",
   "metadata": {},
   "outputs": [
    {
     "data": {
      "text/plain": [
       "'0.23.1'"
      ]
     },
     "execution_count": 88,
     "metadata": {},
     "output_type": "execute_result"
    }
   ],
   "source": [
    "mlxtend.__version__"
   ]
  },
  {
   "cell_type": "code",
   "execution_count": 91,
   "id": "1b7c7c1e-3f54-4c31-a9f2-13e6f7b34fce",
   "metadata": {},
   "outputs": [
    {
     "data": {
      "application/vnd.jupyter.widget-view+json": {
       "model_id": "96c5257bee424c4f8f7b4cf38c538c4e",
       "version_major": 2,
       "version_minor": 0
      },
      "text/plain": [
       "making prediction .....:   0%|          | 0/313 [00:00<?, ?it/s]"
      ]
     },
     "metadata": {},
     "output_type": "display_data"
    },
    {
     "data": {
      "text/plain": [
       "tensor([9, 2, 1,  ..., 8, 1, 0])"
      ]
     },
     "execution_count": 91,
     "metadata": {},
     "output_type": "execute_result"
    }
   ],
   "source": [
    "## import the tqdm for he progress par \n",
    "from tqdm.auto import tqdm \n",
    "\n",
    "# make prediction wiht trained model \n",
    "y_preds = []\n",
    "model_2.eval()\n",
    "with torch.inference_mode():\n",
    "    for X , y  in tqdm(test_dataloader ,desc ='making prediction .....'):\n",
    "        X ,y  =X.to(device) ,y.to(device)\n",
    "        # do  the forward pass\n",
    "        y_logits = model_2(X)\n",
    "        # truth prediction from logits -> predictions probs -> prediction lables \n",
    "        y_pred = torch.softmax(y_logits.squeeze(),dim =0).argmax(dim =1)\n",
    "        # put predction on cpu for evaluation \n",
    "        y_preds.append(y_pred.cpu())\n",
    "    \n",
    "# print(y_preds)\n",
    "y_pred_tensor = torch.cat(y_preds)\n",
    "y_pred_tensor"
   ]
  },
  {
   "cell_type": "code",
   "execution_count": 92,
   "id": "69802feb-de4a-400a-a1d5-1615609511f9",
   "metadata": {},
   "outputs": [
    {
     "data": {
      "text/plain": [
       "10000"
      ]
     },
     "execution_count": 92,
     "metadata": {},
     "output_type": "execute_result"
    }
   ],
   "source": [
    "len(y_pred_tensor)"
   ]
  },
  {
   "cell_type": "code",
   "execution_count": 99,
   "id": "979d9bd8-6715-458d-9070-6d2f479bcc5d",
   "metadata": {},
   "outputs": [
    {
     "name": "stdout",
     "output_type": "stream",
     "text": [
      "mlxtend version : 0.23.1\n",
      "0.23.1\n"
     ]
    }
   ],
   "source": [
    "# see if required package are installed and if not , install them ....\n",
    "try:\n",
    "    import torchmetrics , mlxtend \n",
    "    print(f'mlxtend version : {mlxtend.__version__}')\n",
    "    assert int(mlxtend.__version__.split('.')[1] >= 19,'mlxtend version should we higher than 0.19.0')\n",
    "except : \n",
    "    !pip install -q torchmetrics -U mlxtend\n",
    "    import torchmetrics ,mlxtend \n",
    "    print(f'{mlxtend.__version__}')"
   ]
  },
  {
   "cell_type": "code",
   "execution_count": 105,
   "id": "b4401f77-4fb5-4225-ab41-6c5a155bc89c",
   "metadata": {},
   "outputs": [
    {
     "data": {
      "image/png": "[encoded data removed]",
      "text/plain": [
       "<Figure size 1000x700 with 1 Axes>"
      ]
     },
     "metadata": {},
     "output_type": "display_data"
    }
   ],
   "source": [
    "from torchmetrics import ConfusionMatrix\n",
    "from mlxtend.plotting import plot_confusion_matrix\n",
    "\n",
    "# setup confusion instrance and compare predction  to targets \n",
    "confmat = ConfusionMatrix(num_classes = len(class_name),task ='multiclass')\n",
    "confmat_tensor = confmat(preds = y_pred_tensor,\n",
    "                        targettask = test_data.targets)\n",
    "\n",
    "# plt the confusion matrix\n",
    "fig, ax = plot_confusion_matrix(\n",
    "    conf_mat=confmat_tensor.numpy(),\n",
    "    class_names= class_name ,\n",
    "    figsize= (10,7)\n",
    ")\n"
   ]
  },
  {
   "cell_type": "code",
   "execution_count": null,
   "id": "1c7eaa95-90c5-45c9-89fd-56ced25410d6",
   "metadata": {},
   "outputs": [],
   "source": []
  },
  {
   "cell_type": "markdown",
   "id": "1a71ca67-0984-4c1e-b2bc-838bd579af05",
   "metadata": {},
   "source": [
    "## Saving and load our best  performing model "
   ]
  },
  {
   "cell_type": "code",
   "execution_count": 108,
   "id": "b7ac94c8-41d9-4fa1-a5cc-d11a802a5ad5",
   "metadata": {},
   "outputs": [
    {
     "name": "stdout",
     "output_type": "stream",
     "text": [
      "saving model to models/03_pytorch_computer_model_2.pth\n"
     ]
    }
   ],
   "source": [
    "from pathlib import Path \n",
    "# creat a model directory path \n",
    "MODEL_PATH = Path('models')\n",
    "MODEL_PATH.mkdir(parents =True,\n",
    "                exist_ok = True)\n",
    "\n",
    "# creata  model save\n",
    "MODEL_NAME = '03_pytorch_computer_model_2.pth'\n",
    "MODEL_SAVE_PATH = MODEL_PAHT/MODEL_NAME\n",
    "\n",
    "# save the model \n",
    "print(f'saving model to {MODEL_SAVE_PATH}')\n",
    "torch.save(obj = model_2.state_dict(),\n",
    "          f = MODEL_SAVE_PATH )"
   ]
  },
  {
   "cell_type": "code",
   "execution_count": null,
   "id": "75fd0130-290f-410e-9991-a2602fdb73f8",
   "metadata": {},
   "outputs": [],
   "source": []
  },
  {
   "cell_type": "code",
   "execution_count": 110,
   "id": "85ec3fb7-15da-4794-abd0-518b93c4e059",
   "metadata": {},
   "outputs": [
    {
     "data": {
      "text/plain": [
       "FaishionMNISTV2(\n",
       "  (conv_block_1): Sequential(\n",
       "    (0): Conv2d(1, 10, kernel_size=(3, 3), stride=(1, 1), padding=(1, 1))\n",
       "    (1): ReLU()\n",
       "    (2): Conv2d(10, 10, kernel_size=(3, 3), stride=(1, 1), padding=(1, 1))\n",
       "    (3): ReLU()\n",
       "    (4): MaxPool2d(kernel_size=2, stride=2, padding=0, dilation=1, ceil_mode=False)\n",
       "  )\n",
       "  (conv_block_2): Sequential(\n",
       "    (0): Conv2d(10, 10, kernel_size=(3, 3), stride=(1, 1), padding=(1, 1))\n",
       "    (1): ReLU()\n",
       "    (2): MaxPool2d(kernel_size=2, stride=2, padding=0, dilation=1, ceil_mode=False)\n",
       "  )\n",
       "  (classifier): Sequential(\n",
       "    (0): Flatten(start_dim=1, end_dim=-1)\n",
       "    (1): Linear(in_features=490, out_features=10, bias=True)\n",
       "  )\n",
       ")"
      ]
     },
     "execution_count": 110,
     "metadata": {},
     "output_type": "execute_result"
    }
   ],
   "source": [
    "### create a new instance \n",
    "torch.manual_seed(42)\n",
    "loaded_model_2 = FaishionMNISTV2(input_shape =1 ,\n",
    "                                hidden_units= 10,\n",
    "                                output_shape= len(class_name))\n",
    "\n",
    "# load in the save state_dict\n",
    "loaded_model_2.load_state_dict(torch.load(f=MODEL_SAVE_PATH))\n",
    "\n",
    "# send the model to the target device \n",
    "loaded_model_2.to(device)\n"
   ]
  },
  {
   "cell_type": "code",
   "execution_count": null,
   "id": "ea4f18c3-7e34-4538-a888-d6712dbbc865",
   "metadata": {},
   "outputs": [],
   "source": []
  },
  {
   "cell_type": "code",
   "execution_count": 111,
   "id": "47f55fc5-6541-42c5-9b7a-9bac29b53746",
   "metadata": {},
   "outputs": [
    {
     "data": {
      "text/plain": [
       "{'model_name ': 'FaishionMNISTV2',\n",
       " 'model_loss': 0.32523924112319946,\n",
       " 'model_acc': 88.31869009584665}"
      ]
     },
     "execution_count": 111,
     "metadata": {},
     "output_type": "execute_result"
    }
   ],
   "source": [
    "model_2_results"
   ]
  },
  {
   "cell_type": "code",
   "execution_count": 113,
   "id": "a7334f2c-f174-4f8a-a16e-9afef2da209d",
   "metadata": {},
   "outputs": [
    {
     "data": {
      "application/vnd.jupyter.widget-view+json": {
       "model_id": "c9c4de0c2aff409b8a1edad19f51a705",
       "version_major": 2,
       "version_minor": 0
      },
      "text/plain": [
       "  0%|          | 0/313 [00:00<?, ?it/s]"
      ]
     },
     "metadata": {},
     "output_type": "display_data"
    },
    {
     "data": {
      "text/plain": [
       "{'model_name ': 'FaishionMNISTV2',\n",
       " 'model_loss': 0.32523924112319946,\n",
       " 'model_acc': 88.31869009584665}"
      ]
     },
     "execution_count": 113,
     "metadata": {},
     "output_type": "execute_result"
    }
   ],
   "source": [
    "# evalutea loaded model \n",
    "torch.manual_seed(42)\n",
    "\n",
    "loaded_model_2_results = eval_model(\n",
    "    model = loaded_model_2,\n",
    "    data_loader= test_dataloader,\n",
    "    loss_fn= loss_fn,\n",
    "    accuracy_fn= accuracy_fn,\n",
    "    device =device\n",
    ")\n",
    "\n",
    "loaded_model_2_results"
   ]
  },
  {
   "cell_type": "code",
   "execution_count": 118,
   "id": "6f208e18-ac1c-470e-b41e-3237d1bcccb8",
   "metadata": {},
   "outputs": [
    {
     "data": {
      "text/plain": [
       "tensor(True)"
      ]
     },
     "execution_count": 118,
     "metadata": {},
     "output_type": "execute_result"
    }
   ],
   "source": [
    "torch.isclose(torch.tensor(model_2_results['model_loss']),\n",
    "             torch.tensor(loaded_model_2_results['model_loss']),\n",
    "             atol =1e-02)"
   ]
  },
  {
   "cell_type": "markdown",
   "id": "447599c3-10e2-4f4a-b8ef-4c25fc10785b",
   "metadata": {},
   "source": []
  },
  {
   "cell_type": "code",
   "execution_count": null,
   "id": "93889cb3-33f2-46a8-8092-ea334fced427",
   "metadata": {},
   "outputs": [],
   "source": []
  }
 ],
 "metadata": {
  "kernelspec": {
   "display_name": "Python 3 (ipykernel)",
   "language": "python",
   "name": "python3"
  },
  "language_info": {
   "codemirror_mode": {
    "name": "ipython",
    "version": 3
   },
   "file_extension": ".py",
   "mimetype": "text/x-python",
   "name": "python",
   "nbconvert_exporter": "python",
   "pygments_lexer": "ipython3",
   "version": "3.10.12"
  }
 },
 "nbformat": 4,
 "nbformat_minor": 5
}
