{
 "cells": [
  {
   "cell_type": "markdown",
   "id": "3d107fc4-a57c-430a-9998-e3b2893b562e",
   "metadata": {},
   "source": [
    "PyTorch command line training script recipe for training state-of-the-art computer vision models with 8 GPUs. Source: PyTorch blog.\n",
    "What we're going to cover\n",
    "\n",
    "### what we are going to cover\n",
    "The main concept of this section is: turn useful notebook code cells into reusable Python files.\n",
    "\n",
    "Doing this will save us writing the same code over and over again.\n",
    "\n",
    "There are two notebooks for this section:\n",
    "\n",
    "    1. `05. Going Modular: Part 1 (cell mode)` - this notebook is run as a traditional Jupyter Notebook/Google Colab notebook and is a condensed version of notebook 04.\n",
    "    2. `05. Going Modular: Part 2 (script mode)` - this notebook is the same as number 1 but with added functionality to turn each of the major sections into Python scripts, such as, data_setup.py and train.py.\n",
    "\n",
    "The text in this document focuses on the code cells 05. Going Modular: Part 2 (script mode), the ones with `%%writefile ...` at the top."
   ]
  },
  {
   "cell_type": "code",
   "execution_count": 1,
   "id": "c6162f11-8a9a-4148-873e-2fbc58460f1b",
   "metadata": {},
   "outputs": [
    {
     "name": "stdout",
     "output_type": "stream",
     "text": [
      "data/pizza_steak_sushi direcctory already exists ..... skippping dowload \n",
      "downloading\n",
      "inzipping pizza , steak and sushi data...\n"
     ]
    }
   ],
   "source": [
    "import requests\n",
    "import os\n",
    "import zipfile\n",
    "from pathlib import Path\n",
    "\n",
    "# set path to a data folder \n",
    "data_path = Path('data/')\n",
    "image_path = data_path /'pizza_steak_sushi'\n",
    "\n",
    "# if the image folder doesn't exist download it and prepare it....\\\n",
    "if image_path.is_dir():\n",
    "    print(f'{image_path} direcctory already exists ..... skippping dowload ')\n",
    "else :\n",
    "    print(f'{image_path} does not exist , creating onr ......')\n",
    "    image_path.mkdir(parents = True,exist_ok = True)\n",
    "\n",
    "# dowload pizza , steak and sushi data\n",
    "with open(data_path /'pizza_steak_sushi.zip','wb') as f:\n",
    "    request = requests.get('https://github.com/mrdbourke/pytorch-deep-learning/raw/main/data/pizza_steak_sushi.zip')\n",
    "    print('downloading')\n",
    "    f.write(request.content)\n",
    "# unzip \n",
    "with zipfile.ZipFile(data_path/'pizza_steak_sushi.zip','r') as zip_ref:\n",
    "    print('inzipping pizza , steak and sushi data...')\n",
    "    zip_ref.extractall(image_path)\n",
    "\n",
    "# remove zip file \n",
    "os.remove(data_path/'pizza_steak_sushi.zip')"
   ]
  },
  {
   "cell_type": "code",
   "execution_count": 2,
   "id": "35faeb07-f40b-4f93-9566-f3d116c6922e",
   "metadata": {},
   "outputs": [],
   "source": [
    "### set up trainig and testing paths \n",
    "train_dir = image_path/'train'\n",
    "test_dir =image_path/'test'"
   ]
  },
  {
   "cell_type": "code",
   "execution_count": 3,
   "id": "62500c2b-5111-487d-b8a7-501ba452bc17",
   "metadata": {},
   "outputs": [
    {
     "name": "stderr",
     "output_type": "stream",
     "text": [
      "/home/anubhav/.local/lib/python3.10/site-packages/transformers/utils/generic.py:441: UserWarning: torch.utils._pytree._register_pytree_node is deprecated. Please use torch.utils._pytree.register_pytree_node instead.\n",
      "  _torch_pytree._register_pytree_node(\n"
     ]
    },
    {
     "data": {
      "text/plain": [
       "(Dataset ImageFolder\n",
       "     Number of datapoints: 225\n",
       "     Root location: data/pizza_steak_sushi/train\n",
       "     StandardTransform\n",
       " Transform: Compose(\n",
       "                Resize(size=(64, 64), interpolation=bilinear, max_size=None, antialias=True)\n",
       "                RandomVerticalFlip(p=0.5)\n",
       "                ToTensor()\n",
       "            ),\n",
       " Dataset ImageFolder\n",
       "     Number of datapoints: 75\n",
       "     Root location: data/pizza_steak_sushi/test\n",
       "     StandardTransform\n",
       " Transform: Compose(\n",
       "                Resize(size=(64, 64), interpolation=bilinear, max_size=None, antialias=True)\n",
       "                RandomVerticalFlip(p=0.5)\n",
       "                ToTensor()\n",
       "            ))"
      ]
     },
     "execution_count": 3,
     "metadata": {},
     "output_type": "execute_result"
    }
   ],
   "source": [
    "## Create dataset and data loader \n",
    "import torch\n",
    "from torch.utils.data import DataLoader\n",
    "from torchvision import datasets , transforms\n",
    "# write a trasform for image\n",
    "data_trasform = transforms.Compose([\n",
    "    # resize our image\n",
    "    transforms.Resize(size =(64,64)),\n",
    "    # filp the image randomly on the horizontal \n",
    "    transforms.RandomVerticalFlip(p =0.5),\n",
    "    # turn the image into a torch.tensor\n",
    "    transforms.ToTensor()\n",
    "])\n",
    "train_data = datasets.ImageFolder(root= train_dir,\n",
    "                                 transform= data_trasform, # a transform for the data\n",
    "                                 target_transform= None) # transform for the labels \n",
    "\n",
    "test_data = datasets.ImageFolder(root = test_dir ,\n",
    "                                transform = data_trasform)\n",
    "\n",
    "train_data , test_data"
   ]
  },
  {
   "cell_type": "code",
   "execution_count": 4,
   "id": "1c7ee738-3368-45e7-9626-c907265209db",
   "metadata": {},
   "outputs": [
    {
     "data": {
      "text/plain": [
       "['pizza', 'steak', 'sushi']"
      ]
     },
     "execution_count": 4,
     "metadata": {},
     "output_type": "execute_result"
    }
   ],
   "source": [
    "class_names = train_data.classes\n",
    "class_names\n"
   ]
  },
  {
   "cell_type": "code",
   "execution_count": 5,
   "id": "6ccd9711-9f69-4c15-abc8-1a51c15be79e",
   "metadata": {},
   "outputs": [
    {
     "data": {
      "text/plain": [
       "{'pizza': 0, 'steak': 1, 'sushi': 2}"
      ]
     },
     "execution_count": 5,
     "metadata": {},
     "output_type": "execute_result"
    }
   ],
   "source": [
    "# get class names as dict\n",
    "class_dict = train_data.class_to_idx\n",
    "class_dict"
   ]
  },
  {
   "cell_type": "code",
   "execution_count": 6,
   "id": "cf9b71e2-a82c-47ae-a00c-f6fb63211a9b",
   "metadata": {},
   "outputs": [
    {
     "data": {
      "text/plain": [
       "(225, 75)"
      ]
     },
     "execution_count": 6,
     "metadata": {},
     "output_type": "execute_result"
    }
   ],
   "source": [
    "# check the lenghts of our datasets \n",
    "len(train_data) , len(test_data)"
   ]
  },
  {
   "cell_type": "code",
   "execution_count": 7,
   "id": "83f7598a-9c1d-4470-ac04-8ea351a94c80",
   "metadata": {},
   "outputs": [],
   "source": [
    "# turn train and test datasets into dataloader's \n",
    "from torch.utils.data import DataLoader\n",
    "BATCH_SIZE = 1\n",
    "train_dataloader = DataLoader (dataset =train_data ,\n",
    "                               batch_size =BATCH_SIZE ,\n",
    "                              num_workers= 10,\n",
    "                              shuffle= True)\n",
    "test_dataloader = DataLoader (dataset =test_data ,\n",
    "                              batch_size =BATCH_SIZE ,\n",
    "                              num_workers= 10,\n",
    "                              shuffle= False)"
   ]
  },
  {
   "cell_type": "code",
   "execution_count": 8,
   "id": "dbf5d78d-5be8-4d9f-8c33-803611e526a6",
   "metadata": {},
   "outputs": [
    {
     "name": "stdout",
     "output_type": "stream",
     "text": [
      "Image shape:torch.Size([1, 3, 64, 64])-> [batchsieze ,color_channles , height ,width]\n",
      "Lable torch.Size([1])\n"
     ]
    }
   ],
   "source": [
    "img ,lable =next(iter(train_dataloader))\n",
    "print(f'Image shape:{img.shape}-> [batchsieze ,color_channles , height ,width]')\n",
    "print(f'Lable {lable.shape}')"
   ]
  },
  {
   "cell_type": "code",
   "execution_count": null,
   "id": "f705bf08-d12b-4fb7-81b5-5b01c1e61b9d",
   "metadata": {},
   "outputs": [],
   "source": []
  },
  {
   "cell_type": "markdown",
   "id": "df6d6f3d-5cd2-4915-a0a0-ca2d1268172b",
   "metadata": {},
   "source": [
    "### 2.1 Create Dataset and Dataloader in the script mode\n",
    "Let's use the JUpyter magic function `.py`  file for creating dataloaders\n",
    "We csn save a code cell's contents to a afile using %%writefile \n"
   ]
  },
  {
   "cell_type": "code",
   "execution_count": 9,
   "id": "c08b623c-aaf9-4b7b-bb65-b5b0e4d7305e",
   "metadata": {},
   "outputs": [],
   "source": [
    "## create a directory for going modular\n",
    "import os \n",
    "# os.mkdir('going_modular')"
   ]
  },
  {
   "cell_type": "code",
   "execution_count": 10,
   "id": "a17152e8-4ddf-4831-afaa-7053e9b4ea29",
   "metadata": {},
   "outputs": [
    {
     "name": "stdout",
     "output_type": "stream",
     "text": [
      "Overwriting going_modular/data_setup.py\n"
     ]
    }
   ],
   "source": [
    "%%writefile going_modular/data_setup.py\n",
    "\n",
    "\"\"\"\n",
    "Cotntains functionlity for creating Pytorch DataLOader for imge classification data \"\"\"\n",
    "## Create dataset and data loader \n",
    "\n",
    "from torchvision import datasets , transforms\n",
    "from torch.utils.data import DataLoader\n",
    "import os\n",
    "\n",
    "NUM_WORKERS =os.cpu_count()\n",
    "\n",
    "def create_dataloaders(\n",
    "    train_dir :str,\n",
    "    test_dir:str,\n",
    "    transform : transforms.Compose,\n",
    "    batch_size = int,\n",
    "    num_workers: int = NUM_WORKERS\n",
    "    ):\n",
    "    \"\"\"\n",
    "    Create training and testing DataLoader \n",
    "    Takes in a training directory and testing directory and turn them into Pytorch\n",
    "    Dataset and then into PytorchLoader\n",
    "    \n",
    "    Args:\n",
    "     train_dir  :Path to traning directory \n",
    "     test_dir : Path to testing directory .\n",
    "     transform : trochvision transforms to traning and testing data.\n",
    "     batch_size :NUmber of samples per batch in each of the DataLoader\n",
    "     num_workers : An integers for number of wrokers per DataLoader\n",
    "\n",
    "    Returns:\n",
    "     A tuple of (traning_dataloader,test_dataloader,class_names ).\n",
    "     Where class_names is a list of the target classes.\n",
    "     Example usages  :\n",
    "     train_dataloader ,test_dataloader ,class_naem = create_dataloaders(train_dir=path/to/train_dir),\n",
    "     transform = some_transforms,\n",
    "     batcch_size =32 \n",
    "     num_workers =4\n",
    "    \"\"\"\n",
    "    # use image folder to create dataset(s)\n",
    "    train_data = datasets.ImageFolder(train_dir,transform = transform)\n",
    "    test_data  = datasets.ImageFolder(test_dir,transform= transform)\n",
    "\n",
    "    # return class_name\n",
    "    class_names = train_data.classes\n",
    "\n",
    "    # turn image into dataloaders \n",
    "    train_dataloader = DataLoader(\n",
    "       train_data,\n",
    "        batch_size= batch_size,\n",
    "        shuffle= True,\n",
    "        num_workers= num_workers,\n",
    "        pin_memory= True\n",
    "    )\n",
    "    test_dataloader = DataLoader(\n",
    "        test_data,\n",
    "        batch_size= batch_size,\n",
    "        shuffle= False,\n",
    "        num_workers= num_workers,\n",
    "        pin_memory= True\n",
    "    )\n",
    "    \n",
    "    return train_dataloader,test_dataloader,class_names\n",
    "    \n"
   ]
  },
  {
   "cell_type": "code",
   "execution_count": 11,
   "id": "48447f1e-228a-4e27-acd1-2fd086caf15c",
   "metadata": {},
   "outputs": [],
   "source": [
    "from going_modular import data_setup\n",
    "train_dataloader,test_dataloader,class_names  = data_setup.create_dataloaders(train_dir=train_dir,test_dir=test_dir,transform=data_trasform,batch_size= 32)"
   ]
  },
  {
   "cell_type": "code",
   "execution_count": 14,
   "id": "9b8b8965-bf2a-43b5-ab0e-e65255fcdaae",
   "metadata": {},
   "outputs": [
    {
     "data": {
      "text/plain": [
       "(<torch.utils.data.dataloader.DataLoader at 0x7fdc31e4f340>,\n",
       " <torch.utils.data.dataloader.DataLoader at 0x7fdc31e4d510>,\n",
       " ['pizza', 'steak', 'sushi'])"
      ]
     },
     "execution_count": 14,
     "metadata": {},
     "output_type": "execute_result"
    }
   ],
   "source": [
    "train_dataloader ,test_dataloader,class_names"
   ]
  },
  {
   "cell_type": "markdown",
   "id": "5eccb964-0764-4192-a64b-287ae0dfac14",
   "metadata": {},
   "source": [
    "### Creating a model to script "
   ]
  },
  {
   "cell_type": "code",
   "execution_count": 25,
   "id": "084582b4-24fd-459e-9e8e-1c4d2891aabf",
   "metadata": {},
   "outputs": [],
   "source": [
    "from torch import nn\n",
    "class TinyVGG(nn.Module):\n",
    "    \"\"\" \n",
    "    model architecture copying TInyVGG from CNN Expliainer \n",
    "    \"\"\"\n",
    "    def __init__(self,input_shape :int,\n",
    "                hidden_units : int,\n",
    "                output_shape : int) -> None:\n",
    "        super().__init__()\n",
    "        self.conv_block_1 = nn.Sequential(\n",
    "            nn.Conv2d(in_channels= input_shape,\n",
    "                     out_channels= hidden_units,\n",
    "                     kernel_size= 3,\n",
    "                     stride= 1,\n",
    "                     padding = 0),\n",
    "            nn.ReLU(),\n",
    "            nn.Conv2d(in_channels= hidden_units,\n",
    "                     out_channels= hidden_units,\n",
    "                     kernel_size= 3,\n",
    "                     stride = 1, \n",
    "                     padding = 0),\n",
    "            nn.ReLU(),\n",
    "            nn.MaxPool2d(kernel_size= 2, \n",
    "                        stride= 2) # default the stride size is same as the kernel size \n",
    "        )\n",
    "        self.conv_block_2 = nn.Sequential(\n",
    "            nn.Conv2d(in_channels= hidden_units,\n",
    "                     out_channels= hidden_units,\n",
    "                     kernel_size= 3,\n",
    "                     stride= 1,\n",
    "                     padding = 0),\n",
    "            nn.ReLU(),\n",
    "            nn.Conv2d(in_channels= hidden_units,\n",
    "                     out_channels= hidden_units,\n",
    "                     kernel_size= 3,\n",
    "                     stride = 1, \n",
    "                     padding = 0),\n",
    "            nn.ReLU(),\n",
    "            nn.MaxPool2d(kernel_size= 2, \n",
    "                        stride= 2) # default the stride size is same as the kernel size \n",
    "        )\n",
    "        self.classifier = nn.Sequential(\n",
    "            nn.Flatten(),\n",
    "            nn.Linear(in_features= hidden_units*13*13,\n",
    "                     out_features= output_shape)\n",
    "        )\n",
    "    def forward(self,x):\n",
    "        x = self.conv_block_1(x)\n",
    "        # print(x.shape)\n",
    "        x =self.conv_block_2(x)\n",
    "        # print(x.shape)\n",
    "        x =self.classifier(x)\n",
    "        # print(x.shape)\n",
    "        return x\n",
    "        # return self.classifier(self.conv_block_2(self.conv_block_1(x)))"
   ]
  },
  {
   "cell_type": "code",
   "execution_count": 20,
   "id": "c2030b5e-bf06-4449-895a-3eecd6c4fb17",
   "metadata": {},
   "outputs": [],
   "source": []
  },
  {
   "cell_type": "code",
   "execution_count": 27,
   "id": "954f31e8-3d77-4e43-9cb8-d7305b1c0f44",
   "metadata": {},
   "outputs": [
    {
     "data": {
      "text/plain": [
       "TinyVGG(\n",
       "  (conv_block_1): Sequential(\n",
       "    (0): Conv2d(3, 10, kernel_size=(3, 3), stride=(1, 1))\n",
       "    (1): ReLU()\n",
       "    (2): Conv2d(10, 10, kernel_size=(3, 3), stride=(1, 1))\n",
       "    (3): ReLU()\n",
       "    (4): MaxPool2d(kernel_size=2, stride=2, padding=0, dilation=1, ceil_mode=False)\n",
       "  )\n",
       "  (conv_block_2): Sequential(\n",
       "    (0): Conv2d(10, 10, kernel_size=(3, 3), stride=(1, 1))\n",
       "    (1): ReLU()\n",
       "    (2): Conv2d(10, 10, kernel_size=(3, 3), stride=(1, 1))\n",
       "    (3): ReLU()\n",
       "    (4): MaxPool2d(kernel_size=2, stride=2, padding=0, dilation=1, ceil_mode=False)\n",
       "  )\n",
       "  (classifier): Sequential(\n",
       "    (0): Flatten(start_dim=1, end_dim=-1)\n",
       "    (1): Linear(in_features=1690, out_features=3, bias=True)\n",
       "  )\n",
       ")"
      ]
     },
     "execution_count": 27,
     "metadata": {},
     "output_type": "execute_result"
    }
   ],
   "source": [
    "torch.manual_seed(42)\n",
    "device = 'cuda' if torch.cuda.is_available() else 'cpu'\n",
    "model_0 = TinyVGG(input_shape= 3, # number of colour channels in out image data\n",
    "                 hidden_units= 10,\n",
    "                 output_shape= len(class_names)).to(device)\n",
    "\n",
    "model_0"
   ]
  },
  {
   "cell_type": "code",
   "execution_count": 28,
   "id": "83281e4d-9ad7-48c3-9bfa-831087bdff71",
   "metadata": {},
   "outputs": [
    {
     "name": "stdout",
     "output_type": "stream",
     "text": [
      "single image hape :torch.Size([1, 3, 64, 64])\n",
      "output logits:\n",
      "tensor([[ 0.0208, -0.0020,  0.0095]], device='cuda:0')\n",
      "\n",
      "output prediction problities :\n",
      "tensor([[0.3371, 0.3295, 0.3333]], device='cuda:0')\n",
      "\n",
      "output lable :\n",
      "tensor([0], device='cuda:0')\n",
      "\n",
      "output actual :\n",
      "0\n",
      "\n"
     ]
    }
   ],
   "source": [
    "img_batch,label_batch =next(iter(train_dataloader))\n",
    "\n",
    "img_single ,label_single = img_batch[0].unsqueeze(dim =0),label_batch[0]\n",
    "\n",
    "print(f'single image hape :{img_single.shape}')\n",
    "\n",
    "model_0.eval()\n",
    "with torch.inference_mode():\n",
    "    pred = model_0(img_single.to(device))\n",
    "\n",
    "print(f'output logits:\\n{pred}\\n')\n",
    "print(f'output prediction problities :\\n{torch.softmax(pred,dim =1)}\\n')\n",
    "print(f'output lable :\\n{torch.argmax(torch.softmax(pred,dim =1 ),dim =1)}\\n')\n",
    "print(f'output actual :\\n{label_single}\\n')\n",
    "\n"
   ]
  },
  {
   "cell_type": "code",
   "execution_count": 31,
   "id": "07182b9d-1043-46b1-87e9-d4b2deceb3fb",
   "metadata": {},
   "outputs": [
    {
     "name": "stdout",
     "output_type": "stream",
     "text": [
      "Overwriting going_modular/model_builder.py\n"
     ]
    }
   ],
   "source": [
    "%%writefile going_modular/model_builder.py\n",
    "\"\"\"\n",
    "Contains Pytorch model code to instactiate model from a CNN expliner website\n",
    "\"\"\"\n",
    "from torch import nn\n",
    "class TinyVGG(nn.Module):\n",
    "    \"\"\" \n",
    "    model architecture copying TInyVGG from CNN Expliainer \n",
    "    \"\"\"\n",
    "    def __init__(self,input_shape :int,\n",
    "                hidden_units : int,\n",
    "                output_shape : int) -> None:\n",
    "        super().__init__()\n",
    "        self.conv_block_1 = nn.Sequential(\n",
    "            nn.Conv2d(in_channels= input_shape,\n",
    "                     out_channels= hidden_units,\n",
    "                     kernel_size= 3,\n",
    "                     stride= 1,\n",
    "                     padding = 0),\n",
    "            nn.ReLU(),\n",
    "            nn.Conv2d(in_channels= hidden_units,\n",
    "                     out_channels= hidden_units,\n",
    "                     kernel_size= 3,\n",
    "                     stride = 1, \n",
    "                     padding = 0),\n",
    "            nn.ReLU(),\n",
    "            nn.MaxPool2d(kernel_size= 2, \n",
    "                        stride= 2) # default the stride size is same as the kernel size \n",
    "        )\n",
    "        self.conv_block_2 = nn.Sequential(\n",
    "            nn.Conv2d(in_channels= hidden_units,\n",
    "                     out_channels= hidden_units,\n",
    "                     kernel_size= 3,\n",
    "                     stride= 1,\n",
    "                     padding = 0),\n",
    "            nn.ReLU(),\n",
    "            nn.Conv2d(in_channels= hidden_units,\n",
    "                     out_channels= hidden_units,\n",
    "                     kernel_size= 3,\n",
    "                     stride = 1, \n",
    "                     padding = 0),\n",
    "            nn.ReLU(),\n",
    "            nn.MaxPool2d(kernel_size= 2, \n",
    "                        stride= 2) # default the stride size is same as the kernel size \n",
    "        )\n",
    "        self.classifier = nn.Sequential(\n",
    "            nn.Flatten(),\n",
    "            nn.Linear(in_features= hidden_units*13*13,\n",
    "                     out_features= output_shape)\n",
    "        )\n",
    "    def forward(self,x):\n",
    "        x = self.conv_block_1(x)\n",
    "        # print(x.shape)\n",
    "        x =self.conv_block_2(x)\n",
    "        # print(x.shape)\n",
    "        x =self.classifier(x)\n",
    "        # print(x.shape)\n",
    "        return x\n",
    "        # return self.classifier(self.conv_block_2(self.conv_block_1(x)))"
   ]
  },
  {
   "cell_type": "code",
   "execution_count": 38,
   "id": "452c5f79-2836-4625-a912-8fcda281dfbd",
   "metadata": {},
   "outputs": [],
   "source": [
    "import torch\n",
    "from going_modular import model_builder\n",
    "device = 'cuda' if torch.cuda.is_available() else 'cpu'\n",
    "\n",
    "torch.manual_seed(42)\n",
    "input_shape = 3\n",
    "output_shape = 3\n",
    "model_1 = model_builder.TinyVGG(input_shape= input_shape,\n",
    "                                output_shape=len(class_names),\n",
    "                                hidden_units= 10).to(device)"
   ]
  },
  {
   "cell_type": "code",
   "execution_count": 39,
   "id": "1328279a-0b40-4656-abef-91f01122c136",
   "metadata": {},
   "outputs": [
    {
     "data": {
      "text/plain": [
       "TinyVGG(\n",
       "  (conv_block_1): Sequential(\n",
       "    (0): Conv2d(3, 10, kernel_size=(3, 3), stride=(1, 1))\n",
       "    (1): ReLU()\n",
       "    (2): Conv2d(10, 10, kernel_size=(3, 3), stride=(1, 1))\n",
       "    (3): ReLU()\n",
       "    (4): MaxPool2d(kernel_size=2, stride=2, padding=0, dilation=1, ceil_mode=False)\n",
       "  )\n",
       "  (conv_block_2): Sequential(\n",
       "    (0): Conv2d(10, 10, kernel_size=(3, 3), stride=(1, 1))\n",
       "    (1): ReLU()\n",
       "    (2): Conv2d(10, 10, kernel_size=(3, 3), stride=(1, 1))\n",
       "    (3): ReLU()\n",
       "    (4): MaxPool2d(kernel_size=2, stride=2, padding=0, dilation=1, ceil_mode=False)\n",
       "  )\n",
       "  (classifier): Sequential(\n",
       "    (0): Flatten(start_dim=1, end_dim=-1)\n",
       "    (1): Linear(in_features=1690, out_features=3, bias=True)\n",
       "  )\n",
       ")"
      ]
     },
     "execution_count": 39,
     "metadata": {},
     "output_type": "execute_result"
    }
   ],
   "source": [
    "model_1"
   ]
  },
  {
   "cell_type": "code",
   "execution_count": 41,
   "id": "4978bf77-5814-4337-ba16-b7a37df50466",
   "metadata": {},
   "outputs": [
    {
     "name": "stdout",
     "output_type": "stream",
     "text": [
      "single image hape :torch.Size([1, 3, 64, 64])\n",
      "output logits:\n",
      "tensor([[ 0.0234, -0.0057,  0.0138]], device='cuda:0')\n",
      "\n",
      "output prediction problities :\n",
      "tensor([[0.3376, 0.3280, 0.3344]], device='cuda:0')\n",
      "\n",
      "output lable :\n",
      "tensor([0], device='cuda:0')\n",
      "\n",
      "output actual :\n",
      "2\n",
      "\n"
     ]
    }
   ],
   "source": [
    "img_batch,label_batch =next(iter(train_dataloader))\n",
    "\n",
    "img_single ,label_single = img_batch[0].unsqueeze(dim =0),label_batch[0]\n",
    "\n",
    "print(f'single image hape :{img_single.shape}')\n",
    "\n",
    "model_1.eval()\n",
    "with torch.inference_mode():\n",
    "    pred = model_1(img_single.to(device))\n",
    "\n",
    "print(f'output logits:\\n{pred}\\n')\n",
    "print(f'output prediction problities :\\n{torch.softmax(pred,dim =1)}\\n')\n",
    "print(f'output lable :\\n{torch.argmax(torch.softmax(pred,dim =1 ),dim =1)}\\n')\n",
    "print(f'output actual :\\n{label_single}\\n')\n",
    "\n"
   ]
  },
  {
   "cell_type": "markdown",
   "id": "1ca11847-9cce-4c7a-bbb9-14f1922041b5",
   "metadata": {},
   "source": [
    "#### 4.1 turn traning function into script\n"
   ]
  },
  {
   "cell_type": "code",
   "execution_count": 46,
   "id": "34ad0ba6-caae-4685-bf98-a73b80e5e175",
   "metadata": {},
   "outputs": [
    {
     "name": "stdout",
     "output_type": "stream",
     "text": [
      "Overwriting going_modular/engine.py\n"
     ]
    }
   ],
   "source": [
    "%%writefile going_modular/engine.py\n",
    "# create a train_step ()\n",
    "from typing import Tuple, Dict, List\n",
    "from tqdm.auto import tqdm\n",
    "import torch\n",
    "\n",
    "def train_step(model: torch.nn.Module,\n",
    "               dataloader: torch.utils.data.DataLoader,\n",
    "               loss_fn: torch.nn.Module,\n",
    "               optimizer: torch.optim.Optimizer,\n",
    "               device: torch.device) -> Tuple[float, float]:\n",
    "    \"\"\"Trains a PyTorch model for a single epoch.\n",
    "\n",
    "    Turns a target PyTorch model to training mode and then\n",
    "    runs through all of the required training steps (forward\n",
    "    pass, loss calculation, optimizer step).\n",
    "\n",
    "    Args:\n",
    "        model: A PyTorch model to be trained.\n",
    "        dataloader: A DataLoader instance for the model to be trained on.\n",
    "        loss_fn: A PyTorch loss function to minimize.\n",
    "        optimizer: A PyTorch optimizer to help minimize the loss function.\n",
    "        device: A target device to compute on (e.g. \"cuda\" or \"cpu\").\n",
    "\n",
    "    Returns:\n",
    "        A tuple of training loss and training accuracy metrics.\n",
    "        In the form (train_loss, train_accuracy). For example:\n",
    "\n",
    "        (0.1112, 0.8743)\n",
    "    \"\"\"\n",
    "    # Put the model in train mode\n",
    "    model.train()\n",
    "    # Setup train loss and train accuracy values\n",
    "    train_loss, train_acc = 0, 0\n",
    "    # Loop through data batches\n",
    "    for batch, (X, y) in enumerate(dataloader):\n",
    "        # Send data to the target device\n",
    "        X, y = X.to(device), y.to(device)\n",
    "        # 1. Forward pass\n",
    "        y_pred = model(X)\n",
    "        # 2. Calculate the loss\n",
    "        loss = loss_fn(y_pred, y)\n",
    "        train_loss += loss.item()\n",
    "\n",
    "        # 3. Optimizer zero grad\n",
    "        optimizer.zero_grad()\n",
    "\n",
    "        # 4. Loss backward\n",
    "        loss.backward()\n",
    "\n",
    "        # 5. Optimizer step\n",
    "        optimizer.step()\n",
    "\n",
    "        # Calculate accuracy metric\n",
    "        y_pred_class = torch.argmax(torch.softmax(y_pred, dim=1), dim=1)\n",
    "        train_acc += (y_pred_class == y).sum().item() / len(y_pred)\n",
    "\n",
    "    # Adjust metrics to get average loss and accuracy per batch\n",
    "    train_loss = train_loss / len(dataloader)\n",
    "    train_acc = train_acc / len(dataloader)\n",
    "    return train_loss, train_acc\n",
    "\n",
    "def test_step(model: torch.nn.Module,\n",
    "              dataloader: torch.utils.data.DataLoader,\n",
    "              loss_fn: torch.nn.Module,\n",
    "              device: torch.device) -> Tuple[float, float]:\n",
    "    \"\"\"Tests a PyTorch model for a single epoch.\n",
    "\n",
    "    Turns a target PyTorch model to evaluation mode and then\n",
    "    runs through all of the required testing steps (forward\n",
    "    pass, loss calculation).\n",
    "\n",
    "    Args:\n",
    "        model: A PyTorch model to be tested.\n",
    "        dataloader: A DataLoader instance for the model to be tested on.\n",
    "        loss_fn: A PyTorch loss function to calculate loss.\n",
    "        device: A target device to compute on (e.g. \"cuda\" or \"cpu\").\n",
    "\n",
    "    Returns:\n",
    "        A tuple of test loss and test accuracy metrics.\n",
    "        In the form (test_loss, test_accuracy). For example:\n",
    "\n",
    "        (0.1112, 0.8743)\n",
    "    \"\"\"\n",
    "    # Put model in eval mode\n",
    "    model.eval()\n",
    "    # Setup test loss and test accuracy values\n",
    "    test_loss, test_acc = 0, 0\n",
    "\n",
    "    # Turn on inference mode\n",
    "    with torch.inference_mode():\n",
    "        # Loop through dataloader batches\n",
    "        for batch, (X, y) in enumerate(dataloader):\n",
    "            X, y = X.to(device), y.to(device)\n",
    "            # Forward pass\n",
    "            test_pred_logits = model(X)\n",
    "            # Calculate the loss\n",
    "            loss = loss_fn(test_pred_logits, y)\n",
    "            test_loss += loss.item()\n",
    "\n",
    "            # Calculate the accuracy\n",
    "            test_pred_labels = test_pred_logits.argmax(dim=1)\n",
    "            test_acc += ((test_pred_labels == y).sum().item() / len(test_pred_labels))\n",
    "\n",
    "    # Adjust metrics to get average loss and accuracy per batch\n",
    "    test_loss = test_loss / len(dataloader)\n",
    "    test_acc = test_acc / len(dataloader)\n",
    "    return test_loss, test_acc\n",
    "\n",
    "def train(model: torch.nn.Module, \n",
    "          train_dataloader: torch.utils.data.DataLoader, \n",
    "          test_dataloader: torch.utils.data.DataLoader, \n",
    "          optimizer: torch.optim.Optimizer,\n",
    "          loss_fn: torch.nn.Module,\n",
    "          epochs: int,\n",
    "          device: torch.device) -> Dict[str, List]:\n",
    "    \"\"\"Trains and tests a PyTorch model.\n",
    "\n",
    "    Passes a target PyTorch model through train_step() and test_step()\n",
    "    functions for a number of epochs, training and testing the model\n",
    "    in the same epoch loop.\n",
    "\n",
    "    Calculates, prints and stores evaluation metrics throughout.\n",
    "\n",
    "    Args:\n",
    "        model: A PyTorch model to be trained and tested.\n",
    "        train_dataloader: A DataLoader instance for the model to be trained on.\n",
    "        test_dataloader: A DataLoader instance for the model to be tested on.\n",
    "        optimizer: A PyTorch optimizer to help minimize the loss function.\n",
    "        loss_fn: A PyTorch loss function to calculate loss on both datasets.\n",
    "        epochs: An integer indicating how many epochs to train for.\n",
    "        device: A target device to compute on (e.g. \"cuda\" or \"cpu\").\n",
    "\n",
    "    Returns:\n",
    "        A dictionary of training and testing loss as well as training and\n",
    "        testing accuracy metrics. Each metric has a value in a list for \n",
    "        each epoch.\n",
    "        In the form: {train_loss: [...],\n",
    "                      train_acc: [...],\n",
    "                      test_loss: [...],\n",
    "                      test_acc: [...]} \n",
    "        For example if training for epochs=2: \n",
    "                     {train_loss: [2.0616, 1.0537],\n",
    "                      train_acc: [0.3945, 0.3945],\n",
    "                      test_loss: [1.2641, 1.5706],\n",
    "                      test_acc: [0.3400, 0.2973]} \n",
    "    \"\"\"\n",
    "    # Create empty results dictionary\n",
    "    results = {\"train_loss\": [],\n",
    "               \"train_acc\": [],\n",
    "               \"test_loss\": [],\n",
    "               \"test_acc\": []\n",
    "              }\n",
    "\n",
    "    # Loop through training and testing steps for a number of epochs\n",
    "    for epoch in tqdm(range(epochs)):\n",
    "        train_loss, train_acc = train_step(model=model,\n",
    "                                           dataloader=train_dataloader,\n",
    "                                           loss_fn=loss_fn,\n",
    "                                           optimizer=optimizer,\n",
    "                                           device=device)\n",
    "        test_loss, test_acc = test_step(model=model,\n",
    "                                        dataloader=test_dataloader,\n",
    "                                        loss_fn=loss_fn,\n",
    "                                        device=device)\n",
    "\n",
    "        # Print out what's happening\n",
    "        print(\n",
    "            f\"Epoch: {epoch+1} | \"\n",
    "            f\"train_loss: {train_loss:.4f} | \"\n",
    "            f\"train_acc: {train_acc:.4f} | \"\n",
    "            f\"test_loss: {test_loss:.4f} | \"\n",
    "            f\"test_acc: {test_acc:.4f}\"\n",
    "        )\n",
    "\n",
    "        # Update results dictionary\n",
    "        results[\"train_loss\"].append(train_loss)\n",
    "        results[\"train_acc\"].append(train_acc)\n",
    "        results[\"test_loss\"].append(test_loss)\n",
    "        results[\"test_acc\"].append(test_acc)\n",
    "\n",
    "    # Return the filled results at the end of the epochs\n",
    "    return results\n"
   ]
  },
  {
   "cell_type": "code",
   "execution_count": 48,
   "id": "155ee1e4-d9b5-4cf6-adb7-1e912d736346",
   "metadata": {},
   "outputs": [],
   "source": [
    "from going_modular import engine\n"
   ]
  },
  {
   "cell_type": "markdown",
   "id": "13b5d9df-5c6c-4ef1-99a9-6fddb0666118",
   "metadata": {},
   "source": [
    "###  Save the model (script mode)"
   ]
  },
  {
   "cell_type": "code",
   "execution_count": 49,
   "id": "8a958adf-afa3-4ab2-ae22-fbf0f07aae41",
   "metadata": {},
   "outputs": [
    {
     "name": "stdout",
     "output_type": "stream",
     "text": [
      "Writing going_modular/utils.py\n"
     ]
    }
   ],
   "source": [
    "%%writefile going_modular/utils.py\n",
    "\"\"\"\n",
    "Contains various utility functions for PyTorch model training and saving.\n",
    "\"\"\"\n",
    "import torch\n",
    "from pathlib import Path\n",
    "\n",
    "def save_model(model: torch.nn.Module,\n",
    "               target_dir: str,\n",
    "               model_name: str):\n",
    "  \"\"\"Saves a PyTorch model to a target directory.\n",
    "\n",
    "  Args:\n",
    "    model: A target PyTorch model to save.\n",
    "    target_dir: A directory for saving the model to.\n",
    "    model_name: A filename for the saved model. Should include\n",
    "      either \".pth\" or \".pt\" as the file extension.\n",
    "\n",
    "  Example usage:\n",
    "    save_model(model=model_0,\n",
    "               target_dir=\"models\",\n",
    "               model_name=\"05_going_modular_tingvgg_model.pth\")\n",
    "  \"\"\"\n",
    "  # Create target directory\n",
    "  target_dir_path = Path(target_dir)\n",
    "  target_dir_path.mkdir(parents=True,\n",
    "                        exist_ok=True)\n",
    "\n",
    "  # Create model save path\n",
    "  assert model_name.endswith(\".pth\") or model_name.endswith(\".pt\"), \"model_name should end with '.pt' or '.pth'\"\n",
    "  model_save_path = target_dir_path / model_name\n",
    "\n",
    "  # Save the model state_dict()\n",
    "  print(f\"[INFO] Saving model to: {model_save_path}\")\n",
    "  torch.save(obj=model.state_dict(),\n",
    "             f=model_save_path)"
   ]
  },
  {
   "cell_type": "code",
   "execution_count": 52,
   "id": "90e67842-bf55-41d2-980f-b8231c9ffe84",
   "metadata": {},
   "outputs": [
    {
     "data": {
      "text/plain": [
       "<function going_modular.utils.save_model(model: torch.nn.modules.module.Module, target_dir: str, model_name: str)>"
      ]
     },
     "execution_count": 52,
     "metadata": {},
     "output_type": "execute_result"
    }
   ],
   "source": [
    "from going_modular import utils\n",
    "utils.save_model"
   ]
  },
  {
   "cell_type": "markdown",
   "id": "eeff8674-7976-4551-aab2-dd6849ee0e23",
   "metadata": {},
   "source": [
    "### Train, evaluate and save the model (train.py)(by using our scripts)\n"
   ]
  },
  {
   "cell_type": "code",
   "execution_count": 53,
   "id": "fdfc0b52-f807-43ec-ad7f-be03ee809336",
   "metadata": {},
   "outputs": [
    {
     "name": "stdout",
     "output_type": "stream",
     "text": [
      "Writing going_modular/train.py\n"
     ]
    }
   ],
   "source": [
    "%%writefile going_modular/train.py\n",
    "\"\"\"\n",
    "Trains a PyTorch image classification model using device-agnostic code.\n",
    "\"\"\"\n",
    "\n",
    "import os\n",
    "import torch\n",
    "import data_setup, engine, model_builder, utils\n",
    "\n",
    "from torchvision import transforms\n",
    "\n",
    "# Setup hyperparameters\n",
    "NUM_EPOCHS = 5\n",
    "BATCH_SIZE = 32\n",
    "HIDDEN_UNITS = 10\n",
    "LEARNING_RATE = 0.001\n",
    "\n",
    "# Setup directories\n",
    "train_dir = \"data/pizza_steak_sushi/train\"\n",
    "test_dir = \"data/pizza_steak_sushi/test\"\n",
    "\n",
    "# Setup target device\n",
    "device = \"cuda\" if torch.cuda.is_available() else \"cpu\"\n",
    "\n",
    "# Create transforms\n",
    "data_transform = transforms.Compose([\n",
    "  transforms.Resize((64, 64)),\n",
    "  transforms.ToTensor()\n",
    "])\n",
    "\n",
    "# Create DataLoaders with help from data_setup.py\n",
    "train_dataloader, test_dataloader, class_names = data_setup.create_dataloaders(\n",
    "    train_dir=train_dir,\n",
    "    test_dir=test_dir,\n",
    "    transform=data_transform,\n",
    "    batch_size=BATCH_SIZE\n",
    ")\n",
    "\n",
    "# Create model with help from model_builder.py\n",
    "model = model_builder.TinyVGG(\n",
    "    input_shape=3,\n",
    "    hidden_units=HIDDEN_UNITS,\n",
    "    output_shape=len(class_names)\n",
    ").to(device)\n",
    "\n",
    "# Set loss and optimizer\n",
    "loss_fn = torch.nn.CrossEntropyLoss()\n",
    "optimizer = torch.optim.Adam(model.parameters(),\n",
    "                             lr=LEARNING_RATE)\n",
    "\n",
    "# Start training with help from engine.py\n",
    "engine.train(model=model,\n",
    "             train_dataloader=train_dataloader,\n",
    "             test_dataloader=test_dataloader,\n",
    "             loss_fn=loss_fn,\n",
    "             optimizer=optimizer,\n",
    "             epochs=NUM_EPOCHS,\n",
    "             device=device)\n",
    "\n",
    "# Save the model with help from utils.py\n",
    "utils.save_model(model=model,\n",
    "                 target_dir=\"models\",\n",
    "                 model_name=\"05_going_modular_script_mode_tinyvgg_model.pth\")\n"
   ]
  },
  {
   "cell_type": "code",
   "execution_count": 55,
   "id": "5de97482-5fde-4b88-8877-abd143c77ff8",
   "metadata": {},
   "outputs": [
    {
     "name": "stdout",
     "output_type": "stream",
     "text": [
      "/home/anubhav/.local/lib/python3.10/site-packages/transformers/utils/generic.py:441: UserWarning: torch.utils._pytree._register_pytree_node is deprecated. Please use torch.utils._pytree.register_pytree_node instead.\n",
      "  _torch_pytree._register_pytree_node(\n",
      "  0%|                                                     | 0/5 [00:00<?, ?it/s]/home/anubhav/.local/lib/python3.10/site-packages/torch/autograd/graph.py:744: UserWarning: Plan failed with a cudnnException: CUDNN_BACKEND_EXECUTION_PLAN_DESCRIPTOR: cudnnFinalize Descriptor Failed cudnn_status: CUDNN_STATUS_NOT_SUPPORTED (Triggered internally at ../aten/src/ATen/native/cudnn/Conv_v8.cpp:919.)\n",
      "  return Variable._execution_engine.run_backward(  # Calls into the C++ engine to run the backward pass\n",
      "/home/anubhav/.local/lib/python3.10/site-packages/torch/nn/modules/conv.py:456: UserWarning: Plan failed with a cudnnException: CUDNN_BACKEND_EXECUTION_PLAN_DESCRIPTOR: cudnnFinalize Descriptor Failed cudnn_status: CUDNN_STATUS_NOT_SUPPORTED (Triggered internally at ../aten/src/ATen/native/cudnn/Conv_v8.cpp:919.)\n",
      "  return F.conv2d(input, weight, bias, self.stride,\n",
      "Epoch: 1 | train_loss: 1.0985 | train_acc: 0.3945 | test_loss: 1.1031 | test_acc: 0.1979\n",
      " 20%|█████████                                    | 1/5 [00:02<00:10,  2.69s/it]Epoch: 2 | train_loss: 1.1042 | train_acc: 0.2930 | test_loss: 1.1124 | test_acc: 0.1979\n",
      " 40%|██████████████████                           | 2/5 [00:03<00:05,  1.80s/it]Epoch: 3 | train_loss: 1.0822 | train_acc: 0.3906 | test_loss: 1.1103 | test_acc: 0.3021\n",
      " 60%|███████████████████████████                  | 3/5 [00:04<00:02,  1.49s/it]Epoch: 4 | train_loss: 1.0715 | train_acc: 0.4570 | test_loss: 1.1160 | test_acc: 0.3438\n",
      " 80%|████████████████████████████████████         | 4/5 [00:06<00:01,  1.36s/it]Epoch: 5 | train_loss: 1.0357 | train_acc: 0.5469 | test_loss: 1.1416 | test_acc: 0.2500\n",
      "100%|█████████████████████████████████████████████| 5/5 [00:07<00:00,  1.46s/it]\n",
      "[INFO] Saving model to: models/05_going_modular_script_mode_tinyvgg_model.pth\n"
     ]
    }
   ],
   "source": [
    "!python3 going_modular/train.py"
   ]
  },
  {
   "cell_type": "code",
   "execution_count": null,
   "id": "2c90fddc-97c0-4537-960d-48f9fb67bda0",
   "metadata": {},
   "outputs": [],
   "source": []
  },
  {
   "cell_type": "code",
   "execution_count": null,
   "id": "136f6d0e-f3c9-4440-8f6d-5c2ffd304994",
   "metadata": {},
   "outputs": [],
   "source": []
  }
 ],
 "metadata": {
  "kernelspec": {
   "display_name": "Python 3 (ipykernel)",
   "language": "python",
   "name": "python3"
  },
  "language_info": {
   "codemirror_mode": {
    "name": "ipython",
    "version": 3
   },
   "file_extension": ".py",
   "mimetype": "text/x-python",
   "name": "python",
   "nbconvert_exporter": "python",
   "pygments_lexer": "ipython3",
   "version": "3.10.12"
  }
 },
 "nbformat": 4,
 "nbformat_minor": 5
}
